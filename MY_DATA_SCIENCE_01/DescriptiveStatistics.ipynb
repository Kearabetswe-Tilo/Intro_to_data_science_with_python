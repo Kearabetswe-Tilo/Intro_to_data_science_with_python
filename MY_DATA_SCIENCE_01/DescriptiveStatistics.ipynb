{
  "nbformat": 4,
  "nbformat_minor": 0,
  "metadata": {
    "colab": {
      "name": "DescriptiveStatistics.ipynb",
      "provenance": [],
      "collapsed_sections": []
    },
    "kernelspec": {
      "name": "python3",
      "display_name": "Python 3"
    },
    "language_info": {
      "name": "python"
    }
  },
  "cells": [
    {
      "cell_type": "code",
      "metadata": {
        "id": "-rx8q315sHp8"
      },
      "source": [
        "import pandas as pd\n",
        "from scipy import stats"
      ],
      "execution_count": 1,
      "outputs": []
    },
    {
      "cell_type": "code",
      "metadata": {
        "colab": {
          "resources": {
            "http://localhost:8080/nbextensions/google.colab/files.js": {
              "data": "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",
              "ok": true,
              "headers": [
                [
                  "content-type",
                  "application/javascript"
                ]
              ],
              "status": 200,
              "status_text": ""
            }
          },
          "base_uri": "https://localhost:8080/",
          "height": 73
        },
        "id": "L4xzhgsZtIIl",
        "outputId": "c5084af6-318d-4e84-f6ea-55ac57a17a11"
      },
      "source": [
        "from google.colab import files\n",
        "uploaded = files.upload()"
      ],
      "execution_count": 2,
      "outputs": [
        {
          "output_type": "display_data",
          "data": {
            "text/html": [
              "\n",
              "     <input type=\"file\" id=\"files-852b2fb9-178b-41b7-9ab8-77c7eb17cda6\" name=\"files[]\" multiple disabled\n",
              "        style=\"border:none\" />\n",
              "     <output id=\"result-852b2fb9-178b-41b7-9ab8-77c7eb17cda6\">\n",
              "      Upload widget is only available when the cell has been executed in the\n",
              "      current browser session. Please rerun this cell to enable.\n",
              "      </output>\n",
              "      <script src=\"/nbextensions/google.colab/files.js\"></script> "
            ],
            "text/plain": [
              "<IPython.core.display.HTML object>"
            ]
          },
          "metadata": {
            "tags": []
          }
        },
        {
          "output_type": "stream",
          "text": [
            "Saving client_data.csv to client_data.csv\n"
          ],
          "name": "stdout"
        }
      ]
    },
    {
      "cell_type": "code",
      "metadata": {
        "id": "NdvhOYNttMKH"
      },
      "source": [
        "import io\n",
        "df = pd.read_csv(io.BytesIO(uploaded['client_data.csv']))"
      ],
      "execution_count": 3,
      "outputs": []
    },
    {
      "cell_type": "code",
      "metadata": {
        "colab": {
          "base_uri": "https://localhost:8080/",
          "height": 662
        },
        "id": "2ITrHdOJtTg6",
        "outputId": "5c8d0b5b-ab23-4915-b936-1f7069ae7186"
      },
      "source": [
        "df.head(20)"
      ],
      "execution_count": 5,
      "outputs": [
        {
          "output_type": "execute_result",
          "data": {
            "text/html": [
              "<div>\n",
              "<style scoped>\n",
              "    .dataframe tbody tr th:only-of-type {\n",
              "        vertical-align: middle;\n",
              "    }\n",
              "\n",
              "    .dataframe tbody tr th {\n",
              "        vertical-align: top;\n",
              "    }\n",
              "\n",
              "    .dataframe thead th {\n",
              "        text-align: right;\n",
              "    }\n",
              "</style>\n",
              "<table border=\"1\" class=\"dataframe\">\n",
              "  <thead>\n",
              "    <tr style=\"text-align: right;\">\n",
              "      <th></th>\n",
              "      <th>first_name</th>\n",
              "      <th>last_name</th>\n",
              "      <th>age</th>\n",
              "      <th>children</th>\n",
              "      <th>email</th>\n",
              "      <th>job_title</th>\n",
              "      <th>home_loan</th>\n",
              "      <th>more_than_one_vehicle</th>\n",
              "      <th>fin_lit_review</th>\n",
              "      <th>savings</th>\n",
              "      <th>invest</th>\n",
              "    </tr>\n",
              "  </thead>\n",
              "  <tbody>\n",
              "    <tr>\n",
              "      <th>0</th>\n",
              "      <td>Murry</td>\n",
              "      <td>Benfield</td>\n",
              "      <td>27</td>\n",
              "      <td>4</td>\n",
              "      <td>mbenfield0@youtube.com</td>\n",
              "      <td>Senior Financial Analyst</td>\n",
              "      <td>False</td>\n",
              "      <td>False</td>\n",
              "      <td>Never</td>\n",
              "      <td>22273.88</td>\n",
              "      <td>3</td>\n",
              "    </tr>\n",
              "    <tr>\n",
              "      <th>1</th>\n",
              "      <td>Coleman</td>\n",
              "      <td>Saladino</td>\n",
              "      <td>43</td>\n",
              "      <td>1</td>\n",
              "      <td>csaladino1@trellian.com</td>\n",
              "      <td>Physical Therapy Assistant</td>\n",
              "      <td>False</td>\n",
              "      <td>False</td>\n",
              "      <td>Often</td>\n",
              "      <td>22554.66</td>\n",
              "      <td>1</td>\n",
              "    </tr>\n",
              "    <tr>\n",
              "      <th>2</th>\n",
              "      <td>Cinderella</td>\n",
              "      <td>Kermannes</td>\n",
              "      <td>65</td>\n",
              "      <td>3</td>\n",
              "      <td>ckermannes2@webeden.co.uk</td>\n",
              "      <td>Health Coach III</td>\n",
              "      <td>True</td>\n",
              "      <td>False</td>\n",
              "      <td>Monthly</td>\n",
              "      <td>32704.00</td>\n",
              "      <td>2</td>\n",
              "    </tr>\n",
              "    <tr>\n",
              "      <th>3</th>\n",
              "      <td>Wenona</td>\n",
              "      <td>Voss</td>\n",
              "      <td>26</td>\n",
              "      <td>3</td>\n",
              "      <td>wvoss3@storify.com</td>\n",
              "      <td>Quality Control Specialist</td>\n",
              "      <td>True</td>\n",
              "      <td>False</td>\n",
              "      <td>Weekly</td>\n",
              "      <td>37746.47</td>\n",
              "      <td>3</td>\n",
              "    </tr>\n",
              "    <tr>\n",
              "      <th>4</th>\n",
              "      <td>Frayda</td>\n",
              "      <td>Burles</td>\n",
              "      <td>32</td>\n",
              "      <td>1</td>\n",
              "      <td>fburles4@baidu.com</td>\n",
              "      <td>Programmer Analyst III</td>\n",
              "      <td>True</td>\n",
              "      <td>True</td>\n",
              "      <td>Never</td>\n",
              "      <td>15054.90</td>\n",
              "      <td>5</td>\n",
              "    </tr>\n",
              "    <tr>\n",
              "      <th>5</th>\n",
              "      <td>Ealasaid</td>\n",
              "      <td>Dewen</td>\n",
              "      <td>42</td>\n",
              "      <td>0</td>\n",
              "      <td>edewen5@dagondesign.com</td>\n",
              "      <td>Accountant IV</td>\n",
              "      <td>True</td>\n",
              "      <td>False</td>\n",
              "      <td>Often</td>\n",
              "      <td>31842.69</td>\n",
              "      <td>2</td>\n",
              "    </tr>\n",
              "    <tr>\n",
              "      <th>6</th>\n",
              "      <td>Courtenay</td>\n",
              "      <td>Jacqueme</td>\n",
              "      <td>63</td>\n",
              "      <td>2</td>\n",
              "      <td>cjacqueme6@thetimes.co.uk</td>\n",
              "      <td>VP Quality Control</td>\n",
              "      <td>True</td>\n",
              "      <td>True</td>\n",
              "      <td>Seldom</td>\n",
              "      <td>38774.62</td>\n",
              "      <td>2</td>\n",
              "    </tr>\n",
              "    <tr>\n",
              "      <th>7</th>\n",
              "      <td>Clara</td>\n",
              "      <td>Piggen</td>\n",
              "      <td>65</td>\n",
              "      <td>2</td>\n",
              "      <td>cpiggen7@alibaba.com</td>\n",
              "      <td>VP Accounting</td>\n",
              "      <td>True</td>\n",
              "      <td>True</td>\n",
              "      <td>Never</td>\n",
              "      <td>33896.47</td>\n",
              "      <td>1</td>\n",
              "    </tr>\n",
              "    <tr>\n",
              "      <th>8</th>\n",
              "      <td>Dulciana</td>\n",
              "      <td>Janata</td>\n",
              "      <td>29</td>\n",
              "      <td>3</td>\n",
              "      <td>djanata8@wunderground.com</td>\n",
              "      <td>Computer Systems Analyst IV</td>\n",
              "      <td>True</td>\n",
              "      <td>True</td>\n",
              "      <td>Never</td>\n",
              "      <td>23470.38</td>\n",
              "      <td>1</td>\n",
              "    </tr>\n",
              "    <tr>\n",
              "      <th>9</th>\n",
              "      <td>Dionysus</td>\n",
              "      <td>Lambeth</td>\n",
              "      <td>25</td>\n",
              "      <td>1</td>\n",
              "      <td>dlambeth9@woothemes.com</td>\n",
              "      <td>Sales Representative</td>\n",
              "      <td>True</td>\n",
              "      <td>False</td>\n",
              "      <td>Seldom</td>\n",
              "      <td>34308.99</td>\n",
              "      <td>1</td>\n",
              "    </tr>\n",
              "    <tr>\n",
              "      <th>10</th>\n",
              "      <td>Davidde</td>\n",
              "      <td>Lamont</td>\n",
              "      <td>50</td>\n",
              "      <td>1</td>\n",
              "      <td>dlamonta@cdc.gov</td>\n",
              "      <td>Database Administrator IV</td>\n",
              "      <td>True</td>\n",
              "      <td>False</td>\n",
              "      <td>Never</td>\n",
              "      <td>22755.40</td>\n",
              "      <td>3</td>\n",
              "    </tr>\n",
              "    <tr>\n",
              "      <th>11</th>\n",
              "      <td>Ilsa</td>\n",
              "      <td>Woolbrook</td>\n",
              "      <td>46</td>\n",
              "      <td>2</td>\n",
              "      <td>iwoolbrookb@twitter.com</td>\n",
              "      <td>Design Engineer</td>\n",
              "      <td>False</td>\n",
              "      <td>False</td>\n",
              "      <td>Daily</td>\n",
              "      <td>28367.06</td>\n",
              "      <td>1</td>\n",
              "    </tr>\n",
              "    <tr>\n",
              "      <th>12</th>\n",
              "      <td>Riley</td>\n",
              "      <td>Gentry</td>\n",
              "      <td>44</td>\n",
              "      <td>2</td>\n",
              "      <td>rgentryc@printfriendly.com</td>\n",
              "      <td>Administrative Officer</td>\n",
              "      <td>True</td>\n",
              "      <td>False</td>\n",
              "      <td>Monthly</td>\n",
              "      <td>25658.06</td>\n",
              "      <td>2</td>\n",
              "    </tr>\n",
              "    <tr>\n",
              "      <th>13</th>\n",
              "      <td>Casey</td>\n",
              "      <td>Roughan</td>\n",
              "      <td>52</td>\n",
              "      <td>0</td>\n",
              "      <td>croughand@noaa.gov</td>\n",
              "      <td>Staff Accountant IV</td>\n",
              "      <td>False</td>\n",
              "      <td>False</td>\n",
              "      <td>Monthly</td>\n",
              "      <td>29330.39</td>\n",
              "      <td>1</td>\n",
              "    </tr>\n",
              "    <tr>\n",
              "      <th>14</th>\n",
              "      <td>Ragnar</td>\n",
              "      <td>Poletto</td>\n",
              "      <td>60</td>\n",
              "      <td>0</td>\n",
              "      <td>rpolettoe@aboutads.info</td>\n",
              "      <td>Database Administrator I</td>\n",
              "      <td>True</td>\n",
              "      <td>False</td>\n",
              "      <td>Daily</td>\n",
              "      <td>28250.88</td>\n",
              "      <td>4</td>\n",
              "    </tr>\n",
              "    <tr>\n",
              "      <th>15</th>\n",
              "      <td>Ailyn</td>\n",
              "      <td>Biasetti</td>\n",
              "      <td>53</td>\n",
              "      <td>1</td>\n",
              "      <td>abiasettif@gmpg.org</td>\n",
              "      <td>Nurse Practicioner</td>\n",
              "      <td>False</td>\n",
              "      <td>False</td>\n",
              "      <td>Seldom</td>\n",
              "      <td>20328.99</td>\n",
              "      <td>2</td>\n",
              "    </tr>\n",
              "    <tr>\n",
              "      <th>16</th>\n",
              "      <td>Had</td>\n",
              "      <td>Stanlike</td>\n",
              "      <td>49</td>\n",
              "      <td>1</td>\n",
              "      <td>hstanlikeg@theatlantic.com</td>\n",
              "      <td>Research Associate</td>\n",
              "      <td>True</td>\n",
              "      <td>False</td>\n",
              "      <td>Never</td>\n",
              "      <td>29258.01</td>\n",
              "      <td>4</td>\n",
              "    </tr>\n",
              "    <tr>\n",
              "      <th>17</th>\n",
              "      <td>Lisha</td>\n",
              "      <td>Jarratt</td>\n",
              "      <td>36</td>\n",
              "      <td>4</td>\n",
              "      <td>ljarratth@sourceforge.net</td>\n",
              "      <td>Analog Circuit Design manager</td>\n",
              "      <td>True</td>\n",
              "      <td>True</td>\n",
              "      <td>Seldom</td>\n",
              "      <td>29749.77</td>\n",
              "      <td>5</td>\n",
              "    </tr>\n",
              "    <tr>\n",
              "      <th>18</th>\n",
              "      <td>Gaylor</td>\n",
              "      <td>Whittlesey</td>\n",
              "      <td>53</td>\n",
              "      <td>1</td>\n",
              "      <td>gwhittleseyi@devhub.com</td>\n",
              "      <td>GIS Technical Architect</td>\n",
              "      <td>False</td>\n",
              "      <td>False</td>\n",
              "      <td>Never</td>\n",
              "      <td>32974.96</td>\n",
              "      <td>5</td>\n",
              "    </tr>\n",
              "    <tr>\n",
              "      <th>19</th>\n",
              "      <td>Rivy</td>\n",
              "      <td>Callingham</td>\n",
              "      <td>42</td>\n",
              "      <td>2</td>\n",
              "      <td>rcallinghamj@census.gov</td>\n",
              "      <td>Environmental Specialist</td>\n",
              "      <td>False</td>\n",
              "      <td>True</td>\n",
              "      <td>Often</td>\n",
              "      <td>32641.67</td>\n",
              "      <td>5</td>\n",
              "    </tr>\n",
              "  </tbody>\n",
              "</table>\n",
              "</div>"
            ],
            "text/plain": [
              "    first_name   last_name  age  ...  fin_lit_review   savings invest\n",
              "0        Murry    Benfield   27  ...           Never  22273.88      3\n",
              "1      Coleman    Saladino   43  ...           Often  22554.66      1\n",
              "2   Cinderella   Kermannes   65  ...         Monthly  32704.00      2\n",
              "3       Wenona        Voss   26  ...          Weekly  37746.47      3\n",
              "4       Frayda      Burles   32  ...           Never  15054.90      5\n",
              "5     Ealasaid       Dewen   42  ...           Often  31842.69      2\n",
              "6    Courtenay    Jacqueme   63  ...          Seldom  38774.62      2\n",
              "7        Clara      Piggen   65  ...           Never  33896.47      1\n",
              "8     Dulciana      Janata   29  ...           Never  23470.38      1\n",
              "9     Dionysus     Lambeth   25  ...          Seldom  34308.99      1\n",
              "10     Davidde      Lamont   50  ...           Never  22755.40      3\n",
              "11        Ilsa   Woolbrook   46  ...           Daily  28367.06      1\n",
              "12       Riley      Gentry   44  ...         Monthly  25658.06      2\n",
              "13       Casey     Roughan   52  ...         Monthly  29330.39      1\n",
              "14      Ragnar     Poletto   60  ...           Daily  28250.88      4\n",
              "15       Ailyn    Biasetti   53  ...          Seldom  20328.99      2\n",
              "16         Had    Stanlike   49  ...           Never  29258.01      4\n",
              "17       Lisha     Jarratt   36  ...          Seldom  29749.77      5\n",
              "18      Gaylor  Whittlesey   53  ...           Never  32974.96      5\n",
              "19        Rivy  Callingham   42  ...           Often  32641.67      5\n",
              "\n",
              "[20 rows x 11 columns]"
            ]
          },
          "metadata": {
            "tags": []
          },
          "execution_count": 5
        }
      ]
    },
    {
      "cell_type": "code",
      "metadata": {
        "colab": {
          "base_uri": "https://localhost:8080/"
        },
        "id": "DroBUBmYtW89",
        "outputId": "fb402e43-fc16-430b-e2dd-2cf0efd6fbde"
      },
      "source": [
        "df.shape "
      ],
      "execution_count": 6,
      "outputs": [
        {
          "output_type": "execute_result",
          "data": {
            "text/plain": [
              "(1000, 11)"
            ]
          },
          "metadata": {
            "tags": []
          },
          "execution_count": 6
        }
      ]
    },
    {
      "cell_type": "code",
      "metadata": {
        "colab": {
          "base_uri": "https://localhost:8080/"
        },
        "id": "Tdywh9mCtkI2",
        "outputId": "adec10f5-d406-4100-9043-f86a543f5ddc"
      },
      "source": [
        "df.columns"
      ],
      "execution_count": 7,
      "outputs": [
        {
          "output_type": "execute_result",
          "data": {
            "text/plain": [
              "Index(['first_name', 'last_name', 'age', 'children', 'email', 'job_title',\n",
              "       'home_loan', 'more_than_one_vehicle', 'fin_lit_review', 'savings',\n",
              "       'invest'],\n",
              "      dtype='object')"
            ]
          },
          "metadata": {
            "tags": []
          },
          "execution_count": 7
        }
      ]
    },
    {
      "cell_type": "code",
      "metadata": {
        "colab": {
          "base_uri": "https://localhost:8080/"
        },
        "id": "nXGSBuOutlZQ",
        "outputId": "de182ef9-d62f-4abc-8355-f8cae9d55dfe"
      },
      "source": [
        "df.dtypes"
      ],
      "execution_count": 8,
      "outputs": [
        {
          "output_type": "execute_result",
          "data": {
            "text/plain": [
              "first_name                object\n",
              "last_name                 object\n",
              "age                        int64\n",
              "children                   int64\n",
              "email                     object\n",
              "job_title                 object\n",
              "home_loan                   bool\n",
              "more_than_one_vehicle       bool\n",
              "fin_lit_review            object\n",
              "savings                  float64\n",
              "invest                     int64\n",
              "dtype: object"
            ]
          },
          "metadata": {
            "tags": []
          },
          "execution_count": 8
        }
      ]
    },
    {
      "cell_type": "code",
      "metadata": {
        "colab": {
          "base_uri": "https://localhost:8080/"
        },
        "id": "QgN3ZuO5tmsz",
        "outputId": "5dc72d45-f877-46d5-b38f-6b1df30ae317"
      },
      "source": [
        "df.invest.unique()"
      ],
      "execution_count": 9,
      "outputs": [
        {
          "output_type": "execute_result",
          "data": {
            "text/plain": [
              "array([3, 1, 2, 5, 4])"
            ]
          },
          "metadata": {
            "tags": []
          },
          "execution_count": 9
        }
      ]
    },
    {
      "cell_type": "code",
      "metadata": {
        "colab": {
          "base_uri": "https://localhost:8080/"
        },
        "id": "DqaR4ykbtooI",
        "outputId": "cbff4c70-d9a7-4dd1-ec8a-4b22fa031f71"
      },
      "source": [
        "df.invest.value_counts()"
      ],
      "execution_count": 10,
      "outputs": [
        {
          "output_type": "execute_result",
          "data": {
            "text/plain": [
              "2    210\n",
              "5    208\n",
              "4    201\n",
              "1    192\n",
              "3    189\n",
              "Name: invest, dtype: int64"
            ]
          },
          "metadata": {
            "tags": []
          },
          "execution_count": 10
        }
      ]
    },
    {
      "cell_type": "code",
      "metadata": {
        "colab": {
          "base_uri": "https://localhost:8080/"
        },
        "id": "ZQW4IUautqFb",
        "outputId": "258f374f-a234-41bc-f264-3be8ea858579"
      },
      "source": [
        "df.invest.value_counts(normalize=True)"
      ],
      "execution_count": 11,
      "outputs": [
        {
          "output_type": "execute_result",
          "data": {
            "text/plain": [
              "2    0.210\n",
              "5    0.208\n",
              "4    0.201\n",
              "1    0.192\n",
              "3    0.189\n",
              "Name: invest, dtype: float64"
            ]
          },
          "metadata": {
            "tags": []
          },
          "execution_count": 11
        }
      ]
    },
    {
      "cell_type": "code",
      "metadata": {
        "colab": {
          "base_uri": "https://localhost:8080/"
        },
        "id": "jCCv2mgrtrnO",
        "outputId": "51577ae9-1c4f-45c4-c301-4493f5046822"
      },
      "source": [
        "df.invest.value_counts(normalize=True) * 100 "
      ],
      "execution_count": 12,
      "outputs": [
        {
          "output_type": "execute_result",
          "data": {
            "text/plain": [
              "2    21.0\n",
              "5    20.8\n",
              "4    20.1\n",
              "1    19.2\n",
              "3    18.9\n",
              "Name: invest, dtype: float64"
            ]
          },
          "metadata": {
            "tags": []
          },
          "execution_count": 12
        }
      ]
    },
    {
      "cell_type": "code",
      "metadata": {
        "colab": {
          "base_uri": "https://localhost:8080/"
        },
        "id": "9hZ-f9uHttwJ",
        "outputId": "8d03d76e-70a8-42ec-f494-c4388f7ba611"
      },
      "source": [
        "df.children.value_counts()"
      ],
      "execution_count": 13,
      "outputs": [
        {
          "output_type": "execute_result",
          "data": {
            "text/plain": [
              "3    218\n",
              "2    214\n",
              "1    194\n",
              "4    192\n",
              "0    182\n",
              "Name: children, dtype: int64"
            ]
          },
          "metadata": {
            "tags": []
          },
          "execution_count": 13
        }
      ]
    },
    {
      "cell_type": "code",
      "metadata": {
        "colab": {
          "base_uri": "https://localhost:8080/",
          "height": 141
        },
        "id": "8HOQ-DW9t4NP",
        "outputId": "dbf102ff-62b5-4693-f1d9-5ad69aacda55"
      },
      "source": [
        "pd.crosstab(df.home_loan, df.more_than_one_vehicle)"
      ],
      "execution_count": 14,
      "outputs": [
        {
          "output_type": "execute_result",
          "data": {
            "text/html": [
              "<div>\n",
              "<style scoped>\n",
              "    .dataframe tbody tr th:only-of-type {\n",
              "        vertical-align: middle;\n",
              "    }\n",
              "\n",
              "    .dataframe tbody tr th {\n",
              "        vertical-align: top;\n",
              "    }\n",
              "\n",
              "    .dataframe thead th {\n",
              "        text-align: right;\n",
              "    }\n",
              "</style>\n",
              "<table border=\"1\" class=\"dataframe\">\n",
              "  <thead>\n",
              "    <tr style=\"text-align: right;\">\n",
              "      <th>more_than_one_vehicle</th>\n",
              "      <th>False</th>\n",
              "      <th>True</th>\n",
              "    </tr>\n",
              "    <tr>\n",
              "      <th>home_loan</th>\n",
              "      <th></th>\n",
              "      <th></th>\n",
              "    </tr>\n",
              "  </thead>\n",
              "  <tbody>\n",
              "    <tr>\n",
              "      <th>False</th>\n",
              "      <td>268</td>\n",
              "      <td>247</td>\n",
              "    </tr>\n",
              "    <tr>\n",
              "      <th>True</th>\n",
              "      <td>239</td>\n",
              "      <td>246</td>\n",
              "    </tr>\n",
              "  </tbody>\n",
              "</table>\n",
              "</div>"
            ],
            "text/plain": [
              "more_than_one_vehicle  False  True \n",
              "home_loan                          \n",
              "False                    268    247\n",
              "True                     239    246"
            ]
          },
          "metadata": {
            "tags": []
          },
          "execution_count": 14
        }
      ]
    },
    {
      "cell_type": "code",
      "metadata": {
        "colab": {
          "base_uri": "https://localhost:8080/"
        },
        "id": "6FoE88r4uHfL",
        "outputId": "4591db6c-f070-41ba-d79c-334dc5aeb07e"
      },
      "source": [
        "df.age.mean()"
      ],
      "execution_count": 15,
      "outputs": [
        {
          "output_type": "execute_result",
          "data": {
            "text/plain": [
              "44.739"
            ]
          },
          "metadata": {
            "tags": []
          },
          "execution_count": 15
        }
      ]
    },
    {
      "cell_type": "code",
      "metadata": {
        "colab": {
          "base_uri": "https://localhost:8080/"
        },
        "id": "ez925gOUuMd6",
        "outputId": "3e47a4f0-e45b-4e53-9f08-7c30c9a8637a"
      },
      "source": [
        "df['savings'].mean()"
      ],
      "execution_count": 16,
      "outputs": [
        {
          "output_type": "execute_result",
          "data": {
            "text/plain": [
              "30136.492399999974"
            ]
          },
          "metadata": {
            "tags": []
          },
          "execution_count": 16
        }
      ]
    },
    {
      "cell_type": "code",
      "metadata": {
        "colab": {
          "base_uri": "https://localhost:8080/"
        },
        "id": "p3c6FohtuNju",
        "outputId": "ee942712-ebaf-49e9-9ea0-97f27dc04a96"
      },
      "source": [
        "df[df.home_loan == True]['age'].mean()"
      ],
      "execution_count": 17,
      "outputs": [
        {
          "output_type": "execute_result",
          "data": {
            "text/plain": [
              "44.37731958762887"
            ]
          },
          "metadata": {
            "tags": []
          },
          "execution_count": 17
        }
      ]
    },
    {
      "cell_type": "code",
      "metadata": {
        "colab": {
          "base_uri": "https://localhost:8080/"
        },
        "id": "gyfiCtqBuO-6",
        "outputId": "0e49d1dd-1da3-4aab-c9b4-738a1e6606a1"
      },
      "source": [
        "df[df.home_loan == False].age.mean()"
      ],
      "execution_count": 18,
      "outputs": [
        {
          "output_type": "execute_result",
          "data": {
            "text/plain": [
              "45.07961165048544"
            ]
          },
          "metadata": {
            "tags": []
          },
          "execution_count": 18
        }
      ]
    },
    {
      "cell_type": "code",
      "metadata": {
        "colab": {
          "base_uri": "https://localhost:8080/"
        },
        "id": "GjxTpW5yuRI6",
        "outputId": "7794dbbb-f6ab-47ac-ea1c-72e0abbdfc6f"
      },
      "source": [
        "df.groupby('home_loan')['age'].mean()"
      ],
      "execution_count": 19,
      "outputs": [
        {
          "output_type": "execute_result",
          "data": {
            "text/plain": [
              "home_loan\n",
              "False    45.079612\n",
              "True     44.377320\n",
              "Name: age, dtype: float64"
            ]
          },
          "metadata": {
            "tags": []
          },
          "execution_count": 19
        }
      ]
    },
    {
      "cell_type": "markdown",
      "metadata": {
        "id": "sJMhXoBYuZym"
      },
      "source": [
        "GEOMETRIC MEAN"
      ]
    },
    {
      "cell_type": "code",
      "metadata": {
        "colab": {
          "base_uri": "https://localhost:8080/"
        },
        "id": "GId-Wl_puSsh",
        "outputId": "7e84d533-d5c5-453a-c8c7-95f44fd699e5"
      },
      "source": [
        "stats.gmean(df.age)"
      ],
      "execution_count": 20,
      "outputs": [
        {
          "output_type": "execute_result",
          "data": {
            "text/plain": [
              "43.13095250169657"
            ]
          },
          "metadata": {
            "tags": []
          },
          "execution_count": 20
        }
      ]
    },
    {
      "cell_type": "code",
      "metadata": {
        "colab": {
          "base_uri": "https://localhost:8080/"
        },
        "id": "zWWtuYt-uXeX",
        "outputId": "db81f467-b11c-4410-ad62-2c1c56dfa735"
      },
      "source": [
        "df[df.age > 50]['savings'].median()"
      ],
      "execution_count": 21,
      "outputs": [
        {
          "output_type": "execute_result",
          "data": {
            "text/plain": [
              "30177.08"
            ]
          },
          "metadata": {
            "tags": []
          },
          "execution_count": 21
        }
      ]
    },
    {
      "cell_type": "code",
      "metadata": {
        "colab": {
          "base_uri": "https://localhost:8080/"
        },
        "id": "um3L_EjeucJt",
        "outputId": "07ab683b-8d11-4c85-e2af-d517f116c3b6"
      },
      "source": [
        "df[(df.home_loan == True) & (df.more_than_one_vehicle == True)].savings.median()"
      ],
      "execution_count": 22,
      "outputs": [
        {
          "output_type": "execute_result",
          "data": {
            "text/plain": [
              "30090.425"
            ]
          },
          "metadata": {
            "tags": []
          },
          "execution_count": 22
        }
      ]
    },
    {
      "cell_type": "code",
      "metadata": {
        "colab": {
          "base_uri": "https://localhost:8080/"
        },
        "id": "QKYTeB1YufFV",
        "outputId": "be6ce604-b45c-468d-b752-8570b21ec4ce"
      },
      "source": [
        "df[(df.home_loan == True) | (df.more_than_one_vehicle == True)].savings.median()"
      ],
      "execution_count": 23,
      "outputs": [
        {
          "output_type": "execute_result",
          "data": {
            "text/plain": [
              "30350.53"
            ]
          },
          "metadata": {
            "tags": []
          },
          "execution_count": 23
        }
      ]
    },
    {
      "cell_type": "code",
      "metadata": {
        "colab": {
          "base_uri": "https://localhost:8080/"
        },
        "id": "HQIWPBEVulJT",
        "outputId": "f7b59c6d-5cf9-4c34-e2ef-ebce5308ecf5"
      },
      "source": [
        "df.columns"
      ],
      "execution_count": 24,
      "outputs": [
        {
          "output_type": "execute_result",
          "data": {
            "text/plain": [
              "Index(['first_name', 'last_name', 'age', 'children', 'email', 'job_title',\n",
              "       'home_loan', 'more_than_one_vehicle', 'fin_lit_review', 'savings',\n",
              "       'invest'],\n",
              "      dtype='object')"
            ]
          },
          "metadata": {
            "tags": []
          },
          "execution_count": 24
        }
      ]
    },
    {
      "cell_type": "code",
      "metadata": {
        "colab": {
          "base_uri": "https://localhost:8080/"
        },
        "id": "kSq2YncLuowZ",
        "outputId": "4361abd5-a3e9-4d5e-8856-a3e4bd223485"
      },
      "source": [
        "df[(df.home_loan == True) & (df.children == 0)].age.median()"
      ],
      "execution_count": 25,
      "outputs": [
        {
          "output_type": "execute_result",
          "data": {
            "text/plain": [
              "40.5"
            ]
          },
          "metadata": {
            "tags": []
          },
          "execution_count": 25
        }
      ]
    },
    {
      "cell_type": "code",
      "metadata": {
        "colab": {
          "base_uri": "https://localhost:8080/"
        },
        "id": "W6fND1VcuqBR",
        "outputId": "497ecd4f-482b-4971-c0f4-6c68b245dd31"
      },
      "source": [
        "df.loc[(df.home_loan == True) & (df.children == 0), 'age'].median()"
      ],
      "execution_count": 26,
      "outputs": [
        {
          "output_type": "execute_result",
          "data": {
            "text/plain": [
              "40.5"
            ]
          },
          "metadata": {
            "tags": []
          },
          "execution_count": 26
        }
      ]
    },
    {
      "cell_type": "code",
      "metadata": {
        "colab": {
          "base_uri": "https://localhost:8080/"
        },
        "id": "zyAepXSCurmO",
        "outputId": "efb72fd0-a586-4e5e-f047-fb7329b48796"
      },
      "source": [
        "df.children.value_counts()"
      ],
      "execution_count": 27,
      "outputs": [
        {
          "output_type": "execute_result",
          "data": {
            "text/plain": [
              "3    218\n",
              "2    214\n",
              "1    194\n",
              "4    192\n",
              "0    182\n",
              "Name: children, dtype: int64"
            ]
          },
          "metadata": {
            "tags": []
          },
          "execution_count": 27
        }
      ]
    },
    {
      "cell_type": "markdown",
      "metadata": {
        "id": "mbMb9sADuw2e"
      },
      "source": [
        "###STANDARD DEVIATION AND VARIANCE"
      ]
    },
    {
      "cell_type": "code",
      "metadata": {
        "colab": {
          "base_uri": "https://localhost:8080/"
        },
        "id": "PVROR294utqF",
        "outputId": "57164627-3dd3-47e6-d42b-53bc9e5a246e"
      },
      "source": [
        "df.groupby('home_loan')['age'].std()"
      ],
      "execution_count": 28,
      "outputs": [
        {
          "output_type": "execute_result",
          "data": {
            "text/plain": [
              "home_loan\n",
              "False    11.612228\n",
              "True     11.833028\n",
              "Name: age, dtype: float64"
            ]
          },
          "metadata": {
            "tags": []
          },
          "execution_count": 28
        }
      ]
    },
    {
      "cell_type": "code",
      "metadata": {
        "colab": {
          "base_uri": "https://localhost:8080/"
        },
        "id": "NVOKn-NYu1DP",
        "outputId": "ec10d4f8-7577-4f39-d243-8cb21fe724d8"
      },
      "source": [
        "df.loc[(df.home_loan == True) | (df.more_than_one_vehicle == True), 'savings'].var()"
      ],
      "execution_count": 29,
      "outputs": [
        {
          "output_type": "execute_result",
          "data": {
            "text/plain": [
              "23785369.166071285"
            ]
          },
          "metadata": {
            "tags": []
          },
          "execution_count": 29
        }
      ]
    },
    {
      "cell_type": "code",
      "metadata": {
        "colab": {
          "base_uri": "https://localhost:8080/"
        },
        "id": "RelaC2xzu4Wt",
        "outputId": "a71699a3-513e-408a-f213-47bbb705efff"
      },
      "source": [
        "df.age.min()"
      ],
      "execution_count": 30,
      "outputs": [
        {
          "output_type": "execute_result",
          "data": {
            "text/plain": [
              "25"
            ]
          },
          "metadata": {
            "tags": []
          },
          "execution_count": 30
        }
      ]
    },
    {
      "cell_type": "code",
      "metadata": {
        "colab": {
          "base_uri": "https://localhost:8080/"
        },
        "id": "W2A3ADA-u61F",
        "outputId": "69107959-408d-4548-cf4e-adf26556699b"
      },
      "source": [
        "df.age.max()"
      ],
      "execution_count": 31,
      "outputs": [
        {
          "output_type": "execute_result",
          "data": {
            "text/plain": [
              "65"
            ]
          },
          "metadata": {
            "tags": []
          },
          "execution_count": 31
        }
      ]
    },
    {
      "cell_type": "code",
      "metadata": {
        "colab": {
          "base_uri": "https://localhost:8080/"
        },
        "id": "JStbarKju8O7",
        "outputId": "b427f5ec-d584-4cff-e482-9d8f6226f408"
      },
      "source": [
        "df.age.max() - df.age.min()"
      ],
      "execution_count": 32,
      "outputs": [
        {
          "output_type": "execute_result",
          "data": {
            "text/plain": [
              "40"
            ]
          },
          "metadata": {
            "tags": []
          },
          "execution_count": 32
        }
      ]
    },
    {
      "cell_type": "markdown",
      "metadata": {
        "id": "uYpfwRBPvAS1"
      },
      "source": [
        "QUANTILES"
      ]
    },
    {
      "cell_type": "code",
      "metadata": {
        "colab": {
          "base_uri": "https://localhost:8080/"
        },
        "id": "iP-4tjdKu944",
        "outputId": "bd0b0797-0d94-4fa6-808e-8710ec3b8a73"
      },
      "source": [
        "df.age.quantile([0.25, 0.5, 0.75])"
      ],
      "execution_count": 33,
      "outputs": [
        {
          "output_type": "execute_result",
          "data": {
            "text/plain": [
              "0.25    34.0\n",
              "0.50    45.0\n",
              "0.75    55.0\n",
              "Name: age, dtype: float64"
            ]
          },
          "metadata": {
            "tags": []
          },
          "execution_count": 33
        }
      ]
    },
    {
      "cell_type": "code",
      "metadata": {
        "colab": {
          "base_uri": "https://localhost:8080/"
        },
        "id": "NW9JaoL1vCU6",
        "outputId": "6d1acf1d-984a-4542-de95-fe90e296bd4c"
      },
      "source": [
        "df.groupby('home_loan')['age'].quantile(0.95)"
      ],
      "execution_count": 34,
      "outputs": [
        {
          "output_type": "execute_result",
          "data": {
            "text/plain": [
              "home_loan\n",
              "False    63.0\n",
              "True     63.0\n",
              "Name: age, dtype: float64"
            ]
          },
          "metadata": {
            "tags": []
          },
          "execution_count": 34
        }
      ]
    },
    {
      "cell_type": "code",
      "metadata": {
        "colab": {
          "base_uri": "https://localhost:8080/"
        },
        "id": "xW553LXpvGjy",
        "outputId": "02fa3335-f72d-4da1-c4b5-39a2adb9b5d5"
      },
      "source": [
        "df.age.quantile(0.75) - df.age.quantile(0.25)"
      ],
      "execution_count": 35,
      "outputs": [
        {
          "output_type": "execute_result",
          "data": {
            "text/plain": [
              "21.0"
            ]
          },
          "metadata": {
            "tags": []
          },
          "execution_count": 35
        }
      ]
    },
    {
      "cell_type": "code",
      "metadata": {
        "id": "t-HW85ItvIc4"
      },
      "source": [
        ""
      ],
      "execution_count": null,
      "outputs": []
    }
  ]
}