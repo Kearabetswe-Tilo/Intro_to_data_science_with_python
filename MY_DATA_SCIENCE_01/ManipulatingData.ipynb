{
  "nbformat": 4,
  "nbformat_minor": 0,
  "metadata": {
    "colab": {
      "name": "ManipulatingData.ipynb",
      "provenance": [],
      "collapsed_sections": []
    },
    "kernelspec": {
      "name": "python3",
      "display_name": "Python 3"
    },
    "language_info": {
      "name": "python"
    }
  },
  "cells": [
    {
      "cell_type": "code",
      "metadata": {
        "id": "rYqbes7JbjSg"
      },
      "source": [
        "import pandas as pd \n",
        "import numpy as np"
      ],
      "execution_count": 1,
      "outputs": []
    },
    {
      "cell_type": "code",
      "metadata": {
        "colab": {
          "resources": {
            "http://localhost:8080/nbextensions/google.colab/files.js": {
              "data": "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",
              "ok": true,
              "headers": [
                [
                  "content-type",
                  "application/javascript"
                ]
              ],
              "status": 200,
              "status_text": ""
            }
          },
          "base_uri": "https://localhost:8080/",
          "height": 73
        },
        "id": "WVS8ih4ueoAW",
        "outputId": "c2f2eb2b-0c05-4276-cae4-c0da66bec3e7"
      },
      "source": [
        "from google.colab import files\n",
        "uploaded = files.upload()"
      ],
      "execution_count": 2,
      "outputs": [
        {
          "output_type": "display_data",
          "data": {
            "text/html": [
              "\n",
              "     <input type=\"file\" id=\"files-0f74313a-be23-431c-bbf3-4539c5dd70ee\" name=\"files[]\" multiple disabled\n",
              "        style=\"border:none\" />\n",
              "     <output id=\"result-0f74313a-be23-431c-bbf3-4539c5dd70ee\">\n",
              "      Upload widget is only available when the cell has been executed in the\n",
              "      current browser session. Please rerun this cell to enable.\n",
              "      </output>\n",
              "      <script src=\"/nbextensions/google.colab/files.js\"></script> "
            ],
            "text/plain": [
              "<IPython.core.display.HTML object>"
            ]
          },
          "metadata": {
            "tags": []
          }
        },
        {
          "output_type": "stream",
          "text": [
            "Saving data.csv to data.csv\n"
          ],
          "name": "stdout"
        }
      ]
    },
    {
      "cell_type": "code",
      "metadata": {
        "id": "3A62Lde0er1J"
      },
      "source": [
        "import io\n",
        "df = pd.read_csv(io.BytesIO(uploaded['data.csv']))"
      ],
      "execution_count": 3,
      "outputs": []
    },
    {
      "cell_type": "code",
      "metadata": {
        "colab": {
          "base_uri": "https://localhost:8080/"
        },
        "id": "7RT7v1cMe1hc",
        "outputId": "f5bb212e-4e59-40ff-d18c-483a547aa49f"
      },
      "source": [
        "type(df) "
      ],
      "execution_count": 4,
      "outputs": [
        {
          "output_type": "execute_result",
          "data": {
            "text/plain": [
              "pandas.core.frame.DataFrame"
            ]
          },
          "metadata": {
            "tags": []
          },
          "execution_count": 4
        }
      ]
    },
    {
      "cell_type": "code",
      "metadata": {
        "colab": {
          "base_uri": "https://localhost:8080/"
        },
        "id": "0dfpg5xSe6IS",
        "outputId": "7cf12f08-6ca7-45c1-95b0-651fe3e80f59"
      },
      "source": [
        "dir(df)"
      ],
      "execution_count": 5,
      "outputs": [
        {
          "output_type": "execute_result",
          "data": {
            "text/plain": [
              "['Age',\n",
              " 'CholesterolAfter',\n",
              " 'CholesterolBefore',\n",
              " 'DOB',\n",
              " 'Delta',\n",
              " 'Group',\n",
              " 'HR',\n",
              " 'Name',\n",
              " 'Smoke',\n",
              " 'Survey',\n",
              " 'T',\n",
              " 'TAG',\n",
              " 'Vocation',\n",
              " '_AXIS_LEN',\n",
              " '_AXIS_NAMES',\n",
              " '_AXIS_NUMBERS',\n",
              " '_AXIS_ORDERS',\n",
              " '_AXIS_REVERSED',\n",
              " '_AXIS_TO_AXIS_NUMBER',\n",
              " '__abs__',\n",
              " '__add__',\n",
              " '__and__',\n",
              " '__annotations__',\n",
              " '__array__',\n",
              " '__array_priority__',\n",
              " '__array_wrap__',\n",
              " '__bool__',\n",
              " '__class__',\n",
              " '__contains__',\n",
              " '__copy__',\n",
              " '__deepcopy__',\n",
              " '__delattr__',\n",
              " '__delitem__',\n",
              " '__dict__',\n",
              " '__dir__',\n",
              " '__div__',\n",
              " '__doc__',\n",
              " '__eq__',\n",
              " '__finalize__',\n",
              " '__floordiv__',\n",
              " '__format__',\n",
              " '__ge__',\n",
              " '__getattr__',\n",
              " '__getattribute__',\n",
              " '__getitem__',\n",
              " '__getstate__',\n",
              " '__gt__',\n",
              " '__hash__',\n",
              " '__iadd__',\n",
              " '__iand__',\n",
              " '__ifloordiv__',\n",
              " '__imod__',\n",
              " '__imul__',\n",
              " '__init__',\n",
              " '__init_subclass__',\n",
              " '__invert__',\n",
              " '__ior__',\n",
              " '__ipow__',\n",
              " '__isub__',\n",
              " '__iter__',\n",
              " '__itruediv__',\n",
              " '__ixor__',\n",
              " '__le__',\n",
              " '__len__',\n",
              " '__lt__',\n",
              " '__matmul__',\n",
              " '__mod__',\n",
              " '__module__',\n",
              " '__mul__',\n",
              " '__ne__',\n",
              " '__neg__',\n",
              " '__new__',\n",
              " '__nonzero__',\n",
              " '__or__',\n",
              " '__pos__',\n",
              " '__pow__',\n",
              " '__radd__',\n",
              " '__rand__',\n",
              " '__rdiv__',\n",
              " '__reduce__',\n",
              " '__reduce_ex__',\n",
              " '__repr__',\n",
              " '__rfloordiv__',\n",
              " '__rmatmul__',\n",
              " '__rmod__',\n",
              " '__rmul__',\n",
              " '__ror__',\n",
              " '__round__',\n",
              " '__rpow__',\n",
              " '__rsub__',\n",
              " '__rtruediv__',\n",
              " '__rxor__',\n",
              " '__setattr__',\n",
              " '__setitem__',\n",
              " '__setstate__',\n",
              " '__sizeof__',\n",
              " '__str__',\n",
              " '__sub__',\n",
              " '__subclasshook__',\n",
              " '__truediv__',\n",
              " '__weakref__',\n",
              " '__xor__',\n",
              " '_accessors',\n",
              " '_add_numeric_operations',\n",
              " '_add_series_or_dataframe_operations',\n",
              " '_agg_by_level',\n",
              " '_agg_examples_doc',\n",
              " '_agg_summary_and_see_also_doc',\n",
              " '_aggregate',\n",
              " '_aggregate_multiple_funcs',\n",
              " '_align_frame',\n",
              " '_align_series',\n",
              " '_box_col_values',\n",
              " '_builtin_table',\n",
              " '_can_fast_transpose',\n",
              " '_check_inplace_setting',\n",
              " '_check_is_chained_assignment_possible',\n",
              " '_check_label_or_level_ambiguity',\n",
              " '_check_setitem_copy',\n",
              " '_clear_item_cache',\n",
              " '_clip_with_one_bound',\n",
              " '_clip_with_scalar',\n",
              " '_combine_frame',\n",
              " '_consolidate',\n",
              " '_consolidate_inplace',\n",
              " '_construct_axes_dict',\n",
              " '_construct_axes_from_arguments',\n",
              " '_construct_result',\n",
              " '_constructor',\n",
              " '_constructor_expanddim',\n",
              " '_constructor_sliced',\n",
              " '_convert',\n",
              " '_count_level',\n",
              " '_cython_table',\n",
              " '_data',\n",
              " '_deprecations',\n",
              " '_dir_additions',\n",
              " '_dir_deletions',\n",
              " '_drop_axis',\n",
              " '_drop_labels_or_levels',\n",
              " '_ensure_valid_index',\n",
              " '_find_valid_index',\n",
              " '_from_arrays',\n",
              " '_get_agg_axis',\n",
              " '_get_axis',\n",
              " '_get_axis_name',\n",
              " '_get_axis_number',\n",
              " '_get_axis_resolvers',\n",
              " '_get_block_manager_axis',\n",
              " '_get_bool_data',\n",
              " '_get_cacher',\n",
              " '_get_cleaned_column_resolvers',\n",
              " '_get_column_array',\n",
              " '_get_cython_func',\n",
              " '_get_index_resolvers',\n",
              " '_get_item_cache',\n",
              " '_get_label_or_level_values',\n",
              " '_get_numeric_data',\n",
              " '_get_value',\n",
              " '_getitem_bool_array',\n",
              " '_getitem_multilevel',\n",
              " '_gotitem',\n",
              " '_indexed_same',\n",
              " '_info_axis',\n",
              " '_info_axis_name',\n",
              " '_info_axis_number',\n",
              " '_info_repr',\n",
              " '_init_mgr',\n",
              " '_internal_names',\n",
              " '_internal_names_set',\n",
              " '_is_builtin_func',\n",
              " '_is_cached',\n",
              " '_is_copy',\n",
              " '_is_homogeneous_type',\n",
              " '_is_label_or_level_reference',\n",
              " '_is_label_reference',\n",
              " '_is_level_reference',\n",
              " '_is_mixed_type',\n",
              " '_is_view',\n",
              " '_iset_item',\n",
              " '_iter_column_arrays',\n",
              " '_ix',\n",
              " '_ixs',\n",
              " '_join_compat',\n",
              " '_maybe_cache_changed',\n",
              " '_maybe_update_cacher',\n",
              " '_metadata',\n",
              " '_needs_reindex_multi',\n",
              " '_obj_with_exclusions',\n",
              " '_protect_consolidate',\n",
              " '_reduce',\n",
              " '_reindex_axes',\n",
              " '_reindex_columns',\n",
              " '_reindex_index',\n",
              " '_reindex_multi',\n",
              " '_reindex_with_indexers',\n",
              " '_replace_columnwise',\n",
              " '_repr_data_resource_',\n",
              " '_repr_fits_horizontal_',\n",
              " '_repr_fits_vertical_',\n",
              " '_repr_html_',\n",
              " '_repr_latex_',\n",
              " '_reset_cache',\n",
              " '_reset_cacher',\n",
              " '_sanitize_column',\n",
              " '_selected_obj',\n",
              " '_selection',\n",
              " '_selection_list',\n",
              " '_selection_name',\n",
              " '_series',\n",
              " '_set_as_cached',\n",
              " '_set_axis',\n",
              " '_set_axis_name',\n",
              " '_set_is_copy',\n",
              " '_set_item',\n",
              " '_set_value',\n",
              " '_setitem_array',\n",
              " '_setitem_frame',\n",
              " '_setitem_slice',\n",
              " '_slice',\n",
              " '_stat_axis',\n",
              " '_stat_axis_name',\n",
              " '_stat_axis_number',\n",
              " '_take_with_is_copy',\n",
              " '_to_dict_of_blocks',\n",
              " '_try_aggregate_string_function',\n",
              " '_typ',\n",
              " '_update_inplace',\n",
              " '_validate_dtype',\n",
              " '_values',\n",
              " '_where',\n",
              " 'abs',\n",
              " 'add',\n",
              " 'add_prefix',\n",
              " 'add_suffix',\n",
              " 'agg',\n",
              " 'aggregate',\n",
              " 'align',\n",
              " 'all',\n",
              " 'any',\n",
              " 'append',\n",
              " 'apply',\n",
              " 'applymap',\n",
              " 'asfreq',\n",
              " 'asof',\n",
              " 'assign',\n",
              " 'astype',\n",
              " 'at',\n",
              " 'at_time',\n",
              " 'attrs',\n",
              " 'axes',\n",
              " 'backfill',\n",
              " 'between_time',\n",
              " 'bfill',\n",
              " 'bool',\n",
              " 'boxplot',\n",
              " 'clip',\n",
              " 'columns',\n",
              " 'combine',\n",
              " 'combine_first',\n",
              " 'compare',\n",
              " 'convert_dtypes',\n",
              " 'copy',\n",
              " 'corr',\n",
              " 'corrwith',\n",
              " 'count',\n",
              " 'cov',\n",
              " 'cummax',\n",
              " 'cummin',\n",
              " 'cumprod',\n",
              " 'cumsum',\n",
              " 'describe',\n",
              " 'diff',\n",
              " 'div',\n",
              " 'divide',\n",
              " 'dot',\n",
              " 'drop',\n",
              " 'drop_duplicates',\n",
              " 'droplevel',\n",
              " 'dropna',\n",
              " 'dtypes',\n",
              " 'duplicated',\n",
              " 'empty',\n",
              " 'eq',\n",
              " 'equals',\n",
              " 'eval',\n",
              " 'ewm',\n",
              " 'expanding',\n",
              " 'explode',\n",
              " 'ffill',\n",
              " 'fillna',\n",
              " 'filter',\n",
              " 'first',\n",
              " 'first_valid_index',\n",
              " 'floordiv',\n",
              " 'from_dict',\n",
              " 'from_records',\n",
              " 'ge',\n",
              " 'get',\n",
              " 'groupby',\n",
              " 'gt',\n",
              " 'head',\n",
              " 'hist',\n",
              " 'iat',\n",
              " 'idxmax',\n",
              " 'idxmin',\n",
              " 'iloc',\n",
              " 'index',\n",
              " 'infer_objects',\n",
              " 'info',\n",
              " 'insert',\n",
              " 'interpolate',\n",
              " 'isin',\n",
              " 'isna',\n",
              " 'isnull',\n",
              " 'items',\n",
              " 'iteritems',\n",
              " 'iterrows',\n",
              " 'itertuples',\n",
              " 'join',\n",
              " 'keys',\n",
              " 'kurt',\n",
              " 'kurtosis',\n",
              " 'last',\n",
              " 'last_valid_index',\n",
              " 'le',\n",
              " 'loc',\n",
              " 'lookup',\n",
              " 'lt',\n",
              " 'mad',\n",
              " 'mask',\n",
              " 'max',\n",
              " 'mean',\n",
              " 'median',\n",
              " 'melt',\n",
              " 'memory_usage',\n",
              " 'merge',\n",
              " 'min',\n",
              " 'mod',\n",
              " 'mode',\n",
              " 'mul',\n",
              " 'multiply',\n",
              " 'ndim',\n",
              " 'ne',\n",
              " 'nlargest',\n",
              " 'notna',\n",
              " 'notnull',\n",
              " 'nsmallest',\n",
              " 'nunique',\n",
              " 'pad',\n",
              " 'pct_change',\n",
              " 'pipe',\n",
              " 'pivot',\n",
              " 'pivot_table',\n",
              " 'plot',\n",
              " 'pop',\n",
              " 'pow',\n",
              " 'prod',\n",
              " 'product',\n",
              " 'quantile',\n",
              " 'query',\n",
              " 'radd',\n",
              " 'rank',\n",
              " 'rdiv',\n",
              " 'reindex',\n",
              " 'reindex_like',\n",
              " 'rename',\n",
              " 'rename_axis',\n",
              " 'reorder_levels',\n",
              " 'replace',\n",
              " 'resample',\n",
              " 'reset_index',\n",
              " 'rfloordiv',\n",
              " 'rmod',\n",
              " 'rmul',\n",
              " 'rolling',\n",
              " 'round',\n",
              " 'rpow',\n",
              " 'rsub',\n",
              " 'rtruediv',\n",
              " 'sBP',\n",
              " 'sample',\n",
              " 'select_dtypes',\n",
              " 'sem',\n",
              " 'set_axis',\n",
              " 'set_index',\n",
              " 'shape',\n",
              " 'shift',\n",
              " 'size',\n",
              " 'skew',\n",
              " 'slice_shift',\n",
              " 'sort_index',\n",
              " 'sort_values',\n",
              " 'squeeze',\n",
              " 'stack',\n",
              " 'std',\n",
              " 'style',\n",
              " 'sub',\n",
              " 'subtract',\n",
              " 'sum',\n",
              " 'swapaxes',\n",
              " 'swaplevel',\n",
              " 'tail',\n",
              " 'take',\n",
              " 'to_clipboard',\n",
              " 'to_csv',\n",
              " 'to_dict',\n",
              " 'to_excel',\n",
              " 'to_feather',\n",
              " 'to_gbq',\n",
              " 'to_hdf',\n",
              " 'to_html',\n",
              " 'to_json',\n",
              " 'to_latex',\n",
              " 'to_markdown',\n",
              " 'to_numpy',\n",
              " 'to_parquet',\n",
              " 'to_period',\n",
              " 'to_pickle',\n",
              " 'to_records',\n",
              " 'to_sql',\n",
              " 'to_stata',\n",
              " 'to_string',\n",
              " 'to_timestamp',\n",
              " 'to_xarray',\n",
              " 'transform',\n",
              " 'transpose',\n",
              " 'truediv',\n",
              " 'truncate',\n",
              " 'tz_convert',\n",
              " 'tz_localize',\n",
              " 'unstack',\n",
              " 'update',\n",
              " 'value_counts',\n",
              " 'values',\n",
              " 'var',\n",
              " 'where',\n",
              " 'xs']"
            ]
          },
          "metadata": {
            "tags": []
          },
          "execution_count": 5
        }
      ]
    },
    {
      "cell_type": "code",
      "metadata": {
        "colab": {
          "base_uri": "https://localhost:8080/",
          "height": 662
        },
        "id": "TIlDbalge7-2",
        "outputId": "caa070b4-09f8-4420-c7a3-ef7abaf73388"
      },
      "source": [
        "df.head(20)"
      ],
      "execution_count": 6,
      "outputs": [
        {
          "output_type": "execute_result",
          "data": {
            "text/html": [
              "<div>\n",
              "<style scoped>\n",
              "    .dataframe tbody tr th:only-of-type {\n",
              "        vertical-align: middle;\n",
              "    }\n",
              "\n",
              "    .dataframe tbody tr th {\n",
              "        vertical-align: top;\n",
              "    }\n",
              "\n",
              "    .dataframe thead th {\n",
              "        text-align: right;\n",
              "    }\n",
              "</style>\n",
              "<table border=\"1\" class=\"dataframe\">\n",
              "  <thead>\n",
              "    <tr style=\"text-align: right;\">\n",
              "      <th></th>\n",
              "      <th>Name</th>\n",
              "      <th>DOB</th>\n",
              "      <th>Age</th>\n",
              "      <th>Vocation</th>\n",
              "      <th>Smoke</th>\n",
              "      <th>HR</th>\n",
              "      <th>sBP</th>\n",
              "      <th>CholesterolBefore</th>\n",
              "      <th>TAG</th>\n",
              "      <th>Survey</th>\n",
              "      <th>CholesterolAfter</th>\n",
              "      <th>Delta</th>\n",
              "      <th>Group</th>\n",
              "    </tr>\n",
              "  </thead>\n",
              "  <tbody>\n",
              "    <tr>\n",
              "      <th>0</th>\n",
              "      <td>Dylan Patton</td>\n",
              "      <td>1981-10-07</td>\n",
              "      <td>43</td>\n",
              "      <td>Energy manager</td>\n",
              "      <td>0</td>\n",
              "      <td>47</td>\n",
              "      <td>145</td>\n",
              "      <td>1.2</td>\n",
              "      <td>1.2</td>\n",
              "      <td>1</td>\n",
              "      <td>0.7</td>\n",
              "      <td>0.5</td>\n",
              "      <td>Active</td>\n",
              "    </tr>\n",
              "    <tr>\n",
              "      <th>1</th>\n",
              "      <td>Sandra Howard</td>\n",
              "      <td>1993-01-27</td>\n",
              "      <td>53</td>\n",
              "      <td>Tax adviser</td>\n",
              "      <td>0</td>\n",
              "      <td>51</td>\n",
              "      <td>115</td>\n",
              "      <td>1.2</td>\n",
              "      <td>0.6</td>\n",
              "      <td>3</td>\n",
              "      <td>1.0</td>\n",
              "      <td>0.2</td>\n",
              "      <td>Active</td>\n",
              "    </tr>\n",
              "    <tr>\n",
              "      <th>2</th>\n",
              "      <td>Samantha Williams</td>\n",
              "      <td>1973-12-21</td>\n",
              "      <td>33</td>\n",
              "      <td>IT consultant</td>\n",
              "      <td>0</td>\n",
              "      <td>54</td>\n",
              "      <td>120</td>\n",
              "      <td>2.0</td>\n",
              "      <td>1.3</td>\n",
              "      <td>3</td>\n",
              "      <td>1.7</td>\n",
              "      <td>0.3</td>\n",
              "      <td>Active</td>\n",
              "    </tr>\n",
              "    <tr>\n",
              "      <th>3</th>\n",
              "      <td>Ashley Hensley</td>\n",
              "      <td>1981-12-01</td>\n",
              "      <td>43</td>\n",
              "      <td>Nurse, children's</td>\n",
              "      <td>0</td>\n",
              "      <td>54</td>\n",
              "      <td>103</td>\n",
              "      <td>2.1</td>\n",
              "      <td>1.6</td>\n",
              "      <td>4</td>\n",
              "      <td>2.1</td>\n",
              "      <td>0.0</td>\n",
              "      <td>Active</td>\n",
              "    </tr>\n",
              "    <tr>\n",
              "      <th>4</th>\n",
              "      <td>Robert Wilson</td>\n",
              "      <td>1964-06-23</td>\n",
              "      <td>46</td>\n",
              "      <td>Clinical embryologist</td>\n",
              "      <td>0</td>\n",
              "      <td>61</td>\n",
              "      <td>138</td>\n",
              "      <td>2.8</td>\n",
              "      <td>2.1</td>\n",
              "      <td>5</td>\n",
              "      <td>2.8</td>\n",
              "      <td>0.0</td>\n",
              "      <td>Active</td>\n",
              "    </tr>\n",
              "    <tr>\n",
              "      <th>5</th>\n",
              "      <td>Leslie Diaz</td>\n",
              "      <td>1994-08-25</td>\n",
              "      <td>48</td>\n",
              "      <td>Politician's assistant</td>\n",
              "      <td>0</td>\n",
              "      <td>59</td>\n",
              "      <td>122</td>\n",
              "      <td>2.8</td>\n",
              "      <td>1.4</td>\n",
              "      <td>4</td>\n",
              "      <td>2.6</td>\n",
              "      <td>0.2</td>\n",
              "      <td>Active</td>\n",
              "    </tr>\n",
              "    <tr>\n",
              "      <th>6</th>\n",
              "      <td>Frank Zimmerman</td>\n",
              "      <td>1981-03-04</td>\n",
              "      <td>54</td>\n",
              "      <td>Police officer</td>\n",
              "      <td>0</td>\n",
              "      <td>60</td>\n",
              "      <td>129</td>\n",
              "      <td>2.9</td>\n",
              "      <td>2.4</td>\n",
              "      <td>1</td>\n",
              "      <td>2.6</td>\n",
              "      <td>0.3</td>\n",
              "      <td>Active</td>\n",
              "    </tr>\n",
              "    <tr>\n",
              "      <th>7</th>\n",
              "      <td>Aaron Harris</td>\n",
              "      <td>1948-01-10</td>\n",
              "      <td>58</td>\n",
              "      <td>Nurse, children's</td>\n",
              "      <td>0</td>\n",
              "      <td>61</td>\n",
              "      <td>131</td>\n",
              "      <td>3.1</td>\n",
              "      <td>2.2</td>\n",
              "      <td>1</td>\n",
              "      <td>2.9</td>\n",
              "      <td>0.2</td>\n",
              "      <td>Active</td>\n",
              "    </tr>\n",
              "    <tr>\n",
              "      <th>8</th>\n",
              "      <td>William Smith</td>\n",
              "      <td>1998-11-20</td>\n",
              "      <td>44</td>\n",
              "      <td>Scientific laboratory technician</td>\n",
              "      <td>0</td>\n",
              "      <td>58</td>\n",
              "      <td>111</td>\n",
              "      <td>3.1</td>\n",
              "      <td>2.4</td>\n",
              "      <td>1</td>\n",
              "      <td>2.8</td>\n",
              "      <td>0.3</td>\n",
              "      <td>Control</td>\n",
              "    </tr>\n",
              "    <tr>\n",
              "      <th>9</th>\n",
              "      <td>Andrea Fletcher</td>\n",
              "      <td>1955-12-23</td>\n",
              "      <td>31</td>\n",
              "      <td>Lexicographer</td>\n",
              "      <td>0</td>\n",
              "      <td>59</td>\n",
              "      <td>122</td>\n",
              "      <td>3.2</td>\n",
              "      <td>1.7</td>\n",
              "      <td>5</td>\n",
              "      <td>2.8</td>\n",
              "      <td>0.4</td>\n",
              "      <td>Active</td>\n",
              "    </tr>\n",
              "    <tr>\n",
              "      <th>10</th>\n",
              "      <td>James Wells</td>\n",
              "      <td>1998-08-09</td>\n",
              "      <td>45</td>\n",
              "      <td>Charity fundraiser</td>\n",
              "      <td>0</td>\n",
              "      <td>62</td>\n",
              "      <td>121</td>\n",
              "      <td>3.2</td>\n",
              "      <td>1.7</td>\n",
              "      <td>4</td>\n",
              "      <td>2.7</td>\n",
              "      <td>0.5</td>\n",
              "      <td>Active</td>\n",
              "    </tr>\n",
              "    <tr>\n",
              "      <th>11</th>\n",
              "      <td>Lisa Perez</td>\n",
              "      <td>1983-09-05</td>\n",
              "      <td>35</td>\n",
              "      <td>Chief Marketing Officer</td>\n",
              "      <td>0</td>\n",
              "      <td>61</td>\n",
              "      <td>119</td>\n",
              "      <td>3.3</td>\n",
              "      <td>2.0</td>\n",
              "      <td>3</td>\n",
              "      <td>2.9</td>\n",
              "      <td>0.4</td>\n",
              "      <td>Active</td>\n",
              "    </tr>\n",
              "    <tr>\n",
              "      <th>12</th>\n",
              "      <td>Desiree Sandoval</td>\n",
              "      <td>1981-11-08</td>\n",
              "      <td>49</td>\n",
              "      <td>Hydrologist</td>\n",
              "      <td>0</td>\n",
              "      <td>61</td>\n",
              "      <td>135</td>\n",
              "      <td>3.3</td>\n",
              "      <td>2.3</td>\n",
              "      <td>5</td>\n",
              "      <td>3.1</td>\n",
              "      <td>0.2</td>\n",
              "      <td>Active</td>\n",
              "    </tr>\n",
              "    <tr>\n",
              "      <th>13</th>\n",
              "      <td>Karen Knight</td>\n",
              "      <td>1941-06-14</td>\n",
              "      <td>56</td>\n",
              "      <td>Advertising account planner</td>\n",
              "      <td>0</td>\n",
              "      <td>62</td>\n",
              "      <td>134</td>\n",
              "      <td>3.4</td>\n",
              "      <td>2.1</td>\n",
              "      <td>2</td>\n",
              "      <td>3.3</td>\n",
              "      <td>0.1</td>\n",
              "      <td>Control</td>\n",
              "    </tr>\n",
              "    <tr>\n",
              "      <th>14</th>\n",
              "      <td>Evan Stewart</td>\n",
              "      <td>1934-12-22</td>\n",
              "      <td>57</td>\n",
              "      <td>Web designer</td>\n",
              "      <td>0</td>\n",
              "      <td>75</td>\n",
              "      <td>162</td>\n",
              "      <td>3.5</td>\n",
              "      <td>2.4</td>\n",
              "      <td>3</td>\n",
              "      <td>3.4</td>\n",
              "      <td>0.1</td>\n",
              "      <td>Active</td>\n",
              "    </tr>\n",
              "    <tr>\n",
              "      <th>15</th>\n",
              "      <td>Mark Johnson</td>\n",
              "      <td>1958-11-22</td>\n",
              "      <td>38</td>\n",
              "      <td>Lobbyist</td>\n",
              "      <td>2</td>\n",
              "      <td>62</td>\n",
              "      <td>140</td>\n",
              "      <td>3.5</td>\n",
              "      <td>2.6</td>\n",
              "      <td>1</td>\n",
              "      <td>2.9</td>\n",
              "      <td>0.6</td>\n",
              "      <td>Active</td>\n",
              "    </tr>\n",
              "    <tr>\n",
              "      <th>16</th>\n",
              "      <td>Roger Chen</td>\n",
              "      <td>1985-11-19</td>\n",
              "      <td>35</td>\n",
              "      <td>Photographer</td>\n",
              "      <td>0</td>\n",
              "      <td>59</td>\n",
              "      <td>121</td>\n",
              "      <td>3.5</td>\n",
              "      <td>2.3</td>\n",
              "      <td>2</td>\n",
              "      <td>3.4</td>\n",
              "      <td>0.1</td>\n",
              "      <td>Control</td>\n",
              "    </tr>\n",
              "    <tr>\n",
              "      <th>17</th>\n",
              "      <td>Dennis Sanchez</td>\n",
              "      <td>1945-10-25</td>\n",
              "      <td>50</td>\n",
              "      <td>Chartered loss adjuster</td>\n",
              "      <td>0</td>\n",
              "      <td>63</td>\n",
              "      <td>129</td>\n",
              "      <td>3.5</td>\n",
              "      <td>2.5</td>\n",
              "      <td>1</td>\n",
              "      <td>3.5</td>\n",
              "      <td>0.0</td>\n",
              "      <td>Active</td>\n",
              "    </tr>\n",
              "    <tr>\n",
              "      <th>18</th>\n",
              "      <td>Eric Hendrix</td>\n",
              "      <td>1969-05-04</td>\n",
              "      <td>45</td>\n",
              "      <td>Community education officer</td>\n",
              "      <td>2</td>\n",
              "      <td>61</td>\n",
              "      <td>138</td>\n",
              "      <td>3.6</td>\n",
              "      <td>2.3</td>\n",
              "      <td>1</td>\n",
              "      <td>3.2</td>\n",
              "      <td>0.4</td>\n",
              "      <td>Control</td>\n",
              "    </tr>\n",
              "    <tr>\n",
              "      <th>19</th>\n",
              "      <td>Kathleen Burnett</td>\n",
              "      <td>1970-03-23</td>\n",
              "      <td>49</td>\n",
              "      <td>Occupational hygienist</td>\n",
              "      <td>0</td>\n",
              "      <td>64</td>\n",
              "      <td>144</td>\n",
              "      <td>3.7</td>\n",
              "      <td>2.2</td>\n",
              "      <td>1</td>\n",
              "      <td>3.7</td>\n",
              "      <td>0.0</td>\n",
              "      <td>Active</td>\n",
              "    </tr>\n",
              "  </tbody>\n",
              "</table>\n",
              "</div>"
            ],
            "text/plain": [
              "                 Name         DOB  Age  ... CholesterolAfter  Delta    Group\n",
              "0        Dylan Patton  1981-10-07   43  ...              0.7    0.5   Active\n",
              "1       Sandra Howard  1993-01-27   53  ...              1.0    0.2   Active\n",
              "2   Samantha Williams  1973-12-21   33  ...              1.7    0.3   Active\n",
              "3      Ashley Hensley  1981-12-01   43  ...              2.1    0.0   Active\n",
              "4       Robert Wilson  1964-06-23   46  ...              2.8    0.0   Active\n",
              "5         Leslie Diaz  1994-08-25   48  ...              2.6    0.2   Active\n",
              "6     Frank Zimmerman  1981-03-04   54  ...              2.6    0.3   Active\n",
              "7        Aaron Harris  1948-01-10   58  ...              2.9    0.2   Active\n",
              "8       William Smith  1998-11-20   44  ...              2.8    0.3  Control\n",
              "9     Andrea Fletcher  1955-12-23   31  ...              2.8    0.4   Active\n",
              "10        James Wells  1998-08-09   45  ...              2.7    0.5   Active\n",
              "11         Lisa Perez  1983-09-05   35  ...              2.9    0.4   Active\n",
              "12   Desiree Sandoval  1981-11-08   49  ...              3.1    0.2   Active\n",
              "13       Karen Knight  1941-06-14   56  ...              3.3    0.1  Control\n",
              "14       Evan Stewart  1934-12-22   57  ...              3.4    0.1   Active\n",
              "15       Mark Johnson  1958-11-22   38  ...              2.9    0.6   Active\n",
              "16         Roger Chen  1985-11-19   35  ...              3.4    0.1  Control\n",
              "17     Dennis Sanchez  1945-10-25   50  ...              3.5    0.0   Active\n",
              "18       Eric Hendrix  1969-05-04   45  ...              3.2    0.4  Control\n",
              "19   Kathleen Burnett  1970-03-23   49  ...              3.7    0.0   Active\n",
              "\n",
              "[20 rows x 13 columns]"
            ]
          },
          "metadata": {
            "tags": []
          },
          "execution_count": 6
        }
      ]
    },
    {
      "cell_type": "code",
      "metadata": {
        "colab": {
          "base_uri": "https://localhost:8080/"
        },
        "id": "g6OU9-Cve_gY",
        "outputId": "e3ec643b-2ac8-434c-ac83-40ccf93cc99b"
      },
      "source": [
        "df.shape "
      ],
      "execution_count": 7,
      "outputs": [
        {
          "output_type": "execute_result",
          "data": {
            "text/plain": [
              "(200, 13)"
            ]
          },
          "metadata": {
            "tags": []
          },
          "execution_count": 7
        }
      ]
    },
    {
      "cell_type": "code",
      "metadata": {
        "colab": {
          "base_uri": "https://localhost:8080/"
        },
        "id": "ccHrjF29fKKb",
        "outputId": "0238c157-a684-49a6-e7c6-611e8721b273"
      },
      "source": [
        "df.columns"
      ],
      "execution_count": 8,
      "outputs": [
        {
          "output_type": "execute_result",
          "data": {
            "text/plain": [
              "Index(['Name', 'DOB', 'Age', 'Vocation', 'Smoke', 'HR', 'sBP',\n",
              "       'CholesterolBefore', 'TAG', 'Survey', 'CholesterolAfter', 'Delta',\n",
              "       'Group'],\n",
              "      dtype='object')"
            ]
          },
          "metadata": {
            "tags": []
          },
          "execution_count": 8
        }
      ]
    },
    {
      "cell_type": "code",
      "metadata": {
        "colab": {
          "base_uri": "https://localhost:8080/"
        },
        "id": "nLeTQR8zfLf6",
        "outputId": "7a0c9c20-f675-4779-f08f-fd6fbaefa8b1"
      },
      "source": [
        "df.ndim"
      ],
      "execution_count": 9,
      "outputs": [
        {
          "output_type": "execute_result",
          "data": {
            "text/plain": [
              "2"
            ]
          },
          "metadata": {
            "tags": []
          },
          "execution_count": 9
        }
      ]
    },
    {
      "cell_type": "code",
      "metadata": {
        "colab": {
          "base_uri": "https://localhost:8080/"
        },
        "id": "xXm75c18fNET",
        "outputId": "304ad662-5707-46f8-fa48-13a2a22cd884"
      },
      "source": [
        "df.size"
      ],
      "execution_count": 11,
      "outputs": [
        {
          "output_type": "execute_result",
          "data": {
            "text/plain": [
              "2600"
            ]
          },
          "metadata": {
            "tags": []
          },
          "execution_count": 11
        }
      ]
    },
    {
      "cell_type": "code",
      "metadata": {
        "colab": {
          "base_uri": "https://localhost:8080/"
        },
        "id": "2Kahqys-fOuj",
        "outputId": "cd7c089e-fc59-470a-94ad-3446e34287ce"
      },
      "source": [
        "df.dtypes"
      ],
      "execution_count": 12,
      "outputs": [
        {
          "output_type": "execute_result",
          "data": {
            "text/plain": [
              "Name                  object\n",
              "DOB                   object\n",
              "Age                    int64\n",
              "Vocation              object\n",
              "Smoke                  int64\n",
              "HR                     int64\n",
              "sBP                    int64\n",
              "CholesterolBefore    float64\n",
              "TAG                  float64\n",
              "Survey                 int64\n",
              "CholesterolAfter     float64\n",
              "Delta                float64\n",
              "Group                 object\n",
              "dtype: object"
            ]
          },
          "metadata": {
            "tags": []
          },
          "execution_count": 12
        }
      ]
    },
    {
      "cell_type": "markdown",
      "metadata": {
        "id": "Lkmxe8RsfXYJ"
      },
      "source": [
        "#EXTRACTING ROWS AND COLUMNS"
      ]
    },
    {
      "cell_type": "code",
      "metadata": {
        "id": "IS6N85s6fSVQ"
      },
      "source": [
        "age_column = df['Age']"
      ],
      "execution_count": 13,
      "outputs": []
    },
    {
      "cell_type": "code",
      "metadata": {
        "colab": {
          "base_uri": "https://localhost:8080/"
        },
        "id": "LX0mqLKufddO",
        "outputId": "edd1baa9-c5a1-49e2-ec64-ac434a0b3c73"
      },
      "source": [
        "type(age_column)"
      ],
      "execution_count": 14,
      "outputs": [
        {
          "output_type": "execute_result",
          "data": {
            "text/plain": [
              "pandas.core.series.Series"
            ]
          },
          "metadata": {
            "tags": []
          },
          "execution_count": 14
        }
      ]
    },
    {
      "cell_type": "code",
      "metadata": {
        "id": "tch8Fmytffpa"
      },
      "source": [
        "age_column = df.Age"
      ],
      "execution_count": 15,
      "outputs": []
    },
    {
      "cell_type": "code",
      "metadata": {
        "colab": {
          "base_uri": "https://localhost:8080/"
        },
        "id": "YMGoR9hWfhrP",
        "outputId": "76fc666c-e4c9-4b41-c7c4-a8c0bd346e4c"
      },
      "source": [
        "age_column.head(10)"
      ],
      "execution_count": 16,
      "outputs": [
        {
          "output_type": "execute_result",
          "data": {
            "text/plain": [
              "0    43\n",
              "1    53\n",
              "2    33\n",
              "3    43\n",
              "4    46\n",
              "5    48\n",
              "6    54\n",
              "7    58\n",
              "8    44\n",
              "9    31\n",
              "Name: Age, dtype: int64"
            ]
          },
          "metadata": {
            "tags": []
          },
          "execution_count": 16
        }
      ]
    },
    {
      "cell_type": "code",
      "metadata": {
        "id": "FfG_WkeifkNy"
      },
      "source": [
        "age = df.Age.to_numpy()"
      ],
      "execution_count": 17,
      "outputs": []
    },
    {
      "cell_type": "code",
      "metadata": {
        "colab": {
          "base_uri": "https://localhost:8080/"
        },
        "id": "XjkLrAgNfmzn",
        "outputId": "b54277d5-01ff-4b67-94ab-840d7426a6d4"
      },
      "source": [
        "type(age)"
      ],
      "execution_count": 18,
      "outputs": [
        {
          "output_type": "execute_result",
          "data": {
            "text/plain": [
              "numpy.ndarray"
            ]
          },
          "metadata": {
            "tags": []
          },
          "execution_count": 18
        }
      ]
    },
    {
      "cell_type": "code",
      "metadata": {
        "colab": {
          "base_uri": "https://localhost:8080/"
        },
        "id": "CQWmF9LAfo2K",
        "outputId": "75909e0f-0f8b-4a35-d841-901508850b25"
      },
      "source": [
        "dir(age)"
      ],
      "execution_count": 19,
      "outputs": [
        {
          "output_type": "execute_result",
          "data": {
            "text/plain": [
              "['T',\n",
              " '__abs__',\n",
              " '__add__',\n",
              " '__and__',\n",
              " '__array__',\n",
              " '__array_finalize__',\n",
              " '__array_function__',\n",
              " '__array_interface__',\n",
              " '__array_prepare__',\n",
              " '__array_priority__',\n",
              " '__array_struct__',\n",
              " '__array_ufunc__',\n",
              " '__array_wrap__',\n",
              " '__bool__',\n",
              " '__class__',\n",
              " '__complex__',\n",
              " '__contains__',\n",
              " '__copy__',\n",
              " '__deepcopy__',\n",
              " '__delattr__',\n",
              " '__delitem__',\n",
              " '__dir__',\n",
              " '__divmod__',\n",
              " '__doc__',\n",
              " '__eq__',\n",
              " '__float__',\n",
              " '__floordiv__',\n",
              " '__format__',\n",
              " '__ge__',\n",
              " '__getattribute__',\n",
              " '__getitem__',\n",
              " '__gt__',\n",
              " '__hash__',\n",
              " '__iadd__',\n",
              " '__iand__',\n",
              " '__ifloordiv__',\n",
              " '__ilshift__',\n",
              " '__imatmul__',\n",
              " '__imod__',\n",
              " '__imul__',\n",
              " '__index__',\n",
              " '__init__',\n",
              " '__init_subclass__',\n",
              " '__int__',\n",
              " '__invert__',\n",
              " '__ior__',\n",
              " '__ipow__',\n",
              " '__irshift__',\n",
              " '__isub__',\n",
              " '__iter__',\n",
              " '__itruediv__',\n",
              " '__ixor__',\n",
              " '__le__',\n",
              " '__len__',\n",
              " '__lshift__',\n",
              " '__lt__',\n",
              " '__matmul__',\n",
              " '__mod__',\n",
              " '__mul__',\n",
              " '__ne__',\n",
              " '__neg__',\n",
              " '__new__',\n",
              " '__or__',\n",
              " '__pos__',\n",
              " '__pow__',\n",
              " '__radd__',\n",
              " '__rand__',\n",
              " '__rdivmod__',\n",
              " '__reduce__',\n",
              " '__reduce_ex__',\n",
              " '__repr__',\n",
              " '__rfloordiv__',\n",
              " '__rlshift__',\n",
              " '__rmatmul__',\n",
              " '__rmod__',\n",
              " '__rmul__',\n",
              " '__ror__',\n",
              " '__rpow__',\n",
              " '__rrshift__',\n",
              " '__rshift__',\n",
              " '__rsub__',\n",
              " '__rtruediv__',\n",
              " '__rxor__',\n",
              " '__setattr__',\n",
              " '__setitem__',\n",
              " '__setstate__',\n",
              " '__sizeof__',\n",
              " '__str__',\n",
              " '__sub__',\n",
              " '__subclasshook__',\n",
              " '__truediv__',\n",
              " '__xor__',\n",
              " 'all',\n",
              " 'any',\n",
              " 'argmax',\n",
              " 'argmin',\n",
              " 'argpartition',\n",
              " 'argsort',\n",
              " 'astype',\n",
              " 'base',\n",
              " 'byteswap',\n",
              " 'choose',\n",
              " 'clip',\n",
              " 'compress',\n",
              " 'conj',\n",
              " 'conjugate',\n",
              " 'copy',\n",
              " 'ctypes',\n",
              " 'cumprod',\n",
              " 'cumsum',\n",
              " 'data',\n",
              " 'diagonal',\n",
              " 'dot',\n",
              " 'dtype',\n",
              " 'dump',\n",
              " 'dumps',\n",
              " 'fill',\n",
              " 'flags',\n",
              " 'flat',\n",
              " 'flatten',\n",
              " 'getfield',\n",
              " 'imag',\n",
              " 'item',\n",
              " 'itemset',\n",
              " 'itemsize',\n",
              " 'max',\n",
              " 'mean',\n",
              " 'min',\n",
              " 'nbytes',\n",
              " 'ndim',\n",
              " 'newbyteorder',\n",
              " 'nonzero',\n",
              " 'partition',\n",
              " 'prod',\n",
              " 'ptp',\n",
              " 'put',\n",
              " 'ravel',\n",
              " 'real',\n",
              " 'repeat',\n",
              " 'reshape',\n",
              " 'resize',\n",
              " 'round',\n",
              " 'searchsorted',\n",
              " 'setfield',\n",
              " 'setflags',\n",
              " 'shape',\n",
              " 'size',\n",
              " 'sort',\n",
              " 'squeeze',\n",
              " 'std',\n",
              " 'strides',\n",
              " 'sum',\n",
              " 'swapaxes',\n",
              " 'take',\n",
              " 'tobytes',\n",
              " 'tofile',\n",
              " 'tolist',\n",
              " 'tostring',\n",
              " 'trace',\n",
              " 'transpose',\n",
              " 'var',\n",
              " 'view']"
            ]
          },
          "metadata": {
            "tags": []
          },
          "execution_count": 19
        }
      ]
    },
    {
      "cell_type": "code",
      "metadata": {
        "colab": {
          "base_uri": "https://localhost:8080/"
        },
        "id": "ZzcXNBeCfqmO",
        "outputId": "469ccd53-6607-4ad0-af58-0755872a0804"
      },
      "source": [
        "age.min()"
      ],
      "execution_count": 20,
      "outputs": [
        {
          "output_type": "execute_result",
          "data": {
            "text/plain": [
              "30"
            ]
          },
          "metadata": {
            "tags": []
          },
          "execution_count": 20
        }
      ]
    },
    {
      "cell_type": "code",
      "metadata": {
        "colab": {
          "base_uri": "https://localhost:8080/"
        },
        "id": "MRB55of2fxy5",
        "outputId": "813334ad-91aa-47bd-ea37-335723ce0a87"
      },
      "source": [
        "age.max()"
      ],
      "execution_count": 21,
      "outputs": [
        {
          "output_type": "execute_result",
          "data": {
            "text/plain": [
              "75"
            ]
          },
          "metadata": {
            "tags": []
          },
          "execution_count": 21
        }
      ]
    },
    {
      "cell_type": "code",
      "metadata": {
        "colab": {
          "base_uri": "https://localhost:8080/"
        },
        "id": "pdln2daifzjb",
        "outputId": "b19de324-80a2-4b77-d8c8-477fe68082b4"
      },
      "source": [
        "age.mean()"
      ],
      "execution_count": 22,
      "outputs": [
        {
          "output_type": "execute_result",
          "data": {
            "text/plain": [
              "53.07"
            ]
          },
          "metadata": {
            "tags": []
          },
          "execution_count": 22
        }
      ]
    },
    {
      "cell_type": "code",
      "metadata": {
        "colab": {
          "base_uri": "https://localhost:8080/"
        },
        "id": "HSib42r7f1NU",
        "outputId": "0668722c-9573-4822-ea7f-6a6eadee5b0a"
      },
      "source": [
        "df.iloc[0]"
      ],
      "execution_count": 23,
      "outputs": [
        {
          "output_type": "execute_result",
          "data": {
            "text/plain": [
              "Name                   Dylan Patton\n",
              "DOB                      1981-10-07\n",
              "Age                              43\n",
              "Vocation             Energy manager\n",
              "Smoke                             0\n",
              "HR                               47\n",
              "sBP                             145\n",
              "CholesterolBefore               1.2\n",
              "TAG                             1.2\n",
              "Survey                            1\n",
              "CholesterolAfter                0.7\n",
              "Delta                           0.5\n",
              "Group                        Active\n",
              "Name: 0, dtype: object"
            ]
          },
          "metadata": {
            "tags": []
          },
          "execution_count": 23
        }
      ]
    },
    {
      "cell_type": "code",
      "metadata": {
        "colab": {
          "base_uri": "https://localhost:8080/",
          "height": 141
        },
        "id": "yHIRS5PUf_Yu",
        "outputId": "adc97c19-48e4-408d-b94d-e2b1a130bdf2"
      },
      "source": [
        "df.iloc[[2, 3, 5]]"
      ],
      "execution_count": 24,
      "outputs": [
        {
          "output_type": "execute_result",
          "data": {
            "text/html": [
              "<div>\n",
              "<style scoped>\n",
              "    .dataframe tbody tr th:only-of-type {\n",
              "        vertical-align: middle;\n",
              "    }\n",
              "\n",
              "    .dataframe tbody tr th {\n",
              "        vertical-align: top;\n",
              "    }\n",
              "\n",
              "    .dataframe thead th {\n",
              "        text-align: right;\n",
              "    }\n",
              "</style>\n",
              "<table border=\"1\" class=\"dataframe\">\n",
              "  <thead>\n",
              "    <tr style=\"text-align: right;\">\n",
              "      <th></th>\n",
              "      <th>Name</th>\n",
              "      <th>DOB</th>\n",
              "      <th>Age</th>\n",
              "      <th>Vocation</th>\n",
              "      <th>Smoke</th>\n",
              "      <th>HR</th>\n",
              "      <th>sBP</th>\n",
              "      <th>CholesterolBefore</th>\n",
              "      <th>TAG</th>\n",
              "      <th>Survey</th>\n",
              "      <th>CholesterolAfter</th>\n",
              "      <th>Delta</th>\n",
              "      <th>Group</th>\n",
              "    </tr>\n",
              "  </thead>\n",
              "  <tbody>\n",
              "    <tr>\n",
              "      <th>2</th>\n",
              "      <td>Samantha Williams</td>\n",
              "      <td>1973-12-21</td>\n",
              "      <td>33</td>\n",
              "      <td>IT consultant</td>\n",
              "      <td>0</td>\n",
              "      <td>54</td>\n",
              "      <td>120</td>\n",
              "      <td>2.0</td>\n",
              "      <td>1.3</td>\n",
              "      <td>3</td>\n",
              "      <td>1.7</td>\n",
              "      <td>0.3</td>\n",
              "      <td>Active</td>\n",
              "    </tr>\n",
              "    <tr>\n",
              "      <th>3</th>\n",
              "      <td>Ashley Hensley</td>\n",
              "      <td>1981-12-01</td>\n",
              "      <td>43</td>\n",
              "      <td>Nurse, children's</td>\n",
              "      <td>0</td>\n",
              "      <td>54</td>\n",
              "      <td>103</td>\n",
              "      <td>2.1</td>\n",
              "      <td>1.6</td>\n",
              "      <td>4</td>\n",
              "      <td>2.1</td>\n",
              "      <td>0.0</td>\n",
              "      <td>Active</td>\n",
              "    </tr>\n",
              "    <tr>\n",
              "      <th>5</th>\n",
              "      <td>Leslie Diaz</td>\n",
              "      <td>1994-08-25</td>\n",
              "      <td>48</td>\n",
              "      <td>Politician's assistant</td>\n",
              "      <td>0</td>\n",
              "      <td>59</td>\n",
              "      <td>122</td>\n",
              "      <td>2.8</td>\n",
              "      <td>1.4</td>\n",
              "      <td>4</td>\n",
              "      <td>2.6</td>\n",
              "      <td>0.2</td>\n",
              "      <td>Active</td>\n",
              "    </tr>\n",
              "  </tbody>\n",
              "</table>\n",
              "</div>"
            ],
            "text/plain": [
              "                Name         DOB  Age  ... CholesterolAfter  Delta   Group\n",
              "2  Samantha Williams  1973-12-21   33  ...              1.7    0.3  Active\n",
              "3     Ashley Hensley  1981-12-01   43  ...              2.1    0.0  Active\n",
              "5        Leslie Diaz  1994-08-25   48  ...              2.6    0.2  Active\n",
              "\n",
              "[3 rows x 13 columns]"
            ]
          },
          "metadata": {
            "tags": []
          },
          "execution_count": 24
        }
      ]
    },
    {
      "cell_type": "code",
      "metadata": {
        "colab": {
          "base_uri": "https://localhost:8080/",
          "height": 110
        },
        "id": "I2peXdMTgDAN",
        "outputId": "d4787f11-ab74-42f9-9874-0599d60a4a43"
      },
      "source": [
        "df.iloc[0:2] "
      ],
      "execution_count": 25,
      "outputs": [
        {
          "output_type": "execute_result",
          "data": {
            "text/html": [
              "<div>\n",
              "<style scoped>\n",
              "    .dataframe tbody tr th:only-of-type {\n",
              "        vertical-align: middle;\n",
              "    }\n",
              "\n",
              "    .dataframe tbody tr th {\n",
              "        vertical-align: top;\n",
              "    }\n",
              "\n",
              "    .dataframe thead th {\n",
              "        text-align: right;\n",
              "    }\n",
              "</style>\n",
              "<table border=\"1\" class=\"dataframe\">\n",
              "  <thead>\n",
              "    <tr style=\"text-align: right;\">\n",
              "      <th></th>\n",
              "      <th>Name</th>\n",
              "      <th>DOB</th>\n",
              "      <th>Age</th>\n",
              "      <th>Vocation</th>\n",
              "      <th>Smoke</th>\n",
              "      <th>HR</th>\n",
              "      <th>sBP</th>\n",
              "      <th>CholesterolBefore</th>\n",
              "      <th>TAG</th>\n",
              "      <th>Survey</th>\n",
              "      <th>CholesterolAfter</th>\n",
              "      <th>Delta</th>\n",
              "      <th>Group</th>\n",
              "    </tr>\n",
              "  </thead>\n",
              "  <tbody>\n",
              "    <tr>\n",
              "      <th>0</th>\n",
              "      <td>Dylan Patton</td>\n",
              "      <td>1981-10-07</td>\n",
              "      <td>43</td>\n",
              "      <td>Energy manager</td>\n",
              "      <td>0</td>\n",
              "      <td>47</td>\n",
              "      <td>145</td>\n",
              "      <td>1.2</td>\n",
              "      <td>1.2</td>\n",
              "      <td>1</td>\n",
              "      <td>0.7</td>\n",
              "      <td>0.5</td>\n",
              "      <td>Active</td>\n",
              "    </tr>\n",
              "    <tr>\n",
              "      <th>1</th>\n",
              "      <td>Sandra Howard</td>\n",
              "      <td>1993-01-27</td>\n",
              "      <td>53</td>\n",
              "      <td>Tax adviser</td>\n",
              "      <td>0</td>\n",
              "      <td>51</td>\n",
              "      <td>115</td>\n",
              "      <td>1.2</td>\n",
              "      <td>0.6</td>\n",
              "      <td>3</td>\n",
              "      <td>1.0</td>\n",
              "      <td>0.2</td>\n",
              "      <td>Active</td>\n",
              "    </tr>\n",
              "  </tbody>\n",
              "</table>\n",
              "</div>"
            ],
            "text/plain": [
              "            Name         DOB  Age  ... CholesterolAfter  Delta   Group\n",
              "0   Dylan Patton  1981-10-07   43  ...              0.7    0.5  Active\n",
              "1  Sandra Howard  1993-01-27   53  ...              1.0    0.2  Active\n",
              "\n",
              "[2 rows x 13 columns]"
            ]
          },
          "metadata": {
            "tags": []
          },
          "execution_count": 25
        }
      ]
    },
    {
      "cell_type": "code",
      "metadata": {
        "colab": {
          "base_uri": "https://localhost:8080/",
          "height": 202
        },
        "id": "31rwhLYygKOM",
        "outputId": "7157fca1-5774-417a-e866-0f2724ce62f1"
      },
      "source": [
        "df.iloc[0:5,[1, 2]]"
      ],
      "execution_count": 26,
      "outputs": [
        {
          "output_type": "execute_result",
          "data": {
            "text/html": [
              "<div>\n",
              "<style scoped>\n",
              "    .dataframe tbody tr th:only-of-type {\n",
              "        vertical-align: middle;\n",
              "    }\n",
              "\n",
              "    .dataframe tbody tr th {\n",
              "        vertical-align: top;\n",
              "    }\n",
              "\n",
              "    .dataframe thead th {\n",
              "        text-align: right;\n",
              "    }\n",
              "</style>\n",
              "<table border=\"1\" class=\"dataframe\">\n",
              "  <thead>\n",
              "    <tr style=\"text-align: right;\">\n",
              "      <th></th>\n",
              "      <th>DOB</th>\n",
              "      <th>Age</th>\n",
              "    </tr>\n",
              "  </thead>\n",
              "  <tbody>\n",
              "    <tr>\n",
              "      <th>0</th>\n",
              "      <td>1981-10-07</td>\n",
              "      <td>43</td>\n",
              "    </tr>\n",
              "    <tr>\n",
              "      <th>1</th>\n",
              "      <td>1993-01-27</td>\n",
              "      <td>53</td>\n",
              "    </tr>\n",
              "    <tr>\n",
              "      <th>2</th>\n",
              "      <td>1973-12-21</td>\n",
              "      <td>33</td>\n",
              "    </tr>\n",
              "    <tr>\n",
              "      <th>3</th>\n",
              "      <td>1981-12-01</td>\n",
              "      <td>43</td>\n",
              "    </tr>\n",
              "    <tr>\n",
              "      <th>4</th>\n",
              "      <td>1964-06-23</td>\n",
              "      <td>46</td>\n",
              "    </tr>\n",
              "  </tbody>\n",
              "</table>\n",
              "</div>"
            ],
            "text/plain": [
              "          DOB  Age\n",
              "0  1981-10-07   43\n",
              "1  1993-01-27   53\n",
              "2  1973-12-21   33\n",
              "3  1981-12-01   43\n",
              "4  1964-06-23   46"
            ]
          },
          "metadata": {
            "tags": []
          },
          "execution_count": 26
        }
      ]
    },
    {
      "cell_type": "code",
      "metadata": {
        "colab": {
          "base_uri": "https://localhost:8080/",
          "height": 232
        },
        "id": "9SLZp3QlgOoO",
        "outputId": "990c5a48-b508-41ab-b28d-f56925282cd5"
      },
      "source": [
        "df.loc[0:5, ['DOB', 'Age']]"
      ],
      "execution_count": 27,
      "outputs": [
        {
          "output_type": "execute_result",
          "data": {
            "text/html": [
              "<div>\n",
              "<style scoped>\n",
              "    .dataframe tbody tr th:only-of-type {\n",
              "        vertical-align: middle;\n",
              "    }\n",
              "\n",
              "    .dataframe tbody tr th {\n",
              "        vertical-align: top;\n",
              "    }\n",
              "\n",
              "    .dataframe thead th {\n",
              "        text-align: right;\n",
              "    }\n",
              "</style>\n",
              "<table border=\"1\" class=\"dataframe\">\n",
              "  <thead>\n",
              "    <tr style=\"text-align: right;\">\n",
              "      <th></th>\n",
              "      <th>DOB</th>\n",
              "      <th>Age</th>\n",
              "    </tr>\n",
              "  </thead>\n",
              "  <tbody>\n",
              "    <tr>\n",
              "      <th>0</th>\n",
              "      <td>1981-10-07</td>\n",
              "      <td>43</td>\n",
              "    </tr>\n",
              "    <tr>\n",
              "      <th>1</th>\n",
              "      <td>1993-01-27</td>\n",
              "      <td>53</td>\n",
              "    </tr>\n",
              "    <tr>\n",
              "      <th>2</th>\n",
              "      <td>1973-12-21</td>\n",
              "      <td>33</td>\n",
              "    </tr>\n",
              "    <tr>\n",
              "      <th>3</th>\n",
              "      <td>1981-12-01</td>\n",
              "      <td>43</td>\n",
              "    </tr>\n",
              "    <tr>\n",
              "      <th>4</th>\n",
              "      <td>1964-06-23</td>\n",
              "      <td>46</td>\n",
              "    </tr>\n",
              "    <tr>\n",
              "      <th>5</th>\n",
              "      <td>1994-08-25</td>\n",
              "      <td>48</td>\n",
              "    </tr>\n",
              "  </tbody>\n",
              "</table>\n",
              "</div>"
            ],
            "text/plain": [
              "          DOB  Age\n",
              "0  1981-10-07   43\n",
              "1  1993-01-27   53\n",
              "2  1973-12-21   33\n",
              "3  1981-12-01   43\n",
              "4  1964-06-23   46\n",
              "5  1994-08-25   48"
            ]
          },
          "metadata": {
            "tags": []
          },
          "execution_count": 27
        }
      ]
    },
    {
      "cell_type": "code",
      "metadata": {
        "colab": {
          "base_uri": "https://localhost:8080/"
        },
        "id": "iz1rIUAkgUif",
        "outputId": "ce081304-135e-4258-941f-4ef5d855d937"
      },
      "source": [
        "df.iat[3, 2]"
      ],
      "execution_count": 28,
      "outputs": [
        {
          "output_type": "execute_result",
          "data": {
            "text/plain": [
              "43"
            ]
          },
          "metadata": {
            "tags": []
          },
          "execution_count": 28
        }
      ]
    },
    {
      "cell_type": "code",
      "metadata": {
        "colab": {
          "base_uri": "https://localhost:8080/"
        },
        "id": "69hFiB-RgWwM",
        "outputId": "a78fee7f-8637-490d-c231-c1497542b72b"
      },
      "source": [
        "df.Smoke.unique()"
      ],
      "execution_count": 29,
      "outputs": [
        {
          "output_type": "execute_result",
          "data": {
            "text/plain": [
              "array([0, 2, 1])"
            ]
          },
          "metadata": {
            "tags": []
          },
          "execution_count": 29
        }
      ]
    },
    {
      "cell_type": "code",
      "metadata": {
        "colab": {
          "base_uri": "https://localhost:8080/"
        },
        "id": "Qm7wl8V5gfQQ",
        "outputId": "5bf7fc9c-3c58-4344-8604-ed261437c267"
      },
      "source": [
        "non_smoker_age = df[df.Smoke == 0]['Age'].to_numpy()\n",
        "non_smoker_age"
      ],
      "execution_count": 31,
      "outputs": [
        {
          "output_type": "execute_result",
          "data": {
            "text/plain": [
              "array([43, 53, 33, 43, 46, 48, 54, 58, 44, 31, 45, 35, 49, 56, 57, 35, 50,\n",
              "       49, 63, 45, 51, 40, 47, 41, 47, 38, 54, 30, 46, 64, 40, 45, 65, 55,\n",
              "       53, 54, 72, 32, 38, 59, 53, 42, 38, 51, 37, 36, 48, 49, 62, 39, 74,\n",
              "       42, 72, 61, 33, 30, 44, 71, 49, 75, 43, 55, 38, 36, 46, 60, 57, 69,\n",
              "       56, 66, 60, 42, 32, 31, 56, 35, 63, 54, 68, 72, 40, 54, 62, 74, 62,\n",
              "       41, 61, 61])"
            ]
          },
          "metadata": {
            "tags": []
          },
          "execution_count": 31
        }
      ]
    },
    {
      "cell_type": "code",
      "metadata": {
        "colab": {
          "base_uri": "https://localhost:8080/"
        },
        "id": "vaEGtqpqghpc",
        "outputId": "80a5a793-0d2b-4bf2-e366-6ef7fa982039"
      },
      "source": [
        "df.loc[df.Smoke == 0, 'Age'].to_numpy()"
      ],
      "execution_count": 32,
      "outputs": [
        {
          "output_type": "execute_result",
          "data": {
            "text/plain": [
              "array([43, 53, 33, 43, 46, 48, 54, 58, 44, 31, 45, 35, 49, 56, 57, 35, 50,\n",
              "       49, 63, 45, 51, 40, 47, 41, 47, 38, 54, 30, 46, 64, 40, 45, 65, 55,\n",
              "       53, 54, 72, 32, 38, 59, 53, 42, 38, 51, 37, 36, 48, 49, 62, 39, 74,\n",
              "       42, 72, 61, 33, 30, 44, 71, 49, 75, 43, 55, 38, 36, 46, 60, 57, 69,\n",
              "       56, 66, 60, 42, 32, 31, 56, 35, 63, 54, 68, 72, 40, 54, 62, 74, 62,\n",
              "       41, 61, 61])"
            ]
          },
          "metadata": {
            "tags": []
          },
          "execution_count": 32
        }
      ]
    },
    {
      "cell_type": "code",
      "metadata": {
        "colab": {
          "base_uri": "https://localhost:8080/"
        },
        "id": "zMmqWX5zgluM",
        "outputId": "66baf930-ed3d-41c7-fe3a-90a5ede1751d"
      },
      "source": [
        "non_smoker_age.mean()"
      ],
      "execution_count": 33,
      "outputs": [
        {
          "output_type": "execute_result",
          "data": {
            "text/plain": [
              "50.09090909090909"
            ]
          },
          "metadata": {
            "tags": []
          },
          "execution_count": 33
        }
      ]
    },
    {
      "cell_type": "markdown",
      "metadata": {
        "id": "XPz7TtzzhUYS"
      },
      "source": [
        "NON-SMOKER AGES WHERE SURVEY CHOICE IS 3"
      ]
    },
    {
      "cell_type": "code",
      "metadata": {
        "id": "GszdhP2mg9JE"
      },
      "source": [
        "non_smoker_satisfied_age = df.loc[(df.Smoke == 0) & (df.Survey == 3), 'Age'].to_numpy()"
      ],
      "execution_count": 34,
      "outputs": []
    },
    {
      "cell_type": "markdown",
      "metadata": {
        "id": "HKCGZlOfhqpq"
      },
      "source": [
        "NEVER SMOKED OR SATISFACTION SCORE GREATER THAN 3"
      ]
    },
    {
      "cell_type": "code",
      "metadata": {
        "id": "frpKlFoUhZTj"
      },
      "source": [
        "crit = (df.Smoke == 0) | (df.Survey > 3)"
      ],
      "execution_count": 35,
      "outputs": []
    },
    {
      "cell_type": "code",
      "metadata": {
        "id": "h93xjXBohuMu"
      },
      "source": [
        "non_smoker_or_satisifed_age = df.loc[crit, 'Age'].to_numpy()"
      ],
      "execution_count": 36,
      "outputs": []
    },
    {
      "cell_type": "markdown",
      "metadata": {
        "id": "iDEk277Zhxtp"
      },
      "source": [
        "NON-SMOKERS AND SATISFACTION SCORE OF 3 OR LESS"
      ]
    },
    {
      "cell_type": "code",
      "metadata": {
        "colab": {
          "base_uri": "https://localhost:8080/"
        },
        "id": "D8NSxzjqhv73",
        "outputId": "2d6a8d8f-7f7c-4c24-9e49-7832c920416b"
      },
      "source": [
        "# Include those who do not smoke and have a score of more than 3\n",
        "crit = (df.Smoke == 1) & (df.Survey > 3)\n",
        "\n",
        "not_no_smoker_satisfied_age = df.loc[~crit, 'Age'].to_numpy()\n",
        "not_no_smoker_satisfied_age"
      ],
      "execution_count": 37,
      "outputs": [
        {
          "output_type": "execute_result",
          "data": {
            "text/plain": [
              "array([43, 53, 33, 43, 46, 48, 54, 58, 44, 31, 45, 35, 49, 56, 57, 38, 35,\n",
              "       50, 45, 49, 63, 45, 51, 43, 31, 58, 40, 47, 45, 41, 47, 38, 54, 30,\n",
              "       46, 64, 40, 45, 65, 74, 55, 58, 53, 68, 54, 72, 32, 38, 59, 53, 42,\n",
              "       67, 38, 51, 37, 36, 34, 31, 48, 49, 62, 39, 74, 42, 60, 67, 42, 52,\n",
              "       37, 61, 72, 49, 49, 49, 43, 38, 45, 71, 73, 60, 70, 49, 65, 30, 50,\n",
              "       69, 72, 61, 33, 30, 44, 71, 49, 75, 43, 35, 55, 38, 36, 46, 60, 40,\n",
              "       57, 69, 56, 66, 60, 42, 49, 68, 32, 31, 56, 35, 63, 54, 68, 72, 40,\n",
              "       41, 66, 73, 36, 57, 74, 48, 72, 71, 42, 54, 58, 60, 63, 44, 55, 43,\n",
              "       71, 54, 61, 55, 67, 68, 71, 54, 57, 45, 62, 33, 74, 43, 35, 64, 55,\n",
              "       74, 50, 40, 62, 63, 68, 41, 72, 61, 70, 61, 65, 66])"
            ]
          },
          "metadata": {
            "tags": []
          },
          "execution_count": 37
        }
      ]
    },
    {
      "cell_type": "markdown",
      "metadata": {
        "id": "881hnLb4h6cs"
      },
      "source": [
        "##CREATE A NEW DATAFRAME OBJECT THAT ONLY CONTAINS PARTICIPANTS YOUNGER THAN 50"
      ]
    },
    {
      "cell_type": "code",
      "metadata": {
        "colab": {
          "base_uri": "https://localhost:8080/",
          "height": 355
        },
        "id": "44xsTqqGh2Dr",
        "outputId": "2ef406f6-1497-4a67-c19d-cd1a8262b8b8"
      },
      "source": [
        "new_df = df[df.Age < 50]\n",
        "new_df.head(10)"
      ],
      "execution_count": 38,
      "outputs": [
        {
          "output_type": "execute_result",
          "data": {
            "text/html": [
              "<div>\n",
              "<style scoped>\n",
              "    .dataframe tbody tr th:only-of-type {\n",
              "        vertical-align: middle;\n",
              "    }\n",
              "\n",
              "    .dataframe tbody tr th {\n",
              "        vertical-align: top;\n",
              "    }\n",
              "\n",
              "    .dataframe thead th {\n",
              "        text-align: right;\n",
              "    }\n",
              "</style>\n",
              "<table border=\"1\" class=\"dataframe\">\n",
              "  <thead>\n",
              "    <tr style=\"text-align: right;\">\n",
              "      <th></th>\n",
              "      <th>Name</th>\n",
              "      <th>DOB</th>\n",
              "      <th>Age</th>\n",
              "      <th>Vocation</th>\n",
              "      <th>Smoke</th>\n",
              "      <th>HR</th>\n",
              "      <th>sBP</th>\n",
              "      <th>CholesterolBefore</th>\n",
              "      <th>TAG</th>\n",
              "      <th>Survey</th>\n",
              "      <th>CholesterolAfter</th>\n",
              "      <th>Delta</th>\n",
              "      <th>Group</th>\n",
              "    </tr>\n",
              "  </thead>\n",
              "  <tbody>\n",
              "    <tr>\n",
              "      <th>0</th>\n",
              "      <td>Dylan Patton</td>\n",
              "      <td>1981-10-07</td>\n",
              "      <td>43</td>\n",
              "      <td>Energy manager</td>\n",
              "      <td>0</td>\n",
              "      <td>47</td>\n",
              "      <td>145</td>\n",
              "      <td>1.2</td>\n",
              "      <td>1.2</td>\n",
              "      <td>1</td>\n",
              "      <td>0.7</td>\n",
              "      <td>0.5</td>\n",
              "      <td>Active</td>\n",
              "    </tr>\n",
              "    <tr>\n",
              "      <th>2</th>\n",
              "      <td>Samantha Williams</td>\n",
              "      <td>1973-12-21</td>\n",
              "      <td>33</td>\n",
              "      <td>IT consultant</td>\n",
              "      <td>0</td>\n",
              "      <td>54</td>\n",
              "      <td>120</td>\n",
              "      <td>2.0</td>\n",
              "      <td>1.3</td>\n",
              "      <td>3</td>\n",
              "      <td>1.7</td>\n",
              "      <td>0.3</td>\n",
              "      <td>Active</td>\n",
              "    </tr>\n",
              "    <tr>\n",
              "      <th>3</th>\n",
              "      <td>Ashley Hensley</td>\n",
              "      <td>1981-12-01</td>\n",
              "      <td>43</td>\n",
              "      <td>Nurse, children's</td>\n",
              "      <td>0</td>\n",
              "      <td>54</td>\n",
              "      <td>103</td>\n",
              "      <td>2.1</td>\n",
              "      <td>1.6</td>\n",
              "      <td>4</td>\n",
              "      <td>2.1</td>\n",
              "      <td>0.0</td>\n",
              "      <td>Active</td>\n",
              "    </tr>\n",
              "    <tr>\n",
              "      <th>4</th>\n",
              "      <td>Robert Wilson</td>\n",
              "      <td>1964-06-23</td>\n",
              "      <td>46</td>\n",
              "      <td>Clinical embryologist</td>\n",
              "      <td>0</td>\n",
              "      <td>61</td>\n",
              "      <td>138</td>\n",
              "      <td>2.8</td>\n",
              "      <td>2.1</td>\n",
              "      <td>5</td>\n",
              "      <td>2.8</td>\n",
              "      <td>0.0</td>\n",
              "      <td>Active</td>\n",
              "    </tr>\n",
              "    <tr>\n",
              "      <th>5</th>\n",
              "      <td>Leslie Diaz</td>\n",
              "      <td>1994-08-25</td>\n",
              "      <td>48</td>\n",
              "      <td>Politician's assistant</td>\n",
              "      <td>0</td>\n",
              "      <td>59</td>\n",
              "      <td>122</td>\n",
              "      <td>2.8</td>\n",
              "      <td>1.4</td>\n",
              "      <td>4</td>\n",
              "      <td>2.6</td>\n",
              "      <td>0.2</td>\n",
              "      <td>Active</td>\n",
              "    </tr>\n",
              "    <tr>\n",
              "      <th>8</th>\n",
              "      <td>William Smith</td>\n",
              "      <td>1998-11-20</td>\n",
              "      <td>44</td>\n",
              "      <td>Scientific laboratory technician</td>\n",
              "      <td>0</td>\n",
              "      <td>58</td>\n",
              "      <td>111</td>\n",
              "      <td>3.1</td>\n",
              "      <td>2.4</td>\n",
              "      <td>1</td>\n",
              "      <td>2.8</td>\n",
              "      <td>0.3</td>\n",
              "      <td>Control</td>\n",
              "    </tr>\n",
              "    <tr>\n",
              "      <th>9</th>\n",
              "      <td>Andrea Fletcher</td>\n",
              "      <td>1955-12-23</td>\n",
              "      <td>31</td>\n",
              "      <td>Lexicographer</td>\n",
              "      <td>0</td>\n",
              "      <td>59</td>\n",
              "      <td>122</td>\n",
              "      <td>3.2</td>\n",
              "      <td>1.7</td>\n",
              "      <td>5</td>\n",
              "      <td>2.8</td>\n",
              "      <td>0.4</td>\n",
              "      <td>Active</td>\n",
              "    </tr>\n",
              "    <tr>\n",
              "      <th>10</th>\n",
              "      <td>James Wells</td>\n",
              "      <td>1998-08-09</td>\n",
              "      <td>45</td>\n",
              "      <td>Charity fundraiser</td>\n",
              "      <td>0</td>\n",
              "      <td>62</td>\n",
              "      <td>121</td>\n",
              "      <td>3.2</td>\n",
              "      <td>1.7</td>\n",
              "      <td>4</td>\n",
              "      <td>2.7</td>\n",
              "      <td>0.5</td>\n",
              "      <td>Active</td>\n",
              "    </tr>\n",
              "    <tr>\n",
              "      <th>11</th>\n",
              "      <td>Lisa Perez</td>\n",
              "      <td>1983-09-05</td>\n",
              "      <td>35</td>\n",
              "      <td>Chief Marketing Officer</td>\n",
              "      <td>0</td>\n",
              "      <td>61</td>\n",
              "      <td>119</td>\n",
              "      <td>3.3</td>\n",
              "      <td>2.0</td>\n",
              "      <td>3</td>\n",
              "      <td>2.9</td>\n",
              "      <td>0.4</td>\n",
              "      <td>Active</td>\n",
              "    </tr>\n",
              "    <tr>\n",
              "      <th>12</th>\n",
              "      <td>Desiree Sandoval</td>\n",
              "      <td>1981-11-08</td>\n",
              "      <td>49</td>\n",
              "      <td>Hydrologist</td>\n",
              "      <td>0</td>\n",
              "      <td>61</td>\n",
              "      <td>135</td>\n",
              "      <td>3.3</td>\n",
              "      <td>2.3</td>\n",
              "      <td>5</td>\n",
              "      <td>3.1</td>\n",
              "      <td>0.2</td>\n",
              "      <td>Active</td>\n",
              "    </tr>\n",
              "  </tbody>\n",
              "</table>\n",
              "</div>"
            ],
            "text/plain": [
              "                 Name         DOB  Age  ... CholesterolAfter  Delta    Group\n",
              "0        Dylan Patton  1981-10-07   43  ...              0.7    0.5   Active\n",
              "2   Samantha Williams  1973-12-21   33  ...              1.7    0.3   Active\n",
              "3      Ashley Hensley  1981-12-01   43  ...              2.1    0.0   Active\n",
              "4       Robert Wilson  1964-06-23   46  ...              2.8    0.0   Active\n",
              "5         Leslie Diaz  1994-08-25   48  ...              2.6    0.2   Active\n",
              "8       William Smith  1998-11-20   44  ...              2.8    0.3  Control\n",
              "9     Andrea Fletcher  1955-12-23   31  ...              2.8    0.4   Active\n",
              "10        James Wells  1998-08-09   45  ...              2.7    0.5   Active\n",
              "11         Lisa Perez  1983-09-05   35  ...              2.9    0.4   Active\n",
              "12   Desiree Sandoval  1981-11-08   49  ...              3.1    0.2   Active\n",
              "\n",
              "[10 rows x 13 columns]"
            ]
          },
          "metadata": {
            "tags": []
          },
          "execution_count": 38
        }
      ]
    },
    {
      "cell_type": "code",
      "metadata": {
        "colab": {
          "base_uri": "https://localhost:8080/"
        },
        "id": "YlhWK0YDh_Ji",
        "outputId": "83e6479b-adac-489f-a116-146f0fe8fed5"
      },
      "source": [
        "new_df.Age.max()"
      ],
      "execution_count": 39,
      "outputs": [
        {
          "output_type": "execute_result",
          "data": {
            "text/plain": [
              "49"
            ]
          },
          "metadata": {
            "tags": []
          },
          "execution_count": 39
        }
      ]
    },
    {
      "cell_type": "code",
      "metadata": {
        "colab": {
          "base_uri": "https://localhost:8080/"
        },
        "id": "j2DxzCyKiDRP",
        "outputId": "84256419-b37a-4955-8979-aa1fbfbfb7be"
      },
      "source": [
        "new_df['Age'].max()"
      ],
      "execution_count": 40,
      "outputs": [
        {
          "output_type": "execute_result",
          "data": {
            "text/plain": [
              "49"
            ]
          },
          "metadata": {
            "tags": []
          },
          "execution_count": 40
        }
      ]
    },
    {
      "cell_type": "code",
      "metadata": {
        "colab": {
          "base_uri": "https://localhost:8080/"
        },
        "id": "ncDIwsd6iFVb",
        "outputId": "d460d733-f097-4af5-b11f-aaadbd704f95"
      },
      "source": [
        "new_df.loc[:, 'Age'].max()"
      ],
      "execution_count": 41,
      "outputs": [
        {
          "output_type": "execute_result",
          "data": {
            "text/plain": [
              "49"
            ]
          },
          "metadata": {
            "tags": []
          },
          "execution_count": 41
        }
      ]
    },
    {
      "cell_type": "markdown",
      "metadata": {
        "id": "wrGiOVTgiKPb"
      },
      "source": [
        "##CREATE A NEW DATAFRAME FOR PARTICIPANTS WITH A RESTRICTED LIST OF JOB TITLES"
      ]
    },
    {
      "cell_type": "code",
      "metadata": {
        "colab": {
          "base_uri": "https://localhost:8080/",
          "height": 171
        },
        "id": "hOf51R_7iG8z",
        "outputId": "4830cd86-4770-49e1-8702-69c9fa2639e9"
      },
      "source": [
        "# Create a Python list object with all the column names\n",
        "jobs = ['IT consultant', 'Energy manager', 'Clinical embryologist']\n",
        "\n",
        "# Build a criterium\n",
        "crit = df.Vocation.isin(jobs)\n",
        "\n",
        "# Create the new dataframe object and print the first 5 rows to the screen\n",
        "jobs_df = df.loc[crit]\n",
        "jobs_df.head(10)"
      ],
      "execution_count": 42,
      "outputs": [
        {
          "output_type": "execute_result",
          "data": {
            "text/html": [
              "<div>\n",
              "<style scoped>\n",
              "    .dataframe tbody tr th:only-of-type {\n",
              "        vertical-align: middle;\n",
              "    }\n",
              "\n",
              "    .dataframe tbody tr th {\n",
              "        vertical-align: top;\n",
              "    }\n",
              "\n",
              "    .dataframe thead th {\n",
              "        text-align: right;\n",
              "    }\n",
              "</style>\n",
              "<table border=\"1\" class=\"dataframe\">\n",
              "  <thead>\n",
              "    <tr style=\"text-align: right;\">\n",
              "      <th></th>\n",
              "      <th>Name</th>\n",
              "      <th>DOB</th>\n",
              "      <th>Age</th>\n",
              "      <th>Vocation</th>\n",
              "      <th>Smoke</th>\n",
              "      <th>HR</th>\n",
              "      <th>sBP</th>\n",
              "      <th>CholesterolBefore</th>\n",
              "      <th>TAG</th>\n",
              "      <th>Survey</th>\n",
              "      <th>CholesterolAfter</th>\n",
              "      <th>Delta</th>\n",
              "      <th>Group</th>\n",
              "    </tr>\n",
              "  </thead>\n",
              "  <tbody>\n",
              "    <tr>\n",
              "      <th>0</th>\n",
              "      <td>Dylan Patton</td>\n",
              "      <td>1981-10-07</td>\n",
              "      <td>43</td>\n",
              "      <td>Energy manager</td>\n",
              "      <td>0</td>\n",
              "      <td>47</td>\n",
              "      <td>145</td>\n",
              "      <td>1.2</td>\n",
              "      <td>1.2</td>\n",
              "      <td>1</td>\n",
              "      <td>0.7</td>\n",
              "      <td>0.5</td>\n",
              "      <td>Active</td>\n",
              "    </tr>\n",
              "    <tr>\n",
              "      <th>2</th>\n",
              "      <td>Samantha Williams</td>\n",
              "      <td>1973-12-21</td>\n",
              "      <td>33</td>\n",
              "      <td>IT consultant</td>\n",
              "      <td>0</td>\n",
              "      <td>54</td>\n",
              "      <td>120</td>\n",
              "      <td>2.0</td>\n",
              "      <td>1.3</td>\n",
              "      <td>3</td>\n",
              "      <td>1.7</td>\n",
              "      <td>0.3</td>\n",
              "      <td>Active</td>\n",
              "    </tr>\n",
              "    <tr>\n",
              "      <th>4</th>\n",
              "      <td>Robert Wilson</td>\n",
              "      <td>1964-06-23</td>\n",
              "      <td>46</td>\n",
              "      <td>Clinical embryologist</td>\n",
              "      <td>0</td>\n",
              "      <td>61</td>\n",
              "      <td>138</td>\n",
              "      <td>2.8</td>\n",
              "      <td>2.1</td>\n",
              "      <td>5</td>\n",
              "      <td>2.8</td>\n",
              "      <td>0.0</td>\n",
              "      <td>Active</td>\n",
              "    </tr>\n",
              "    <tr>\n",
              "      <th>188</th>\n",
              "      <td>Joan Chavez</td>\n",
              "      <td>1999-10-07</td>\n",
              "      <td>41</td>\n",
              "      <td>Energy manager</td>\n",
              "      <td>0</td>\n",
              "      <td>93</td>\n",
              "      <td>182</td>\n",
              "      <td>9.1</td>\n",
              "      <td>5.0</td>\n",
              "      <td>2</td>\n",
              "      <td>8.8</td>\n",
              "      <td>0.3</td>\n",
              "      <td>Control</td>\n",
              "    </tr>\n",
              "  </tbody>\n",
              "</table>\n",
              "</div>"
            ],
            "text/plain": [
              "                  Name         DOB  Age  ... CholesterolAfter  Delta    Group\n",
              "0         Dylan Patton  1981-10-07   43  ...              0.7    0.5   Active\n",
              "2    Samantha Williams  1973-12-21   33  ...              1.7    0.3   Active\n",
              "4        Robert Wilson  1964-06-23   46  ...              2.8    0.0   Active\n",
              "188        Joan Chavez  1999-10-07   41  ...              8.8    0.3  Control\n",
              "\n",
              "[4 rows x 13 columns]"
            ]
          },
          "metadata": {
            "tags": []
          },
          "execution_count": 42
        }
      ]
    },
    {
      "cell_type": "markdown",
      "metadata": {
        "id": "9lDeJDimjDRW"
      },
      "source": [
        "##CREATE A NEW DATAFRAME WHERE THE WORD MANAGER APPEARS IN THE VOCATION COLUMN"
      ]
    },
    {
      "cell_type": "code",
      "metadata": {
        "colab": {
          "base_uri": "https://localhost:8080/",
          "height": 355
        },
        "id": "m-SkHg-diReE",
        "outputId": "f1ef4950-7c6a-4d46-95eb-2430e290f131"
      },
      "source": [
        "# Build a criterium with the str.contains method\n",
        "crit = df.Vocation.str.contains('manager', na=False)\n",
        "\n",
        "vocation_df = df.loc[crit]\n",
        "vocation_df.head(10)"
      ],
      "execution_count": 43,
      "outputs": [
        {
          "output_type": "execute_result",
          "data": {
            "text/html": [
              "<div>\n",
              "<style scoped>\n",
              "    .dataframe tbody tr th:only-of-type {\n",
              "        vertical-align: middle;\n",
              "    }\n",
              "\n",
              "    .dataframe tbody tr th {\n",
              "        vertical-align: top;\n",
              "    }\n",
              "\n",
              "    .dataframe thead th {\n",
              "        text-align: right;\n",
              "    }\n",
              "</style>\n",
              "<table border=\"1\" class=\"dataframe\">\n",
              "  <thead>\n",
              "    <tr style=\"text-align: right;\">\n",
              "      <th></th>\n",
              "      <th>Name</th>\n",
              "      <th>DOB</th>\n",
              "      <th>Age</th>\n",
              "      <th>Vocation</th>\n",
              "      <th>Smoke</th>\n",
              "      <th>HR</th>\n",
              "      <th>sBP</th>\n",
              "      <th>CholesterolBefore</th>\n",
              "      <th>TAG</th>\n",
              "      <th>Survey</th>\n",
              "      <th>CholesterolAfter</th>\n",
              "      <th>Delta</th>\n",
              "      <th>Group</th>\n",
              "    </tr>\n",
              "  </thead>\n",
              "  <tbody>\n",
              "    <tr>\n",
              "      <th>0</th>\n",
              "      <td>Dylan Patton</td>\n",
              "      <td>1981-10-07</td>\n",
              "      <td>43</td>\n",
              "      <td>Energy manager</td>\n",
              "      <td>0</td>\n",
              "      <td>47</td>\n",
              "      <td>145</td>\n",
              "      <td>1.2</td>\n",
              "      <td>1.2</td>\n",
              "      <td>1</td>\n",
              "      <td>0.7</td>\n",
              "      <td>0.5</td>\n",
              "      <td>Active</td>\n",
              "    </tr>\n",
              "    <tr>\n",
              "      <th>34</th>\n",
              "      <td>Mr. Tyler Strickland DDS</td>\n",
              "      <td>1940-08-27</td>\n",
              "      <td>46</td>\n",
              "      <td>Tourist information centre manager</td>\n",
              "      <td>0</td>\n",
              "      <td>62</td>\n",
              "      <td>136</td>\n",
              "      <td>4.1</td>\n",
              "      <td>2.3</td>\n",
              "      <td>2</td>\n",
              "      <td>3.8</td>\n",
              "      <td>0.3</td>\n",
              "      <td>Control</td>\n",
              "    </tr>\n",
              "    <tr>\n",
              "      <th>54</th>\n",
              "      <td>Stephanie Jacobs</td>\n",
              "      <td>1977-06-18</td>\n",
              "      <td>38</td>\n",
              "      <td>Estate manager/land agent</td>\n",
              "      <td>0</td>\n",
              "      <td>69</td>\n",
              "      <td>139</td>\n",
              "      <td>4.4</td>\n",
              "      <td>2.7</td>\n",
              "      <td>2</td>\n",
              "      <td>4.0</td>\n",
              "      <td>0.4</td>\n",
              "      <td>Active</td>\n",
              "    </tr>\n",
              "    <tr>\n",
              "      <th>55</th>\n",
              "      <td>Juan Johnson</td>\n",
              "      <td>1956-12-09</td>\n",
              "      <td>51</td>\n",
              "      <td>Logistics and distribution manager</td>\n",
              "      <td>0</td>\n",
              "      <td>65</td>\n",
              "      <td>141</td>\n",
              "      <td>4.5</td>\n",
              "      <td>2.9</td>\n",
              "      <td>5</td>\n",
              "      <td>4.0</td>\n",
              "      <td>0.5</td>\n",
              "      <td>Control</td>\n",
              "    </tr>\n",
              "    <tr>\n",
              "      <th>71</th>\n",
              "      <td>Tina Martinez</td>\n",
              "      <td>1941-05-31</td>\n",
              "      <td>74</td>\n",
              "      <td>Passenger transport manager</td>\n",
              "      <td>1</td>\n",
              "      <td>69</td>\n",
              "      <td>146</td>\n",
              "      <td>4.8</td>\n",
              "      <td>3.1</td>\n",
              "      <td>4</td>\n",
              "      <td>4.5</td>\n",
              "      <td>0.3</td>\n",
              "      <td>Active</td>\n",
              "    </tr>\n",
              "    <tr>\n",
              "      <th>107</th>\n",
              "      <td>Kelly Rivera</td>\n",
              "      <td>1939-07-05</td>\n",
              "      <td>75</td>\n",
              "      <td>Call centre manager</td>\n",
              "      <td>0</td>\n",
              "      <td>78</td>\n",
              "      <td>170</td>\n",
              "      <td>6.0</td>\n",
              "      <td>3.2</td>\n",
              "      <td>4</td>\n",
              "      <td>5.9</td>\n",
              "      <td>0.1</td>\n",
              "      <td>Active</td>\n",
              "    </tr>\n",
              "    <tr>\n",
              "      <th>127</th>\n",
              "      <td>Michael Black</td>\n",
              "      <td>1973-03-18</td>\n",
              "      <td>35</td>\n",
              "      <td>Fish farm manager</td>\n",
              "      <td>0</td>\n",
              "      <td>85</td>\n",
              "      <td>178</td>\n",
              "      <td>7.1</td>\n",
              "      <td>3.9</td>\n",
              "      <td>4</td>\n",
              "      <td>6.9</td>\n",
              "      <td>0.2</td>\n",
              "      <td>Active</td>\n",
              "    </tr>\n",
              "    <tr>\n",
              "      <th>130</th>\n",
              "      <td>Stephanie Pruitt</td>\n",
              "      <td>1996-01-09</td>\n",
              "      <td>68</td>\n",
              "      <td>Heritage manager</td>\n",
              "      <td>0</td>\n",
              "      <td>85</td>\n",
              "      <td>186</td>\n",
              "      <td>7.3</td>\n",
              "      <td>3.8</td>\n",
              "      <td>3</td>\n",
              "      <td>7.0</td>\n",
              "      <td>0.3</td>\n",
              "      <td>Active</td>\n",
              "    </tr>\n",
              "    <tr>\n",
              "      <th>145</th>\n",
              "      <td>Kevin Shields</td>\n",
              "      <td>1982-04-19</td>\n",
              "      <td>54</td>\n",
              "      <td>Accommodation manager</td>\n",
              "      <td>2</td>\n",
              "      <td>86</td>\n",
              "      <td>190</td>\n",
              "      <td>7.7</td>\n",
              "      <td>4.0</td>\n",
              "      <td>4</td>\n",
              "      <td>7.3</td>\n",
              "      <td>0.4</td>\n",
              "      <td>Active</td>\n",
              "    </tr>\n",
              "    <tr>\n",
              "      <th>146</th>\n",
              "      <td>Jennifer Kelly</td>\n",
              "      <td>1970-11-05</td>\n",
              "      <td>66</td>\n",
              "      <td>Public house manager</td>\n",
              "      <td>1</td>\n",
              "      <td>85</td>\n",
              "      <td>189</td>\n",
              "      <td>7.7</td>\n",
              "      <td>4.7</td>\n",
              "      <td>5</td>\n",
              "      <td>7.7</td>\n",
              "      <td>0.0</td>\n",
              "      <td>Control</td>\n",
              "    </tr>\n",
              "  </tbody>\n",
              "</table>\n",
              "</div>"
            ],
            "text/plain": [
              "                         Name         DOB  ...  Delta    Group\n",
              "0                Dylan Patton  1981-10-07  ...    0.5   Active\n",
              "34   Mr. Tyler Strickland DDS  1940-08-27  ...    0.3  Control\n",
              "54           Stephanie Jacobs  1977-06-18  ...    0.4   Active\n",
              "55               Juan Johnson  1956-12-09  ...    0.5  Control\n",
              "71              Tina Martinez  1941-05-31  ...    0.3   Active\n",
              "107              Kelly Rivera  1939-07-05  ...    0.1   Active\n",
              "127             Michael Black  1973-03-18  ...    0.2   Active\n",
              "130          Stephanie Pruitt  1996-01-09  ...    0.3   Active\n",
              "145             Kevin Shields  1982-04-19  ...    0.4   Active\n",
              "146            Jennifer Kelly  1970-11-05  ...    0.0  Control\n",
              "\n",
              "[10 rows x 13 columns]"
            ]
          },
          "metadata": {
            "tags": []
          },
          "execution_count": 43
        }
      ]
    },
    {
      "cell_type": "markdown",
      "metadata": {
        "id": "9zIjtITDjYeB"
      },
      "source": [
        "##UPDATING OR CHANGING THE VALUES IN A DATAFRAME"
      ]
    },
    {
      "cell_type": "markdown",
      "metadata": {
        "id": "hBaLJwlpjbZK"
      },
      "source": [
        "###RENAMING COLUMNS"
      ]
    },
    {
      "cell_type": "code",
      "metadata": {
        "colab": {
          "base_uri": "https://localhost:8080/"
        },
        "id": "4k1r-OT4jTzO",
        "outputId": "2fbc7083-3d9a-4593-cf31-ff4b18af7dac"
      },
      "source": [
        "df.rename(columns={'Name':'Participant'}, inplace=True)\n",
        "df.columns"
      ],
      "execution_count": 44,
      "outputs": [
        {
          "output_type": "execute_result",
          "data": {
            "text/plain": [
              "Index(['Participant', 'DOB', 'Age', 'Vocation', 'Smoke', 'HR', 'sBP',\n",
              "       'CholesterolBefore', 'TAG', 'Survey', 'CholesterolAfter', 'Delta',\n",
              "       'Group'],\n",
              "      dtype='object')"
            ]
          },
          "metadata": {
            "tags": []
          },
          "execution_count": 44
        }
      ]
    },
    {
      "cell_type": "code",
      "metadata": {
        "colab": {
          "base_uri": "https://localhost:8080/",
          "height": 202
        },
        "id": "7u4_gU_pjfjd",
        "outputId": "baa00a84-af52-4944-e421-4e0ea9ef8f8d"
      },
      "source": [
        "df.head()"
      ],
      "execution_count": 45,
      "outputs": [
        {
          "output_type": "execute_result",
          "data": {
            "text/html": [
              "<div>\n",
              "<style scoped>\n",
              "    .dataframe tbody tr th:only-of-type {\n",
              "        vertical-align: middle;\n",
              "    }\n",
              "\n",
              "    .dataframe tbody tr th {\n",
              "        vertical-align: top;\n",
              "    }\n",
              "\n",
              "    .dataframe thead th {\n",
              "        text-align: right;\n",
              "    }\n",
              "</style>\n",
              "<table border=\"1\" class=\"dataframe\">\n",
              "  <thead>\n",
              "    <tr style=\"text-align: right;\">\n",
              "      <th></th>\n",
              "      <th>Participant</th>\n",
              "      <th>DOB</th>\n",
              "      <th>Age</th>\n",
              "      <th>Vocation</th>\n",
              "      <th>Smoke</th>\n",
              "      <th>HR</th>\n",
              "      <th>sBP</th>\n",
              "      <th>CholesterolBefore</th>\n",
              "      <th>TAG</th>\n",
              "      <th>Survey</th>\n",
              "      <th>CholesterolAfter</th>\n",
              "      <th>Delta</th>\n",
              "      <th>Group</th>\n",
              "    </tr>\n",
              "  </thead>\n",
              "  <tbody>\n",
              "    <tr>\n",
              "      <th>0</th>\n",
              "      <td>Dylan Patton</td>\n",
              "      <td>1981-10-07</td>\n",
              "      <td>43</td>\n",
              "      <td>Energy manager</td>\n",
              "      <td>0</td>\n",
              "      <td>47</td>\n",
              "      <td>145</td>\n",
              "      <td>1.2</td>\n",
              "      <td>1.2</td>\n",
              "      <td>1</td>\n",
              "      <td>0.7</td>\n",
              "      <td>0.5</td>\n",
              "      <td>Active</td>\n",
              "    </tr>\n",
              "    <tr>\n",
              "      <th>1</th>\n",
              "      <td>Sandra Howard</td>\n",
              "      <td>1993-01-27</td>\n",
              "      <td>53</td>\n",
              "      <td>Tax adviser</td>\n",
              "      <td>0</td>\n",
              "      <td>51</td>\n",
              "      <td>115</td>\n",
              "      <td>1.2</td>\n",
              "      <td>0.6</td>\n",
              "      <td>3</td>\n",
              "      <td>1.0</td>\n",
              "      <td>0.2</td>\n",
              "      <td>Active</td>\n",
              "    </tr>\n",
              "    <tr>\n",
              "      <th>2</th>\n",
              "      <td>Samantha Williams</td>\n",
              "      <td>1973-12-21</td>\n",
              "      <td>33</td>\n",
              "      <td>IT consultant</td>\n",
              "      <td>0</td>\n",
              "      <td>54</td>\n",
              "      <td>120</td>\n",
              "      <td>2.0</td>\n",
              "      <td>1.3</td>\n",
              "      <td>3</td>\n",
              "      <td>1.7</td>\n",
              "      <td>0.3</td>\n",
              "      <td>Active</td>\n",
              "    </tr>\n",
              "    <tr>\n",
              "      <th>3</th>\n",
              "      <td>Ashley Hensley</td>\n",
              "      <td>1981-12-01</td>\n",
              "      <td>43</td>\n",
              "      <td>Nurse, children's</td>\n",
              "      <td>0</td>\n",
              "      <td>54</td>\n",
              "      <td>103</td>\n",
              "      <td>2.1</td>\n",
              "      <td>1.6</td>\n",
              "      <td>4</td>\n",
              "      <td>2.1</td>\n",
              "      <td>0.0</td>\n",
              "      <td>Active</td>\n",
              "    </tr>\n",
              "    <tr>\n",
              "      <th>4</th>\n",
              "      <td>Robert Wilson</td>\n",
              "      <td>1964-06-23</td>\n",
              "      <td>46</td>\n",
              "      <td>Clinical embryologist</td>\n",
              "      <td>0</td>\n",
              "      <td>61</td>\n",
              "      <td>138</td>\n",
              "      <td>2.8</td>\n",
              "      <td>2.1</td>\n",
              "      <td>5</td>\n",
              "      <td>2.8</td>\n",
              "      <td>0.0</td>\n",
              "      <td>Active</td>\n",
              "    </tr>\n",
              "  </tbody>\n",
              "</table>\n",
              "</div>"
            ],
            "text/plain": [
              "         Participant         DOB  Age  ... CholesterolAfter  Delta   Group\n",
              "0       Dylan Patton  1981-10-07   43  ...              0.7    0.5  Active\n",
              "1      Sandra Howard  1993-01-27   53  ...              1.0    0.2  Active\n",
              "2  Samantha Williams  1973-12-21   33  ...              1.7    0.3  Active\n",
              "3     Ashley Hensley  1981-12-01   43  ...              2.1    0.0  Active\n",
              "4      Robert Wilson  1964-06-23   46  ...              2.8    0.0  Active\n",
              "\n",
              "[5 rows x 13 columns]"
            ]
          },
          "metadata": {
            "tags": []
          },
          "execution_count": 45
        }
      ]
    },
    {
      "cell_type": "markdown",
      "metadata": {
        "id": "3SE4Xo4ejlW2"
      },
      "source": [
        "ADD  2  TO EACH AGE VALUE"
      ]
    },
    {
      "cell_type": "code",
      "metadata": {
        "id": "W_5Sd5DTjhlK"
      },
      "source": [
        "def add2(x):\n",
        "  return x + 2"
      ],
      "execution_count": 46,
      "outputs": []
    },
    {
      "cell_type": "code",
      "metadata": {
        "colab": {
          "base_uri": "https://localhost:8080/"
        },
        "id": "eE9wcZqmjniV",
        "outputId": "0f802eda-c8e9-480f-bcb3-7f618ff2fcb5"
      },
      "source": [
        "df.Age.head()"
      ],
      "execution_count": 47,
      "outputs": [
        {
          "output_type": "execute_result",
          "data": {
            "text/plain": [
              "0    43\n",
              "1    53\n",
              "2    33\n",
              "3    43\n",
              "4    46\n",
              "Name: Age, dtype: int64"
            ]
          },
          "metadata": {
            "tags": []
          },
          "execution_count": 47
        }
      ]
    },
    {
      "cell_type": "code",
      "metadata": {
        "colab": {
          "base_uri": "https://localhost:8080/"
        },
        "id": "WMbtIG5sjrPZ",
        "outputId": "1586f7f7-ff9a-4387-9cff-93e55ba8601e"
      },
      "source": [
        "df.Age = df.Age.apply(add2)\n",
        "df.Age.head()"
      ],
      "execution_count": 48,
      "outputs": [
        {
          "output_type": "execute_result",
          "data": {
            "text/plain": [
              "0    45\n",
              "1    55\n",
              "2    35\n",
              "3    45\n",
              "4    48\n",
              "Name: Age, dtype: int64"
            ]
          },
          "metadata": {
            "tags": []
          },
          "execution_count": 48
        }
      ]
    },
    {
      "cell_type": "code",
      "metadata": {
        "colab": {
          "base_uri": "https://localhost:8080/"
        },
        "id": "jjwD9oytjte-",
        "outputId": "1b2ccb8d-ba27-4fcb-ca34-43c26c85f47d"
      },
      "source": [
        "df.Age = df.Age.apply(lambda x: x - 2)\n",
        "df.Age.head()"
      ],
      "execution_count": 49,
      "outputs": [
        {
          "output_type": "execute_result",
          "data": {
            "text/plain": [
              "0    43\n",
              "1    53\n",
              "2    33\n",
              "3    43\n",
              "4    46\n",
              "Name: Age, dtype: int64"
            ]
          },
          "metadata": {
            "tags": []
          },
          "execution_count": 49
        }
      ]
    },
    {
      "cell_type": "code",
      "metadata": {
        "id": "q9mUa5NDj3wW"
      },
      "source": [
        "df.Age = df.Age + 2"
      ],
      "execution_count": 50,
      "outputs": []
    },
    {
      "cell_type": "code",
      "metadata": {
        "colab": {
          "base_uri": "https://localhost:8080/"
        },
        "id": "vJJcGw0qj5eo",
        "outputId": "4e8ffde0-a8cd-4c21-a6e4-841252d23567"
      },
      "source": [
        "df.Age.head()"
      ],
      "execution_count": 51,
      "outputs": [
        {
          "output_type": "execute_result",
          "data": {
            "text/plain": [
              "0    45\n",
              "1    55\n",
              "2    35\n",
              "3    45\n",
              "4    48\n",
              "Name: Age, dtype: int64"
            ]
          },
          "metadata": {
            "tags": []
          },
          "execution_count": 51
        }
      ]
    },
    {
      "cell_type": "markdown",
      "metadata": {
        "id": "2kt46Dbyj_wK"
      },
      "source": [
        "CHANGE NOMINAL VARIABLE TO ORDINAL VARIABLE"
      ]
    },
    {
      "cell_type": "code",
      "metadata": {
        "colab": {
          "base_uri": "https://localhost:8080/"
        },
        "id": "gHajxxvAj8aL",
        "outputId": "4c906d73-089a-49a5-dc59-ea107e4cb872"
      },
      "source": [
        "df.Group = df.Group.map({'Control':0, 'Active':1})\n",
        "df.Group.head()"
      ],
      "execution_count": 52,
      "outputs": [
        {
          "output_type": "execute_result",
          "data": {
            "text/plain": [
              "0    1\n",
              "1    1\n",
              "2    1\n",
              "3    1\n",
              "4    1\n",
              "Name: Group, dtype: int64"
            ]
          },
          "metadata": {
            "tags": []
          },
          "execution_count": 52
        }
      ]
    },
    {
      "cell_type": "code",
      "metadata": {
        "colab": {
          "base_uri": "https://localhost:8080/",
          "height": 202
        },
        "id": "eMDE3SK-kBl_",
        "outputId": "59b18da0-6a7c-4b34-9ce4-958569e8fde7"
      },
      "source": [
        "df.head()"
      ],
      "execution_count": 53,
      "outputs": [
        {
          "output_type": "execute_result",
          "data": {
            "text/html": [
              "<div>\n",
              "<style scoped>\n",
              "    .dataframe tbody tr th:only-of-type {\n",
              "        vertical-align: middle;\n",
              "    }\n",
              "\n",
              "    .dataframe tbody tr th {\n",
              "        vertical-align: top;\n",
              "    }\n",
              "\n",
              "    .dataframe thead th {\n",
              "        text-align: right;\n",
              "    }\n",
              "</style>\n",
              "<table border=\"1\" class=\"dataframe\">\n",
              "  <thead>\n",
              "    <tr style=\"text-align: right;\">\n",
              "      <th></th>\n",
              "      <th>Participant</th>\n",
              "      <th>DOB</th>\n",
              "      <th>Age</th>\n",
              "      <th>Vocation</th>\n",
              "      <th>Smoke</th>\n",
              "      <th>HR</th>\n",
              "      <th>sBP</th>\n",
              "      <th>CholesterolBefore</th>\n",
              "      <th>TAG</th>\n",
              "      <th>Survey</th>\n",
              "      <th>CholesterolAfter</th>\n",
              "      <th>Delta</th>\n",
              "      <th>Group</th>\n",
              "    </tr>\n",
              "  </thead>\n",
              "  <tbody>\n",
              "    <tr>\n",
              "      <th>0</th>\n",
              "      <td>Dylan Patton</td>\n",
              "      <td>1981-10-07</td>\n",
              "      <td>45</td>\n",
              "      <td>Energy manager</td>\n",
              "      <td>0</td>\n",
              "      <td>47</td>\n",
              "      <td>145</td>\n",
              "      <td>1.2</td>\n",
              "      <td>1.2</td>\n",
              "      <td>1</td>\n",
              "      <td>0.7</td>\n",
              "      <td>0.5</td>\n",
              "      <td>1</td>\n",
              "    </tr>\n",
              "    <tr>\n",
              "      <th>1</th>\n",
              "      <td>Sandra Howard</td>\n",
              "      <td>1993-01-27</td>\n",
              "      <td>55</td>\n",
              "      <td>Tax adviser</td>\n",
              "      <td>0</td>\n",
              "      <td>51</td>\n",
              "      <td>115</td>\n",
              "      <td>1.2</td>\n",
              "      <td>0.6</td>\n",
              "      <td>3</td>\n",
              "      <td>1.0</td>\n",
              "      <td>0.2</td>\n",
              "      <td>1</td>\n",
              "    </tr>\n",
              "    <tr>\n",
              "      <th>2</th>\n",
              "      <td>Samantha Williams</td>\n",
              "      <td>1973-12-21</td>\n",
              "      <td>35</td>\n",
              "      <td>IT consultant</td>\n",
              "      <td>0</td>\n",
              "      <td>54</td>\n",
              "      <td>120</td>\n",
              "      <td>2.0</td>\n",
              "      <td>1.3</td>\n",
              "      <td>3</td>\n",
              "      <td>1.7</td>\n",
              "      <td>0.3</td>\n",
              "      <td>1</td>\n",
              "    </tr>\n",
              "    <tr>\n",
              "      <th>3</th>\n",
              "      <td>Ashley Hensley</td>\n",
              "      <td>1981-12-01</td>\n",
              "      <td>45</td>\n",
              "      <td>Nurse, children's</td>\n",
              "      <td>0</td>\n",
              "      <td>54</td>\n",
              "      <td>103</td>\n",
              "      <td>2.1</td>\n",
              "      <td>1.6</td>\n",
              "      <td>4</td>\n",
              "      <td>2.1</td>\n",
              "      <td>0.0</td>\n",
              "      <td>1</td>\n",
              "    </tr>\n",
              "    <tr>\n",
              "      <th>4</th>\n",
              "      <td>Robert Wilson</td>\n",
              "      <td>1964-06-23</td>\n",
              "      <td>48</td>\n",
              "      <td>Clinical embryologist</td>\n",
              "      <td>0</td>\n",
              "      <td>61</td>\n",
              "      <td>138</td>\n",
              "      <td>2.8</td>\n",
              "      <td>2.1</td>\n",
              "      <td>5</td>\n",
              "      <td>2.8</td>\n",
              "      <td>0.0</td>\n",
              "      <td>1</td>\n",
              "    </tr>\n",
              "  </tbody>\n",
              "</table>\n",
              "</div>"
            ],
            "text/plain": [
              "         Participant         DOB  Age  ... CholesterolAfter  Delta  Group\n",
              "0       Dylan Patton  1981-10-07   45  ...              0.7    0.5      1\n",
              "1      Sandra Howard  1993-01-27   55  ...              1.0    0.2      1\n",
              "2  Samantha Williams  1973-12-21   35  ...              1.7    0.3      1\n",
              "3     Ashley Hensley  1981-12-01   45  ...              2.1    0.0      1\n",
              "4      Robert Wilson  1964-06-23   48  ...              2.8    0.0      1\n",
              "\n",
              "[5 rows x 13 columns]"
            ]
          },
          "metadata": {
            "tags": []
          },
          "execution_count": 53
        }
      ]
    },
    {
      "cell_type": "markdown",
      "metadata": {
        "id": "iehhFUbykIvM"
      },
      "source": [
        "###CHANGING COLUMNS"
      ]
    },
    {
      "cell_type": "markdown",
      "metadata": {
        "id": "V26P_VxlkKMX"
      },
      "source": [
        "SPLITTING THE PATIENT COLUMN INTO A FirstName and LastName COLUMN"
      ]
    },
    {
      "cell_type": "code",
      "metadata": {
        "colab": {
          "base_uri": "https://localhost:8080/",
          "height": 202
        },
        "id": "XJi3ne-UkGfn",
        "outputId": "e9d7036a-c6c5-4af5-cfa2-14900c49cf45"
      },
      "source": [
        "new_data = df.Participant.str.split(' ', expand=True)\n",
        "df['FirstName'] = new_data[0]\n",
        "df['LastName'] = new_data[1]\n",
        "df.head()"
      ],
      "execution_count": 54,
      "outputs": [
        {
          "output_type": "execute_result",
          "data": {
            "text/html": [
              "<div>\n",
              "<style scoped>\n",
              "    .dataframe tbody tr th:only-of-type {\n",
              "        vertical-align: middle;\n",
              "    }\n",
              "\n",
              "    .dataframe tbody tr th {\n",
              "        vertical-align: top;\n",
              "    }\n",
              "\n",
              "    .dataframe thead th {\n",
              "        text-align: right;\n",
              "    }\n",
              "</style>\n",
              "<table border=\"1\" class=\"dataframe\">\n",
              "  <thead>\n",
              "    <tr style=\"text-align: right;\">\n",
              "      <th></th>\n",
              "      <th>Participant</th>\n",
              "      <th>DOB</th>\n",
              "      <th>Age</th>\n",
              "      <th>Vocation</th>\n",
              "      <th>Smoke</th>\n",
              "      <th>HR</th>\n",
              "      <th>sBP</th>\n",
              "      <th>CholesterolBefore</th>\n",
              "      <th>TAG</th>\n",
              "      <th>Survey</th>\n",
              "      <th>CholesterolAfter</th>\n",
              "      <th>Delta</th>\n",
              "      <th>Group</th>\n",
              "      <th>FirstName</th>\n",
              "      <th>LastName</th>\n",
              "    </tr>\n",
              "  </thead>\n",
              "  <tbody>\n",
              "    <tr>\n",
              "      <th>0</th>\n",
              "      <td>Dylan Patton</td>\n",
              "      <td>1981-10-07</td>\n",
              "      <td>45</td>\n",
              "      <td>Energy manager</td>\n",
              "      <td>0</td>\n",
              "      <td>47</td>\n",
              "      <td>145</td>\n",
              "      <td>1.2</td>\n",
              "      <td>1.2</td>\n",
              "      <td>1</td>\n",
              "      <td>0.7</td>\n",
              "      <td>0.5</td>\n",
              "      <td>1</td>\n",
              "      <td>Dylan</td>\n",
              "      <td>Patton</td>\n",
              "    </tr>\n",
              "    <tr>\n",
              "      <th>1</th>\n",
              "      <td>Sandra Howard</td>\n",
              "      <td>1993-01-27</td>\n",
              "      <td>55</td>\n",
              "      <td>Tax adviser</td>\n",
              "      <td>0</td>\n",
              "      <td>51</td>\n",
              "      <td>115</td>\n",
              "      <td>1.2</td>\n",
              "      <td>0.6</td>\n",
              "      <td>3</td>\n",
              "      <td>1.0</td>\n",
              "      <td>0.2</td>\n",
              "      <td>1</td>\n",
              "      <td>Sandra</td>\n",
              "      <td>Howard</td>\n",
              "    </tr>\n",
              "    <tr>\n",
              "      <th>2</th>\n",
              "      <td>Samantha Williams</td>\n",
              "      <td>1973-12-21</td>\n",
              "      <td>35</td>\n",
              "      <td>IT consultant</td>\n",
              "      <td>0</td>\n",
              "      <td>54</td>\n",
              "      <td>120</td>\n",
              "      <td>2.0</td>\n",
              "      <td>1.3</td>\n",
              "      <td>3</td>\n",
              "      <td>1.7</td>\n",
              "      <td>0.3</td>\n",
              "      <td>1</td>\n",
              "      <td>Samantha</td>\n",
              "      <td>Williams</td>\n",
              "    </tr>\n",
              "    <tr>\n",
              "      <th>3</th>\n",
              "      <td>Ashley Hensley</td>\n",
              "      <td>1981-12-01</td>\n",
              "      <td>45</td>\n",
              "      <td>Nurse, children's</td>\n",
              "      <td>0</td>\n",
              "      <td>54</td>\n",
              "      <td>103</td>\n",
              "      <td>2.1</td>\n",
              "      <td>1.6</td>\n",
              "      <td>4</td>\n",
              "      <td>2.1</td>\n",
              "      <td>0.0</td>\n",
              "      <td>1</td>\n",
              "      <td>Ashley</td>\n",
              "      <td>Hensley</td>\n",
              "    </tr>\n",
              "    <tr>\n",
              "      <th>4</th>\n",
              "      <td>Robert Wilson</td>\n",
              "      <td>1964-06-23</td>\n",
              "      <td>48</td>\n",
              "      <td>Clinical embryologist</td>\n",
              "      <td>0</td>\n",
              "      <td>61</td>\n",
              "      <td>138</td>\n",
              "      <td>2.8</td>\n",
              "      <td>2.1</td>\n",
              "      <td>5</td>\n",
              "      <td>2.8</td>\n",
              "      <td>0.0</td>\n",
              "      <td>1</td>\n",
              "      <td>Robert</td>\n",
              "      <td>Wilson</td>\n",
              "    </tr>\n",
              "  </tbody>\n",
              "</table>\n",
              "</div>"
            ],
            "text/plain": [
              "         Participant         DOB  Age  ... Group  FirstName  LastName\n",
              "0       Dylan Patton  1981-10-07   45  ...     1      Dylan    Patton\n",
              "1      Sandra Howard  1993-01-27   55  ...     1     Sandra    Howard\n",
              "2  Samantha Williams  1973-12-21   35  ...     1   Samantha  Williams\n",
              "3     Ashley Hensley  1981-12-01   45  ...     1     Ashley   Hensley\n",
              "4      Robert Wilson  1964-06-23   48  ...     1     Robert    Wilson\n",
              "\n",
              "[5 rows x 15 columns]"
            ]
          },
          "metadata": {
            "tags": []
          },
          "execution_count": 54
        }
      ]
    },
    {
      "cell_type": "code",
      "metadata": {
        "colab": {
          "base_uri": "https://localhost:8080/"
        },
        "id": "yOqyAShmkNmN",
        "outputId": "87e4c76b-ae85-44a0-b15f-79d6b5d56bfc"
      },
      "source": [
        "df['Name'] = df.LastName + ', ' + df.FirstName\n",
        "df.Name.head()"
      ],
      "execution_count": 55,
      "outputs": [
        {
          "output_type": "execute_result",
          "data": {
            "text/plain": [
              "0         Patton, Dylan\n",
              "1        Howard, Sandra\n",
              "2    Williams, Samantha\n",
              "3       Hensley, Ashley\n",
              "4        Wilson, Robert\n",
              "Name: Name, dtype: object"
            ]
          },
          "metadata": {
            "tags": []
          },
          "execution_count": 55
        }
      ]
    },
    {
      "cell_type": "markdown",
      "metadata": {
        "id": "oTkJw5Bgm5Ny"
      },
      "source": [
        "CREATE A CATEGORICAL VARIABLE FROM NUMERICAL DATA"
      ]
    },
    {
      "cell_type": "code",
      "metadata": {
        "colab": {
          "base_uri": "https://localhost:8080/"
        },
        "id": "pFlSM6vPkUk2",
        "outputId": "67afc614-5ee9-46da-c00b-6ebb272d8303"
      },
      "source": [
        "df.CholesterolBefore.min()"
      ],
      "execution_count": 56,
      "outputs": [
        {
          "output_type": "execute_result",
          "data": {
            "text/plain": [
              "1.2"
            ]
          },
          "metadata": {
            "tags": []
          },
          "execution_count": 56
        }
      ]
    },
    {
      "cell_type": "code",
      "metadata": {
        "colab": {
          "base_uri": "https://localhost:8080/"
        },
        "id": "4lL_80KFm7nD",
        "outputId": "dbe02136-72cf-455a-c573-b45a769ee916"
      },
      "source": [
        "df.CholesterolBefore.max()"
      ],
      "execution_count": 57,
      "outputs": [
        {
          "output_type": "execute_result",
          "data": {
            "text/plain": [
              "11.1"
            ]
          },
          "metadata": {
            "tags": []
          },
          "execution_count": 57
        }
      ]
    },
    {
      "cell_type": "code",
      "metadata": {
        "id": "S_j7u6hRm9Sc"
      },
      "source": [
        "# Non-physiological binning of cholesterol values\n",
        "df['CholesterolBeforeLevel'] = pd.cut(df.CholesterolBefore, bins=3, labels=['low', 'intermediate', 'high'])"
      ],
      "execution_count": 58,
      "outputs": []
    },
    {
      "cell_type": "code",
      "metadata": {
        "colab": {
          "base_uri": "https://localhost:8080/"
        },
        "id": "QUK-sUbfnC3B",
        "outputId": "42f5af9a-26b9-492e-980c-fe4fb3b7ba9b"
      },
      "source": [
        "df[['CholesterolBefore', 'CholesterolBeforeLevel']].head(10).to_numpy()"
      ],
      "execution_count": 59,
      "outputs": [
        {
          "output_type": "execute_result",
          "data": {
            "text/plain": [
              "array([[1.2, 'low'],\n",
              "       [1.2, 'low'],\n",
              "       [2.0, 'low'],\n",
              "       [2.1, 'low'],\n",
              "       [2.8, 'low'],\n",
              "       [2.8, 'low'],\n",
              "       [2.9, 'low'],\n",
              "       [3.1, 'low'],\n",
              "       [3.1, 'low'],\n",
              "       [3.2, 'low']], dtype=object)"
            ]
          },
          "metadata": {
            "tags": []
          },
          "execution_count": 59
        }
      ]
    },
    {
      "cell_type": "code",
      "metadata": {
        "id": "Sz7Jk0z9nFQJ"
      },
      "source": [
        "df.CholesterolBeforeLevel = pd.cut(df.CholesterolBefore,\n",
        "                                   bins=[0,5,10,20],\n",
        "                                   right=False,\n",
        "                                   labels=['low', 'normal', 'high'])"
      ],
      "execution_count": 60,
      "outputs": []
    },
    {
      "cell_type": "markdown",
      "metadata": {
        "id": "EsPwQ0WznMSj"
      },
      "source": [
        "DELETE A COLUMN"
      ]
    },
    {
      "cell_type": "code",
      "metadata": {
        "id": "1hb8DxT4nKcy"
      },
      "source": [
        "df.drop(columns=['Name'], inplace=True)"
      ],
      "execution_count": 61,
      "outputs": []
    },
    {
      "cell_type": "code",
      "metadata": {
        "colab": {
          "base_uri": "https://localhost:8080/"
        },
        "id": "Y4ICL3EEolNm",
        "outputId": "fc0482c3-c2c8-4b34-9b13-12c44a7db420"
      },
      "source": [
        "df.columns"
      ],
      "execution_count": 62,
      "outputs": [
        {
          "output_type": "execute_result",
          "data": {
            "text/plain": [
              "Index(['Participant', 'DOB', 'Age', 'Vocation', 'Smoke', 'HR', 'sBP',\n",
              "       'CholesterolBefore', 'TAG', 'Survey', 'CholesterolAfter', 'Delta',\n",
              "       'Group', 'FirstName', 'LastName', 'CholesterolBeforeLevel'],\n",
              "      dtype='object')"
            ]
          },
          "metadata": {
            "tags": []
          },
          "execution_count": 62
        }
      ]
    },
    {
      "cell_type": "markdown",
      "metadata": {
        "id": "XuPLuuNmo4RP"
      },
      "source": [
        "###SORTING"
      ]
    },
    {
      "cell_type": "code",
      "metadata": {
        "colab": {
          "base_uri": "https://localhost:8080/",
          "height": 581
        },
        "id": "-LF_Fl4aomvU",
        "outputId": "fc7532a6-bc2d-41aa-98f0-ccb69b072739"
      },
      "source": [
        "df.sort_values(by='LastName')"
      ],
      "execution_count": 63,
      "outputs": [
        {
          "output_type": "execute_result",
          "data": {
            "text/html": [
              "<div>\n",
              "<style scoped>\n",
              "    .dataframe tbody tr th:only-of-type {\n",
              "        vertical-align: middle;\n",
              "    }\n",
              "\n",
              "    .dataframe tbody tr th {\n",
              "        vertical-align: top;\n",
              "    }\n",
              "\n",
              "    .dataframe thead th {\n",
              "        text-align: right;\n",
              "    }\n",
              "</style>\n",
              "<table border=\"1\" class=\"dataframe\">\n",
              "  <thead>\n",
              "    <tr style=\"text-align: right;\">\n",
              "      <th></th>\n",
              "      <th>Participant</th>\n",
              "      <th>DOB</th>\n",
              "      <th>Age</th>\n",
              "      <th>Vocation</th>\n",
              "      <th>Smoke</th>\n",
              "      <th>HR</th>\n",
              "      <th>sBP</th>\n",
              "      <th>CholesterolBefore</th>\n",
              "      <th>TAG</th>\n",
              "      <th>Survey</th>\n",
              "      <th>CholesterolAfter</th>\n",
              "      <th>Delta</th>\n",
              "      <th>Group</th>\n",
              "      <th>FirstName</th>\n",
              "      <th>LastName</th>\n",
              "      <th>CholesterolBeforeLevel</th>\n",
              "    </tr>\n",
              "  </thead>\n",
              "  <tbody>\n",
              "    <tr>\n",
              "      <th>53</th>\n",
              "      <td>Christopher Abbott</td>\n",
              "      <td>1963-06-12</td>\n",
              "      <td>69</td>\n",
              "      <td>Ergonomist</td>\n",
              "      <td>2</td>\n",
              "      <td>66</td>\n",
              "      <td>128</td>\n",
              "      <td>4.4</td>\n",
              "      <td>2.6</td>\n",
              "      <td>2</td>\n",
              "      <td>4.2</td>\n",
              "      <td>0.2</td>\n",
              "      <td>0</td>\n",
              "      <td>Christopher</td>\n",
              "      <td>Abbott</td>\n",
              "      <td>low</td>\n",
              "    </tr>\n",
              "    <tr>\n",
              "      <th>170</th>\n",
              "      <td>Mary Aguilar</td>\n",
              "      <td>1952-01-09</td>\n",
              "      <td>64</td>\n",
              "      <td>Furniture designer</td>\n",
              "      <td>0</td>\n",
              "      <td>88</td>\n",
              "      <td>182</td>\n",
              "      <td>8.3</td>\n",
              "      <td>5.1</td>\n",
              "      <td>2</td>\n",
              "      <td>8.2</td>\n",
              "      <td>0.1</td>\n",
              "      <td>0</td>\n",
              "      <td>Mary</td>\n",
              "      <td>Aguilar</td>\n",
              "      <td>normal</td>\n",
              "    </tr>\n",
              "    <tr>\n",
              "      <th>22</th>\n",
              "      <td>James Aguilar</td>\n",
              "      <td>2000-11-05</td>\n",
              "      <td>53</td>\n",
              "      <td>Immunologist</td>\n",
              "      <td>0</td>\n",
              "      <td>64</td>\n",
              "      <td>134</td>\n",
              "      <td>3.7</td>\n",
              "      <td>2.0</td>\n",
              "      <td>1</td>\n",
              "      <td>3.5</td>\n",
              "      <td>0.2</td>\n",
              "      <td>0</td>\n",
              "      <td>James</td>\n",
              "      <td>Aguilar</td>\n",
              "      <td>low</td>\n",
              "    </tr>\n",
              "    <tr>\n",
              "      <th>81</th>\n",
              "      <td>Marissa Anderson PhD</td>\n",
              "      <td>1940-05-15</td>\n",
              "      <td>51</td>\n",
              "      <td>Nurse, learning disability</td>\n",
              "      <td>1</td>\n",
              "      <td>75</td>\n",
              "      <td>170</td>\n",
              "      <td>5.0</td>\n",
              "      <td>2.7</td>\n",
              "      <td>3</td>\n",
              "      <td>4.7</td>\n",
              "      <td>0.3</td>\n",
              "      <td>1</td>\n",
              "      <td>Marissa</td>\n",
              "      <td>Anderson</td>\n",
              "      <td>normal</td>\n",
              "    </tr>\n",
              "    <tr>\n",
              "      <th>152</th>\n",
              "      <td>Andrea Anderson</td>\n",
              "      <td>1974-04-08</td>\n",
              "      <td>75</td>\n",
              "      <td>Horticultural consultant</td>\n",
              "      <td>1</td>\n",
              "      <td>85</td>\n",
              "      <td>183</td>\n",
              "      <td>7.9</td>\n",
              "      <td>4.2</td>\n",
              "      <td>4</td>\n",
              "      <td>7.7</td>\n",
              "      <td>0.2</td>\n",
              "      <td>0</td>\n",
              "      <td>Andrea</td>\n",
              "      <td>Anderson</td>\n",
              "      <td>normal</td>\n",
              "    </tr>\n",
              "    <tr>\n",
              "      <th>...</th>\n",
              "      <td>...</td>\n",
              "      <td>...</td>\n",
              "      <td>...</td>\n",
              "      <td>...</td>\n",
              "      <td>...</td>\n",
              "      <td>...</td>\n",
              "      <td>...</td>\n",
              "      <td>...</td>\n",
              "      <td>...</td>\n",
              "      <td>...</td>\n",
              "      <td>...</td>\n",
              "      <td>...</td>\n",
              "      <td>...</td>\n",
              "      <td>...</td>\n",
              "      <td>...</td>\n",
              "      <td>...</td>\n",
              "    </tr>\n",
              "    <tr>\n",
              "      <th>157</th>\n",
              "      <td>Jodi Wood</td>\n",
              "      <td>1946-11-29</td>\n",
              "      <td>56</td>\n",
              "      <td>Animal technologist</td>\n",
              "      <td>0</td>\n",
              "      <td>87</td>\n",
              "      <td>173</td>\n",
              "      <td>8.0</td>\n",
              "      <td>4.0</td>\n",
              "      <td>5</td>\n",
              "      <td>7.7</td>\n",
              "      <td>0.3</td>\n",
              "      <td>1</td>\n",
              "      <td>Jodi</td>\n",
              "      <td>Wood</td>\n",
              "      <td>normal</td>\n",
              "    </tr>\n",
              "    <tr>\n",
              "      <th>185</th>\n",
              "      <td>James Wright</td>\n",
              "      <td>1997-09-20</td>\n",
              "      <td>65</td>\n",
              "      <td>Advertising account executive</td>\n",
              "      <td>1</td>\n",
              "      <td>87</td>\n",
              "      <td>193</td>\n",
              "      <td>8.8</td>\n",
              "      <td>5.3</td>\n",
              "      <td>3</td>\n",
              "      <td>8.5</td>\n",
              "      <td>0.3</td>\n",
              "      <td>0</td>\n",
              "      <td>James</td>\n",
              "      <td>Wright</td>\n",
              "      <td>normal</td>\n",
              "    </tr>\n",
              "    <tr>\n",
              "      <th>60</th>\n",
              "      <td>Janet Young</td>\n",
              "      <td>1981-03-18</td>\n",
              "      <td>33</td>\n",
              "      <td>Aeronautical engineer</td>\n",
              "      <td>1</td>\n",
              "      <td>65</td>\n",
              "      <td>133</td>\n",
              "      <td>4.5</td>\n",
              "      <td>2.3</td>\n",
              "      <td>3</td>\n",
              "      <td>4.1</td>\n",
              "      <td>0.4</td>\n",
              "      <td>0</td>\n",
              "      <td>Janet</td>\n",
              "      <td>Young</td>\n",
              "      <td>low</td>\n",
              "    </tr>\n",
              "    <tr>\n",
              "      <th>6</th>\n",
              "      <td>Frank Zimmerman</td>\n",
              "      <td>1981-03-04</td>\n",
              "      <td>56</td>\n",
              "      <td>Police officer</td>\n",
              "      <td>0</td>\n",
              "      <td>60</td>\n",
              "      <td>129</td>\n",
              "      <td>2.9</td>\n",
              "      <td>2.4</td>\n",
              "      <td>1</td>\n",
              "      <td>2.6</td>\n",
              "      <td>0.3</td>\n",
              "      <td>1</td>\n",
              "      <td>Frank</td>\n",
              "      <td>Zimmerman</td>\n",
              "      <td>low</td>\n",
              "    </tr>\n",
              "    <tr>\n",
              "      <th>100</th>\n",
              "      <td>Kristina Zimmerman</td>\n",
              "      <td>1994-01-01</td>\n",
              "      <td>74</td>\n",
              "      <td>Agricultural consultant</td>\n",
              "      <td>0</td>\n",
              "      <td>70</td>\n",
              "      <td>157</td>\n",
              "      <td>5.7</td>\n",
              "      <td>3.6</td>\n",
              "      <td>1</td>\n",
              "      <td>5.3</td>\n",
              "      <td>0.4</td>\n",
              "      <td>0</td>\n",
              "      <td>Kristina</td>\n",
              "      <td>Zimmerman</td>\n",
              "      <td>normal</td>\n",
              "    </tr>\n",
              "  </tbody>\n",
              "</table>\n",
              "<p>200 rows × 16 columns</p>\n",
              "</div>"
            ],
            "text/plain": [
              "              Participant         DOB  ...   LastName CholesterolBeforeLevel\n",
              "53     Christopher Abbott  1963-06-12  ...     Abbott                    low\n",
              "170          Mary Aguilar  1952-01-09  ...    Aguilar                 normal\n",
              "22          James Aguilar  2000-11-05  ...    Aguilar                    low\n",
              "81   Marissa Anderson PhD  1940-05-15  ...   Anderson                 normal\n",
              "152       Andrea Anderson  1974-04-08  ...   Anderson                 normal\n",
              "..                    ...         ...  ...        ...                    ...\n",
              "157             Jodi Wood  1946-11-29  ...       Wood                 normal\n",
              "185          James Wright  1997-09-20  ...     Wright                 normal\n",
              "60            Janet Young  1981-03-18  ...      Young                    low\n",
              "6         Frank Zimmerman  1981-03-04  ...  Zimmerman                    low\n",
              "100    Kristina Zimmerman  1994-01-01  ...  Zimmerman                 normal\n",
              "\n",
              "[200 rows x 16 columns]"
            ]
          },
          "metadata": {
            "tags": []
          },
          "execution_count": 63
        }
      ]
    },
    {
      "cell_type": "code",
      "metadata": {
        "colab": {
          "base_uri": "https://localhost:8080/",
          "height": 581
        },
        "id": "x0rtLiqoo-H1",
        "outputId": "d449b03d-e69c-4892-8bfc-af1356df98ae"
      },
      "source": [
        "df.sort_values(by='LastName', ascending=False)"
      ],
      "execution_count": 64,
      "outputs": [
        {
          "output_type": "execute_result",
          "data": {
            "text/html": [
              "<div>\n",
              "<style scoped>\n",
              "    .dataframe tbody tr th:only-of-type {\n",
              "        vertical-align: middle;\n",
              "    }\n",
              "\n",
              "    .dataframe tbody tr th {\n",
              "        vertical-align: top;\n",
              "    }\n",
              "\n",
              "    .dataframe thead th {\n",
              "        text-align: right;\n",
              "    }\n",
              "</style>\n",
              "<table border=\"1\" class=\"dataframe\">\n",
              "  <thead>\n",
              "    <tr style=\"text-align: right;\">\n",
              "      <th></th>\n",
              "      <th>Participant</th>\n",
              "      <th>DOB</th>\n",
              "      <th>Age</th>\n",
              "      <th>Vocation</th>\n",
              "      <th>Smoke</th>\n",
              "      <th>HR</th>\n",
              "      <th>sBP</th>\n",
              "      <th>CholesterolBefore</th>\n",
              "      <th>TAG</th>\n",
              "      <th>Survey</th>\n",
              "      <th>CholesterolAfter</th>\n",
              "      <th>Delta</th>\n",
              "      <th>Group</th>\n",
              "      <th>FirstName</th>\n",
              "      <th>LastName</th>\n",
              "      <th>CholesterolBeforeLevel</th>\n",
              "    </tr>\n",
              "  </thead>\n",
              "  <tbody>\n",
              "    <tr>\n",
              "      <th>100</th>\n",
              "      <td>Kristina Zimmerman</td>\n",
              "      <td>1994-01-01</td>\n",
              "      <td>74</td>\n",
              "      <td>Agricultural consultant</td>\n",
              "      <td>0</td>\n",
              "      <td>70</td>\n",
              "      <td>157</td>\n",
              "      <td>5.7</td>\n",
              "      <td>3.6</td>\n",
              "      <td>1</td>\n",
              "      <td>5.3</td>\n",
              "      <td>0.4</td>\n",
              "      <td>0</td>\n",
              "      <td>Kristina</td>\n",
              "      <td>Zimmerman</td>\n",
              "      <td>normal</td>\n",
              "    </tr>\n",
              "    <tr>\n",
              "      <th>6</th>\n",
              "      <td>Frank Zimmerman</td>\n",
              "      <td>1981-03-04</td>\n",
              "      <td>56</td>\n",
              "      <td>Police officer</td>\n",
              "      <td>0</td>\n",
              "      <td>60</td>\n",
              "      <td>129</td>\n",
              "      <td>2.9</td>\n",
              "      <td>2.4</td>\n",
              "      <td>1</td>\n",
              "      <td>2.6</td>\n",
              "      <td>0.3</td>\n",
              "      <td>1</td>\n",
              "      <td>Frank</td>\n",
              "      <td>Zimmerman</td>\n",
              "      <td>low</td>\n",
              "    </tr>\n",
              "    <tr>\n",
              "      <th>60</th>\n",
              "      <td>Janet Young</td>\n",
              "      <td>1981-03-18</td>\n",
              "      <td>33</td>\n",
              "      <td>Aeronautical engineer</td>\n",
              "      <td>1</td>\n",
              "      <td>65</td>\n",
              "      <td>133</td>\n",
              "      <td>4.5</td>\n",
              "      <td>2.3</td>\n",
              "      <td>3</td>\n",
              "      <td>4.1</td>\n",
              "      <td>0.4</td>\n",
              "      <td>0</td>\n",
              "      <td>Janet</td>\n",
              "      <td>Young</td>\n",
              "      <td>low</td>\n",
              "    </tr>\n",
              "    <tr>\n",
              "      <th>185</th>\n",
              "      <td>James Wright</td>\n",
              "      <td>1997-09-20</td>\n",
              "      <td>65</td>\n",
              "      <td>Advertising account executive</td>\n",
              "      <td>1</td>\n",
              "      <td>87</td>\n",
              "      <td>193</td>\n",
              "      <td>8.8</td>\n",
              "      <td>5.3</td>\n",
              "      <td>3</td>\n",
              "      <td>8.5</td>\n",
              "      <td>0.3</td>\n",
              "      <td>0</td>\n",
              "      <td>James</td>\n",
              "      <td>Wright</td>\n",
              "      <td>normal</td>\n",
              "    </tr>\n",
              "    <tr>\n",
              "      <th>157</th>\n",
              "      <td>Jodi Wood</td>\n",
              "      <td>1946-11-29</td>\n",
              "      <td>56</td>\n",
              "      <td>Animal technologist</td>\n",
              "      <td>0</td>\n",
              "      <td>87</td>\n",
              "      <td>173</td>\n",
              "      <td>8.0</td>\n",
              "      <td>4.0</td>\n",
              "      <td>5</td>\n",
              "      <td>7.7</td>\n",
              "      <td>0.3</td>\n",
              "      <td>1</td>\n",
              "      <td>Jodi</td>\n",
              "      <td>Wood</td>\n",
              "      <td>normal</td>\n",
              "    </tr>\n",
              "    <tr>\n",
              "      <th>...</th>\n",
              "      <td>...</td>\n",
              "      <td>...</td>\n",
              "      <td>...</td>\n",
              "      <td>...</td>\n",
              "      <td>...</td>\n",
              "      <td>...</td>\n",
              "      <td>...</td>\n",
              "      <td>...</td>\n",
              "      <td>...</td>\n",
              "      <td>...</td>\n",
              "      <td>...</td>\n",
              "      <td>...</td>\n",
              "      <td>...</td>\n",
              "      <td>...</td>\n",
              "      <td>...</td>\n",
              "      <td>...</td>\n",
              "    </tr>\n",
              "    <tr>\n",
              "      <th>152</th>\n",
              "      <td>Andrea Anderson</td>\n",
              "      <td>1974-04-08</td>\n",
              "      <td>75</td>\n",
              "      <td>Horticultural consultant</td>\n",
              "      <td>1</td>\n",
              "      <td>85</td>\n",
              "      <td>183</td>\n",
              "      <td>7.9</td>\n",
              "      <td>4.2</td>\n",
              "      <td>4</td>\n",
              "      <td>7.7</td>\n",
              "      <td>0.2</td>\n",
              "      <td>0</td>\n",
              "      <td>Andrea</td>\n",
              "      <td>Anderson</td>\n",
              "      <td>normal</td>\n",
              "    </tr>\n",
              "    <tr>\n",
              "      <th>81</th>\n",
              "      <td>Marissa Anderson PhD</td>\n",
              "      <td>1940-05-15</td>\n",
              "      <td>51</td>\n",
              "      <td>Nurse, learning disability</td>\n",
              "      <td>1</td>\n",
              "      <td>75</td>\n",
              "      <td>170</td>\n",
              "      <td>5.0</td>\n",
              "      <td>2.7</td>\n",
              "      <td>3</td>\n",
              "      <td>4.7</td>\n",
              "      <td>0.3</td>\n",
              "      <td>1</td>\n",
              "      <td>Marissa</td>\n",
              "      <td>Anderson</td>\n",
              "      <td>normal</td>\n",
              "    </tr>\n",
              "    <tr>\n",
              "      <th>22</th>\n",
              "      <td>James Aguilar</td>\n",
              "      <td>2000-11-05</td>\n",
              "      <td>53</td>\n",
              "      <td>Immunologist</td>\n",
              "      <td>0</td>\n",
              "      <td>64</td>\n",
              "      <td>134</td>\n",
              "      <td>3.7</td>\n",
              "      <td>2.0</td>\n",
              "      <td>1</td>\n",
              "      <td>3.5</td>\n",
              "      <td>0.2</td>\n",
              "      <td>0</td>\n",
              "      <td>James</td>\n",
              "      <td>Aguilar</td>\n",
              "      <td>low</td>\n",
              "    </tr>\n",
              "    <tr>\n",
              "      <th>170</th>\n",
              "      <td>Mary Aguilar</td>\n",
              "      <td>1952-01-09</td>\n",
              "      <td>64</td>\n",
              "      <td>Furniture designer</td>\n",
              "      <td>0</td>\n",
              "      <td>88</td>\n",
              "      <td>182</td>\n",
              "      <td>8.3</td>\n",
              "      <td>5.1</td>\n",
              "      <td>2</td>\n",
              "      <td>8.2</td>\n",
              "      <td>0.1</td>\n",
              "      <td>0</td>\n",
              "      <td>Mary</td>\n",
              "      <td>Aguilar</td>\n",
              "      <td>normal</td>\n",
              "    </tr>\n",
              "    <tr>\n",
              "      <th>53</th>\n",
              "      <td>Christopher Abbott</td>\n",
              "      <td>1963-06-12</td>\n",
              "      <td>69</td>\n",
              "      <td>Ergonomist</td>\n",
              "      <td>2</td>\n",
              "      <td>66</td>\n",
              "      <td>128</td>\n",
              "      <td>4.4</td>\n",
              "      <td>2.6</td>\n",
              "      <td>2</td>\n",
              "      <td>4.2</td>\n",
              "      <td>0.2</td>\n",
              "      <td>0</td>\n",
              "      <td>Christopher</td>\n",
              "      <td>Abbott</td>\n",
              "      <td>low</td>\n",
              "    </tr>\n",
              "  </tbody>\n",
              "</table>\n",
              "<p>200 rows × 16 columns</p>\n",
              "</div>"
            ],
            "text/plain": [
              "              Participant         DOB  ...   LastName CholesterolBeforeLevel\n",
              "100    Kristina Zimmerman  1994-01-01  ...  Zimmerman                 normal\n",
              "6         Frank Zimmerman  1981-03-04  ...  Zimmerman                    low\n",
              "60            Janet Young  1981-03-18  ...      Young                    low\n",
              "185          James Wright  1997-09-20  ...     Wright                 normal\n",
              "157             Jodi Wood  1946-11-29  ...       Wood                 normal\n",
              "..                    ...         ...  ...        ...                    ...\n",
              "152       Andrea Anderson  1974-04-08  ...   Anderson                 normal\n",
              "81   Marissa Anderson PhD  1940-05-15  ...   Anderson                 normal\n",
              "22          James Aguilar  2000-11-05  ...    Aguilar                    low\n",
              "170          Mary Aguilar  1952-01-09  ...    Aguilar                 normal\n",
              "53     Christopher Abbott  1963-06-12  ...     Abbott                    low\n",
              "\n",
              "[200 rows x 16 columns]"
            ]
          },
          "metadata": {
            "tags": []
          },
          "execution_count": 64
        }
      ]
    },
    {
      "cell_type": "code",
      "metadata": {
        "colab": {
          "base_uri": "https://localhost:8080/",
          "height": 581
        },
        "id": "56L-AcXLo_gD",
        "outputId": "7f63b5c1-b6cc-423a-a602-59b0fcf066c6"
      },
      "source": [
        "df.sort_values(by=['Age', 'sBP'])"
      ],
      "execution_count": 65,
      "outputs": [
        {
          "output_type": "execute_result",
          "data": {
            "text/html": [
              "<div>\n",
              "<style scoped>\n",
              "    .dataframe tbody tr th:only-of-type {\n",
              "        vertical-align: middle;\n",
              "    }\n",
              "\n",
              "    .dataframe tbody tr th {\n",
              "        vertical-align: top;\n",
              "    }\n",
              "\n",
              "    .dataframe thead th {\n",
              "        text-align: right;\n",
              "    }\n",
              "</style>\n",
              "<table border=\"1\" class=\"dataframe\">\n",
              "  <thead>\n",
              "    <tr style=\"text-align: right;\">\n",
              "      <th></th>\n",
              "      <th>Participant</th>\n",
              "      <th>DOB</th>\n",
              "      <th>Age</th>\n",
              "      <th>Vocation</th>\n",
              "      <th>Smoke</th>\n",
              "      <th>HR</th>\n",
              "      <th>sBP</th>\n",
              "      <th>CholesterolBefore</th>\n",
              "      <th>TAG</th>\n",
              "      <th>Survey</th>\n",
              "      <th>CholesterolAfter</th>\n",
              "      <th>Delta</th>\n",
              "      <th>Group</th>\n",
              "      <th>FirstName</th>\n",
              "      <th>LastName</th>\n",
              "      <th>CholesterolBeforeLevel</th>\n",
              "    </tr>\n",
              "  </thead>\n",
              "  <tbody>\n",
              "    <tr>\n",
              "      <th>33</th>\n",
              "      <td>Kyle Boyd</td>\n",
              "      <td>1959-12-30</td>\n",
              "      <td>32</td>\n",
              "      <td>Waste management officer</td>\n",
              "      <td>0</td>\n",
              "      <td>63</td>\n",
              "      <td>133</td>\n",
              "      <td>4.0</td>\n",
              "      <td>2.5</td>\n",
              "      <td>5</td>\n",
              "      <td>3.8</td>\n",
              "      <td>0.2</td>\n",
              "      <td>0</td>\n",
              "      <td>Kyle</td>\n",
              "      <td>Boyd</td>\n",
              "      <td>low</td>\n",
              "    </tr>\n",
              "    <tr>\n",
              "      <th>96</th>\n",
              "      <td>Brandi Ibarra</td>\n",
              "      <td>1973-11-01</td>\n",
              "      <td>32</td>\n",
              "      <td>Communications engineer</td>\n",
              "      <td>1</td>\n",
              "      <td>72</td>\n",
              "      <td>159</td>\n",
              "      <td>5.5</td>\n",
              "      <td>3.7</td>\n",
              "      <td>1</td>\n",
              "      <td>5.3</td>\n",
              "      <td>0.2</td>\n",
              "      <td>0</td>\n",
              "      <td>Brandi</td>\n",
              "      <td>Ibarra</td>\n",
              "      <td>normal</td>\n",
              "    </tr>\n",
              "    <tr>\n",
              "      <th>103</th>\n",
              "      <td>Mary Rodriguez</td>\n",
              "      <td>2001-07-07</td>\n",
              "      <td>32</td>\n",
              "      <td>Music tutor</td>\n",
              "      <td>0</td>\n",
              "      <td>74</td>\n",
              "      <td>168</td>\n",
              "      <td>5.9</td>\n",
              "      <td>3.4</td>\n",
              "      <td>4</td>\n",
              "      <td>5.6</td>\n",
              "      <td>0.3</td>\n",
              "      <td>0</td>\n",
              "      <td>Mary</td>\n",
              "      <td>Rodriguez</td>\n",
              "      <td>normal</td>\n",
              "    </tr>\n",
              "    <tr>\n",
              "      <th>9</th>\n",
              "      <td>Andrea Fletcher</td>\n",
              "      <td>1955-12-23</td>\n",
              "      <td>33</td>\n",
              "      <td>Lexicographer</td>\n",
              "      <td>0</td>\n",
              "      <td>59</td>\n",
              "      <td>122</td>\n",
              "      <td>3.2</td>\n",
              "      <td>1.7</td>\n",
              "      <td>5</td>\n",
              "      <td>2.8</td>\n",
              "      <td>0.4</td>\n",
              "      <td>1</td>\n",
              "      <td>Andrea</td>\n",
              "      <td>Fletcher</td>\n",
              "      <td>low</td>\n",
              "    </tr>\n",
              "    <tr>\n",
              "      <th>60</th>\n",
              "      <td>Janet Young</td>\n",
              "      <td>1981-03-18</td>\n",
              "      <td>33</td>\n",
              "      <td>Aeronautical engineer</td>\n",
              "      <td>1</td>\n",
              "      <td>65</td>\n",
              "      <td>133</td>\n",
              "      <td>4.5</td>\n",
              "      <td>2.3</td>\n",
              "      <td>3</td>\n",
              "      <td>4.1</td>\n",
              "      <td>0.4</td>\n",
              "      <td>0</td>\n",
              "      <td>Janet</td>\n",
              "      <td>Young</td>\n",
              "      <td>low</td>\n",
              "    </tr>\n",
              "    <tr>\n",
              "      <th>...</th>\n",
              "      <td>...</td>\n",
              "      <td>...</td>\n",
              "      <td>...</td>\n",
              "      <td>...</td>\n",
              "      <td>...</td>\n",
              "      <td>...</td>\n",
              "      <td>...</td>\n",
              "      <td>...</td>\n",
              "      <td>...</td>\n",
              "      <td>...</td>\n",
              "      <td>...</td>\n",
              "      <td>...</td>\n",
              "      <td>...</td>\n",
              "      <td>...</td>\n",
              "      <td>...</td>\n",
              "      <td>...</td>\n",
              "    </tr>\n",
              "    <tr>\n",
              "      <th>139</th>\n",
              "      <td>Carrie Sanders</td>\n",
              "      <td>1971-03-14</td>\n",
              "      <td>76</td>\n",
              "      <td>Video editor</td>\n",
              "      <td>1</td>\n",
              "      <td>85</td>\n",
              "      <td>173</td>\n",
              "      <td>7.5</td>\n",
              "      <td>4.4</td>\n",
              "      <td>2</td>\n",
              "      <td>7.4</td>\n",
              "      <td>0.1</td>\n",
              "      <td>1</td>\n",
              "      <td>Carrie</td>\n",
              "      <td>Sanders</td>\n",
              "      <td>normal</td>\n",
              "    </tr>\n",
              "    <tr>\n",
              "      <th>172</th>\n",
              "      <td>Kathleen Goodwin</td>\n",
              "      <td>1938-05-14</td>\n",
              "      <td>76</td>\n",
              "      <td>Therapeutic radiographer</td>\n",
              "      <td>1</td>\n",
              "      <td>86</td>\n",
              "      <td>182</td>\n",
              "      <td>8.3</td>\n",
              "      <td>4.9</td>\n",
              "      <td>2</td>\n",
              "      <td>8.1</td>\n",
              "      <td>0.2</td>\n",
              "      <td>0</td>\n",
              "      <td>Kathleen</td>\n",
              "      <td>Goodwin</td>\n",
              "      <td>normal</td>\n",
              "    </tr>\n",
              "    <tr>\n",
              "      <th>180</th>\n",
              "      <td>Paula White</td>\n",
              "      <td>1979-03-04</td>\n",
              "      <td>76</td>\n",
              "      <td>Engineer, control and instrumentation</td>\n",
              "      <td>0</td>\n",
              "      <td>89</td>\n",
              "      <td>187</td>\n",
              "      <td>8.6</td>\n",
              "      <td>4.6</td>\n",
              "      <td>5</td>\n",
              "      <td>8.2</td>\n",
              "      <td>0.4</td>\n",
              "      <td>1</td>\n",
              "      <td>Paula</td>\n",
              "      <td>White</td>\n",
              "      <td>normal</td>\n",
              "    </tr>\n",
              "    <tr>\n",
              "      <th>173</th>\n",
              "      <td>Debra Hoover</td>\n",
              "      <td>1971-07-16</td>\n",
              "      <td>76</td>\n",
              "      <td>Building control surveyor</td>\n",
              "      <td>1</td>\n",
              "      <td>88</td>\n",
              "      <td>195</td>\n",
              "      <td>8.3</td>\n",
              "      <td>5.0</td>\n",
              "      <td>4</td>\n",
              "      <td>8.2</td>\n",
              "      <td>0.1</td>\n",
              "      <td>1</td>\n",
              "      <td>Debra</td>\n",
              "      <td>Hoover</td>\n",
              "      <td>normal</td>\n",
              "    </tr>\n",
              "    <tr>\n",
              "      <th>107</th>\n",
              "      <td>Kelly Rivera</td>\n",
              "      <td>1939-07-05</td>\n",
              "      <td>77</td>\n",
              "      <td>Call centre manager</td>\n",
              "      <td>0</td>\n",
              "      <td>78</td>\n",
              "      <td>170</td>\n",
              "      <td>6.0</td>\n",
              "      <td>3.2</td>\n",
              "      <td>4</td>\n",
              "      <td>5.9</td>\n",
              "      <td>0.1</td>\n",
              "      <td>1</td>\n",
              "      <td>Kelly</td>\n",
              "      <td>Rivera</td>\n",
              "      <td>normal</td>\n",
              "    </tr>\n",
              "  </tbody>\n",
              "</table>\n",
              "<p>200 rows × 16 columns</p>\n",
              "</div>"
            ],
            "text/plain": [
              "          Participant         DOB  ...   LastName CholesterolBeforeLevel\n",
              "33          Kyle Boyd  1959-12-30  ...       Boyd                    low\n",
              "96      Brandi Ibarra  1973-11-01  ...     Ibarra                 normal\n",
              "103    Mary Rodriguez  2001-07-07  ...  Rodriguez                 normal\n",
              "9     Andrea Fletcher  1955-12-23  ...   Fletcher                    low\n",
              "60        Janet Young  1981-03-18  ...      Young                    low\n",
              "..                ...         ...  ...        ...                    ...\n",
              "139    Carrie Sanders  1971-03-14  ...    Sanders                 normal\n",
              "172  Kathleen Goodwin  1938-05-14  ...    Goodwin                 normal\n",
              "180       Paula White  1979-03-04  ...      White                 normal\n",
              "173      Debra Hoover  1971-07-16  ...     Hoover                 normal\n",
              "107      Kelly Rivera  1939-07-05  ...     Rivera                 normal\n",
              "\n",
              "[200 rows x 16 columns]"
            ]
          },
          "metadata": {
            "tags": []
          },
          "execution_count": 65
        }
      ]
    },
    {
      "cell_type": "code",
      "metadata": {
        "colab": {
          "base_uri": "https://localhost:8080/",
          "height": 581
        },
        "id": "7NPyXcptpJsD",
        "outputId": "e4da1e93-e96a-46f4-c22c-c2e6a1ead9c1"
      },
      "source": [
        "df.sort_values(by=['Age', 'sBP'], ascending=[True, False])"
      ],
      "execution_count": 66,
      "outputs": [
        {
          "output_type": "execute_result",
          "data": {
            "text/html": [
              "<div>\n",
              "<style scoped>\n",
              "    .dataframe tbody tr th:only-of-type {\n",
              "        vertical-align: middle;\n",
              "    }\n",
              "\n",
              "    .dataframe tbody tr th {\n",
              "        vertical-align: top;\n",
              "    }\n",
              "\n",
              "    .dataframe thead th {\n",
              "        text-align: right;\n",
              "    }\n",
              "</style>\n",
              "<table border=\"1\" class=\"dataframe\">\n",
              "  <thead>\n",
              "    <tr style=\"text-align: right;\">\n",
              "      <th></th>\n",
              "      <th>Participant</th>\n",
              "      <th>DOB</th>\n",
              "      <th>Age</th>\n",
              "      <th>Vocation</th>\n",
              "      <th>Smoke</th>\n",
              "      <th>HR</th>\n",
              "      <th>sBP</th>\n",
              "      <th>CholesterolBefore</th>\n",
              "      <th>TAG</th>\n",
              "      <th>Survey</th>\n",
              "      <th>CholesterolAfter</th>\n",
              "      <th>Delta</th>\n",
              "      <th>Group</th>\n",
              "      <th>FirstName</th>\n",
              "      <th>LastName</th>\n",
              "      <th>CholesterolBeforeLevel</th>\n",
              "    </tr>\n",
              "  </thead>\n",
              "  <tbody>\n",
              "    <tr>\n",
              "      <th>103</th>\n",
              "      <td>Mary Rodriguez</td>\n",
              "      <td>2001-07-07</td>\n",
              "      <td>32</td>\n",
              "      <td>Music tutor</td>\n",
              "      <td>0</td>\n",
              "      <td>74</td>\n",
              "      <td>168</td>\n",
              "      <td>5.9</td>\n",
              "      <td>3.4</td>\n",
              "      <td>4</td>\n",
              "      <td>5.6</td>\n",
              "      <td>0.3</td>\n",
              "      <td>0</td>\n",
              "      <td>Mary</td>\n",
              "      <td>Rodriguez</td>\n",
              "      <td>normal</td>\n",
              "    </tr>\n",
              "    <tr>\n",
              "      <th>96</th>\n",
              "      <td>Brandi Ibarra</td>\n",
              "      <td>1973-11-01</td>\n",
              "      <td>32</td>\n",
              "      <td>Communications engineer</td>\n",
              "      <td>1</td>\n",
              "      <td>72</td>\n",
              "      <td>159</td>\n",
              "      <td>5.5</td>\n",
              "      <td>3.7</td>\n",
              "      <td>1</td>\n",
              "      <td>5.3</td>\n",
              "      <td>0.2</td>\n",
              "      <td>0</td>\n",
              "      <td>Brandi</td>\n",
              "      <td>Ibarra</td>\n",
              "      <td>normal</td>\n",
              "    </tr>\n",
              "    <tr>\n",
              "      <th>33</th>\n",
              "      <td>Kyle Boyd</td>\n",
              "      <td>1959-12-30</td>\n",
              "      <td>32</td>\n",
              "      <td>Waste management officer</td>\n",
              "      <td>0</td>\n",
              "      <td>63</td>\n",
              "      <td>133</td>\n",
              "      <td>4.0</td>\n",
              "      <td>2.5</td>\n",
              "      <td>5</td>\n",
              "      <td>3.8</td>\n",
              "      <td>0.2</td>\n",
              "      <td>0</td>\n",
              "      <td>Kyle</td>\n",
              "      <td>Boyd</td>\n",
              "      <td>low</td>\n",
              "    </tr>\n",
              "    <tr>\n",
              "      <th>125</th>\n",
              "      <td>Victoria Gordon</td>\n",
              "      <td>1956-08-05</td>\n",
              "      <td>33</td>\n",
              "      <td>Pharmacist, community</td>\n",
              "      <td>0</td>\n",
              "      <td>83</td>\n",
              "      <td>165</td>\n",
              "      <td>7.0</td>\n",
              "      <td>4.2</td>\n",
              "      <td>2</td>\n",
              "      <td>6.7</td>\n",
              "      <td>0.3</td>\n",
              "      <td>1</td>\n",
              "      <td>Victoria</td>\n",
              "      <td>Gordon</td>\n",
              "      <td>normal</td>\n",
              "    </tr>\n",
              "    <tr>\n",
              "      <th>24</th>\n",
              "      <td>Clifford Williams</td>\n",
              "      <td>1957-05-04</td>\n",
              "      <td>33</td>\n",
              "      <td>Special effects artist</td>\n",
              "      <td>2</td>\n",
              "      <td>60</td>\n",
              "      <td>134</td>\n",
              "      <td>3.7</td>\n",
              "      <td>2.5</td>\n",
              "      <td>4</td>\n",
              "      <td>3.5</td>\n",
              "      <td>0.2</td>\n",
              "      <td>0</td>\n",
              "      <td>Clifford</td>\n",
              "      <td>Williams</td>\n",
              "      <td>low</td>\n",
              "    </tr>\n",
              "    <tr>\n",
              "      <th>...</th>\n",
              "      <td>...</td>\n",
              "      <td>...</td>\n",
              "      <td>...</td>\n",
              "      <td>...</td>\n",
              "      <td>...</td>\n",
              "      <td>...</td>\n",
              "      <td>...</td>\n",
              "      <td>...</td>\n",
              "      <td>...</td>\n",
              "      <td>...</td>\n",
              "      <td>...</td>\n",
              "      <td>...</td>\n",
              "      <td>...</td>\n",
              "      <td>...</td>\n",
              "      <td>...</td>\n",
              "      <td>...</td>\n",
              "    </tr>\n",
              "    <tr>\n",
              "      <th>139</th>\n",
              "      <td>Carrie Sanders</td>\n",
              "      <td>1971-03-14</td>\n",
              "      <td>76</td>\n",
              "      <td>Video editor</td>\n",
              "      <td>1</td>\n",
              "      <td>85</td>\n",
              "      <td>173</td>\n",
              "      <td>7.5</td>\n",
              "      <td>4.4</td>\n",
              "      <td>2</td>\n",
              "      <td>7.4</td>\n",
              "      <td>0.1</td>\n",
              "      <td>1</td>\n",
              "      <td>Carrie</td>\n",
              "      <td>Sanders</td>\n",
              "      <td>normal</td>\n",
              "    </tr>\n",
              "    <tr>\n",
              "      <th>65</th>\n",
              "      <td>Joseph Smith</td>\n",
              "      <td>1981-11-17</td>\n",
              "      <td>76</td>\n",
              "      <td>Secretary, company</td>\n",
              "      <td>0</td>\n",
              "      <td>66</td>\n",
              "      <td>147</td>\n",
              "      <td>4.6</td>\n",
              "      <td>3.3</td>\n",
              "      <td>1</td>\n",
              "      <td>4.6</td>\n",
              "      <td>0.0</td>\n",
              "      <td>0</td>\n",
              "      <td>Joseph</td>\n",
              "      <td>Smith</td>\n",
              "      <td>low</td>\n",
              "    </tr>\n",
              "    <tr>\n",
              "      <th>71</th>\n",
              "      <td>Tina Martinez</td>\n",
              "      <td>1941-05-31</td>\n",
              "      <td>76</td>\n",
              "      <td>Passenger transport manager</td>\n",
              "      <td>1</td>\n",
              "      <td>69</td>\n",
              "      <td>146</td>\n",
              "      <td>4.8</td>\n",
              "      <td>3.1</td>\n",
              "      <td>4</td>\n",
              "      <td>4.5</td>\n",
              "      <td>0.3</td>\n",
              "      <td>1</td>\n",
              "      <td>Tina</td>\n",
              "      <td>Martinez</td>\n",
              "      <td>low</td>\n",
              "    </tr>\n",
              "    <tr>\n",
              "      <th>40</th>\n",
              "      <td>Laurie Clay</td>\n",
              "      <td>1981-06-12</td>\n",
              "      <td>76</td>\n",
              "      <td>Lecturer, further education</td>\n",
              "      <td>2</td>\n",
              "      <td>67</td>\n",
              "      <td>136</td>\n",
              "      <td>4.2</td>\n",
              "      <td>3.0</td>\n",
              "      <td>2</td>\n",
              "      <td>3.9</td>\n",
              "      <td>0.3</td>\n",
              "      <td>1</td>\n",
              "      <td>Laurie</td>\n",
              "      <td>Clay</td>\n",
              "      <td>low</td>\n",
              "    </tr>\n",
              "    <tr>\n",
              "      <th>107</th>\n",
              "      <td>Kelly Rivera</td>\n",
              "      <td>1939-07-05</td>\n",
              "      <td>77</td>\n",
              "      <td>Call centre manager</td>\n",
              "      <td>0</td>\n",
              "      <td>78</td>\n",
              "      <td>170</td>\n",
              "      <td>6.0</td>\n",
              "      <td>3.2</td>\n",
              "      <td>4</td>\n",
              "      <td>5.9</td>\n",
              "      <td>0.1</td>\n",
              "      <td>1</td>\n",
              "      <td>Kelly</td>\n",
              "      <td>Rivera</td>\n",
              "      <td>normal</td>\n",
              "    </tr>\n",
              "  </tbody>\n",
              "</table>\n",
              "<p>200 rows × 16 columns</p>\n",
              "</div>"
            ],
            "text/plain": [
              "           Participant         DOB  ...   LastName CholesterolBeforeLevel\n",
              "103     Mary Rodriguez  2001-07-07  ...  Rodriguez                 normal\n",
              "96       Brandi Ibarra  1973-11-01  ...     Ibarra                 normal\n",
              "33           Kyle Boyd  1959-12-30  ...       Boyd                    low\n",
              "125    Victoria Gordon  1956-08-05  ...     Gordon                 normal\n",
              "24   Clifford Williams  1957-05-04  ...   Williams                    low\n",
              "..                 ...         ...  ...        ...                    ...\n",
              "139     Carrie Sanders  1971-03-14  ...    Sanders                 normal\n",
              "65        Joseph Smith  1981-11-17  ...      Smith                    low\n",
              "71       Tina Martinez  1941-05-31  ...   Martinez                    low\n",
              "40         Laurie Clay  1981-06-12  ...       Clay                    low\n",
              "107       Kelly Rivera  1939-07-05  ...     Rivera                 normal\n",
              "\n",
              "[200 rows x 16 columns]"
            ]
          },
          "metadata": {
            "tags": []
          },
          "execution_count": 66
        }
      ]
    },
    {
      "cell_type": "code",
      "metadata": {
        "colab": {
          "base_uri": "https://localhost:8080/"
        },
        "id": "68EEEiAZpLnJ",
        "outputId": "144580f1-7be8-4fcd-917f-71c9f0127d52"
      },
      "source": [
        "df.sBP.nlargest(15)"
      ],
      "execution_count": 67,
      "outputs": [
        {
          "output_type": "execute_result",
          "data": {
            "text/plain": [
              "197    212\n",
              "199    208\n",
              "143    205\n",
              "190    203\n",
              "194    203\n",
              "191    202\n",
              "195    201\n",
              "198    200\n",
              "174    198\n",
              "178    198\n",
              "189    198\n",
              "166    196\n",
              "173    195\n",
              "163    194\n",
              "179    194\n",
              "Name: sBP, dtype: int64"
            ]
          },
          "metadata": {
            "tags": []
          },
          "execution_count": 67
        }
      ]
    },
    {
      "cell_type": "code",
      "metadata": {
        "colab": {
          "base_uri": "https://localhost:8080/",
          "height": 522
        },
        "id": "7A6qrEkspM8I",
        "outputId": "c0d99a00-c0be-4578-b351-5f84902a0e51"
      },
      "source": [
        "df.nlargest(10, 'sBP')"
      ],
      "execution_count": 68,
      "outputs": [
        {
          "output_type": "execute_result",
          "data": {
            "text/html": [
              "<div>\n",
              "<style scoped>\n",
              "    .dataframe tbody tr th:only-of-type {\n",
              "        vertical-align: middle;\n",
              "    }\n",
              "\n",
              "    .dataframe tbody tr th {\n",
              "        vertical-align: top;\n",
              "    }\n",
              "\n",
              "    .dataframe thead th {\n",
              "        text-align: right;\n",
              "    }\n",
              "</style>\n",
              "<table border=\"1\" class=\"dataframe\">\n",
              "  <thead>\n",
              "    <tr style=\"text-align: right;\">\n",
              "      <th></th>\n",
              "      <th>Participant</th>\n",
              "      <th>DOB</th>\n",
              "      <th>Age</th>\n",
              "      <th>Vocation</th>\n",
              "      <th>Smoke</th>\n",
              "      <th>HR</th>\n",
              "      <th>sBP</th>\n",
              "      <th>CholesterolBefore</th>\n",
              "      <th>TAG</th>\n",
              "      <th>Survey</th>\n",
              "      <th>CholesterolAfter</th>\n",
              "      <th>Delta</th>\n",
              "      <th>Group</th>\n",
              "      <th>FirstName</th>\n",
              "      <th>LastName</th>\n",
              "      <th>CholesterolBeforeLevel</th>\n",
              "    </tr>\n",
              "  </thead>\n",
              "  <tbody>\n",
              "    <tr>\n",
              "      <th>197</th>\n",
              "      <td>Charles Smith</td>\n",
              "      <td>1959-01-30</td>\n",
              "      <td>63</td>\n",
              "      <td>Chartered certified accountant</td>\n",
              "      <td>0</td>\n",
              "      <td>99</td>\n",
              "      <td>212</td>\n",
              "      <td>10.1</td>\n",
              "      <td>5.6</td>\n",
              "      <td>4</td>\n",
              "      <td>9.7</td>\n",
              "      <td>0.4</td>\n",
              "      <td>0</td>\n",
              "      <td>Charles</td>\n",
              "      <td>Smith</td>\n",
              "      <td>high</td>\n",
              "    </tr>\n",
              "    <tr>\n",
              "      <th>199</th>\n",
              "      <td>Julie Barrett</td>\n",
              "      <td>1972-07-27</td>\n",
              "      <td>68</td>\n",
              "      <td>Theme park manager</td>\n",
              "      <td>1</td>\n",
              "      <td>102</td>\n",
              "      <td>208</td>\n",
              "      <td>11.1</td>\n",
              "      <td>5.7</td>\n",
              "      <td>2</td>\n",
              "      <td>10.7</td>\n",
              "      <td>0.4</td>\n",
              "      <td>1</td>\n",
              "      <td>Julie</td>\n",
              "      <td>Barrett</td>\n",
              "      <td>high</td>\n",
              "    </tr>\n",
              "    <tr>\n",
              "      <th>143</th>\n",
              "      <td>Jeremy Wagner</td>\n",
              "      <td>1938-12-10</td>\n",
              "      <td>73</td>\n",
              "      <td>Cytogeneticist</td>\n",
              "      <td>1</td>\n",
              "      <td>104</td>\n",
              "      <td>205</td>\n",
              "      <td>7.7</td>\n",
              "      <td>4.3</td>\n",
              "      <td>3</td>\n",
              "      <td>7.6</td>\n",
              "      <td>0.1</td>\n",
              "      <td>1</td>\n",
              "      <td>Jeremy</td>\n",
              "      <td>Wagner</td>\n",
              "      <td>normal</td>\n",
              "    </tr>\n",
              "    <tr>\n",
              "      <th>190</th>\n",
              "      <td>Rachel Mcguire</td>\n",
              "      <td>1970-12-23</td>\n",
              "      <td>64</td>\n",
              "      <td>Medical sales representative</td>\n",
              "      <td>1</td>\n",
              "      <td>92</td>\n",
              "      <td>203</td>\n",
              "      <td>9.3</td>\n",
              "      <td>5.1</td>\n",
              "      <td>4</td>\n",
              "      <td>8.9</td>\n",
              "      <td>0.4</td>\n",
              "      <td>0</td>\n",
              "      <td>Rachel</td>\n",
              "      <td>Mcguire</td>\n",
              "      <td>normal</td>\n",
              "    </tr>\n",
              "    <tr>\n",
              "      <th>194</th>\n",
              "      <td>Jeffery Silva</td>\n",
              "      <td>1973-11-25</td>\n",
              "      <td>72</td>\n",
              "      <td>Bookseller</td>\n",
              "      <td>1</td>\n",
              "      <td>94</td>\n",
              "      <td>203</td>\n",
              "      <td>9.9</td>\n",
              "      <td>5.4</td>\n",
              "      <td>1</td>\n",
              "      <td>9.6</td>\n",
              "      <td>0.3</td>\n",
              "      <td>0</td>\n",
              "      <td>Jeffery</td>\n",
              "      <td>Silva</td>\n",
              "      <td>normal</td>\n",
              "    </tr>\n",
              "    <tr>\n",
              "      <th>191</th>\n",
              "      <td>Angela Wilson</td>\n",
              "      <td>1983-08-24</td>\n",
              "      <td>67</td>\n",
              "      <td>Designer, television/film set</td>\n",
              "      <td>1</td>\n",
              "      <td>92</td>\n",
              "      <td>202</td>\n",
              "      <td>9.3</td>\n",
              "      <td>5.0</td>\n",
              "      <td>5</td>\n",
              "      <td>9.0</td>\n",
              "      <td>0.3</td>\n",
              "      <td>1</td>\n",
              "      <td>Angela</td>\n",
              "      <td>Wilson</td>\n",
              "      <td>normal</td>\n",
              "    </tr>\n",
              "    <tr>\n",
              "      <th>195</th>\n",
              "      <td>John Curtis</td>\n",
              "      <td>1936-11-25</td>\n",
              "      <td>68</td>\n",
              "      <td>Sales professional, IT</td>\n",
              "      <td>1</td>\n",
              "      <td>96</td>\n",
              "      <td>201</td>\n",
              "      <td>10.1</td>\n",
              "      <td>5.1</td>\n",
              "      <td>5</td>\n",
              "      <td>10.0</td>\n",
              "      <td>0.1</td>\n",
              "      <td>0</td>\n",
              "      <td>John</td>\n",
              "      <td>Curtis</td>\n",
              "      <td>high</td>\n",
              "    </tr>\n",
              "    <tr>\n",
              "      <th>198</th>\n",
              "      <td>Barry Porter</td>\n",
              "      <td>1979-05-30</td>\n",
              "      <td>67</td>\n",
              "      <td>Dancer</td>\n",
              "      <td>1</td>\n",
              "      <td>98</td>\n",
              "      <td>200</td>\n",
              "      <td>10.1</td>\n",
              "      <td>5.3</td>\n",
              "      <td>3</td>\n",
              "      <td>10.0</td>\n",
              "      <td>0.1</td>\n",
              "      <td>0</td>\n",
              "      <td>Barry</td>\n",
              "      <td>Porter</td>\n",
              "      <td>high</td>\n",
              "    </tr>\n",
              "    <tr>\n",
              "      <th>174</th>\n",
              "      <td>Heidi Gaines</td>\n",
              "      <td>1974-06-26</td>\n",
              "      <td>66</td>\n",
              "      <td>Occupational therapist</td>\n",
              "      <td>1</td>\n",
              "      <td>89</td>\n",
              "      <td>198</td>\n",
              "      <td>8.4</td>\n",
              "      <td>4.5</td>\n",
              "      <td>4</td>\n",
              "      <td>8.3</td>\n",
              "      <td>0.1</td>\n",
              "      <td>1</td>\n",
              "      <td>Heidi</td>\n",
              "      <td>Gaines</td>\n",
              "      <td>normal</td>\n",
              "    </tr>\n",
              "    <tr>\n",
              "      <th>178</th>\n",
              "      <td>Jonathan Bautista</td>\n",
              "      <td>1938-06-28</td>\n",
              "      <td>66</td>\n",
              "      <td>Landscape architect</td>\n",
              "      <td>1</td>\n",
              "      <td>89</td>\n",
              "      <td>198</td>\n",
              "      <td>8.5</td>\n",
              "      <td>4.8</td>\n",
              "      <td>1</td>\n",
              "      <td>8.1</td>\n",
              "      <td>0.4</td>\n",
              "      <td>0</td>\n",
              "      <td>Jonathan</td>\n",
              "      <td>Bautista</td>\n",
              "      <td>normal</td>\n",
              "    </tr>\n",
              "  </tbody>\n",
              "</table>\n",
              "</div>"
            ],
            "text/plain": [
              "           Participant         DOB  ...  LastName CholesterolBeforeLevel\n",
              "197      Charles Smith  1959-01-30  ...     Smith                   high\n",
              "199      Julie Barrett  1972-07-27  ...   Barrett                   high\n",
              "143      Jeremy Wagner  1938-12-10  ...    Wagner                 normal\n",
              "190     Rachel Mcguire  1970-12-23  ...   Mcguire                 normal\n",
              "194      Jeffery Silva  1973-11-25  ...     Silva                 normal\n",
              "191      Angela Wilson  1983-08-24  ...    Wilson                 normal\n",
              "195        John Curtis  1936-11-25  ...    Curtis                   high\n",
              "198       Barry Porter  1979-05-30  ...    Porter                   high\n",
              "174       Heidi Gaines  1974-06-26  ...    Gaines                 normal\n",
              "178  Jonathan Bautista  1938-06-28  ...  Bautista                 normal\n",
              "\n",
              "[10 rows x 16 columns]"
            ]
          },
          "metadata": {
            "tags": []
          },
          "execution_count": 68
        }
      ]
    },
    {
      "cell_type": "markdown",
      "metadata": {
        "id": "GNSyy8zzp3wb"
      },
      "source": [
        "###MISSING VALUES"
      ]
    },
    {
      "cell_type": "code",
      "metadata": {
        "colab": {
          "base_uri": "https://localhost:8080/"
        },
        "id": "dowNwyH0pOlx",
        "outputId": "4fe6de2d-026a-432a-f476-3d8608d71a29"
      },
      "source": [
        "my_list = [1, 2, 3, np.nan]\n",
        "my_list"
      ],
      "execution_count": 69,
      "outputs": [
        {
          "output_type": "execute_result",
          "data": {
            "text/plain": [
              "[1, 2, 3, nan]"
            ]
          },
          "metadata": {
            "tags": []
          },
          "execution_count": 69
        }
      ]
    },
    {
      "cell_type": "code",
      "metadata": {
        "colab": {
          "base_uri": "https://localhost:8080/"
        },
        "id": "XmApv9rXp6qL",
        "outputId": "9b934266-6ad3-4b54-f026-f9c495084801"
      },
      "source": [
        "np.sum(my_list)"
      ],
      "execution_count": 70,
      "outputs": [
        {
          "output_type": "execute_result",
          "data": {
            "text/plain": [
              "nan"
            ]
          },
          "metadata": {
            "tags": []
          },
          "execution_count": 70
        }
      ]
    },
    {
      "cell_type": "markdown",
      "metadata": {
        "id": "wXDYlnSFp97u"
      },
      "source": [
        "A DATAFRAME WITH MISSING DATA"
      ]
    },
    {
      "cell_type": "code",
      "metadata": {
        "colab": {
          "resources": {
            "http://localhost:8080/nbextensions/google.colab/files.js": {
              "data": "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",
              "ok": true,
              "headers": [
                [
                  "content-type",
                  "application/javascript"
                ]
              ],
              "status": 200,
              "status_text": ""
            }
          },
          "base_uri": "https://localhost:8080/",
          "height": 73
        },
        "id": "-p83GsU6p8Nu",
        "outputId": "0d651e77-c72b-42f1-fdae-b1fbf29e5659"
      },
      "source": [
        "from google.colab import files\n",
        "uploaded = files.upload()"
      ],
      "execution_count": 72,
      "outputs": [
        {
          "output_type": "display_data",
          "data": {
            "text/html": [
              "\n",
              "     <input type=\"file\" id=\"files-71e4f4a0-f5f2-4b62-bdc5-ef66bc30f1a0\" name=\"files[]\" multiple disabled\n",
              "        style=\"border:none\" />\n",
              "     <output id=\"result-71e4f4a0-f5f2-4b62-bdc5-ef66bc30f1a0\">\n",
              "      Upload widget is only available when the cell has been executed in the\n",
              "      current browser session. Please rerun this cell to enable.\n",
              "      </output>\n",
              "      <script src=\"/nbextensions/google.colab/files.js\"></script> "
            ],
            "text/plain": [
              "<IPython.core.display.HTML object>"
            ]
          },
          "metadata": {
            "tags": []
          }
        },
        {
          "output_type": "stream",
          "text": [
            "Saving MissingData.csv to MissingData.csv\n"
          ],
          "name": "stdout"
        }
      ]
    },
    {
      "cell_type": "code",
      "metadata": {
        "id": "N3QM1RehqAMv"
      },
      "source": [
        "missing_df = pd.read_csv(io.BytesIO(uploaded['MissingData.csv']))"
      ],
      "execution_count": 73,
      "outputs": []
    },
    {
      "cell_type": "code",
      "metadata": {
        "colab": {
          "base_uri": "https://localhost:8080/",
          "height": 662
        },
        "id": "2BmPc9-tqTKw",
        "outputId": "93537468-12fc-4168-bdf3-157cbe4c1463"
      },
      "source": [
        "missing_df.head(20)"
      ],
      "execution_count": 74,
      "outputs": [
        {
          "output_type": "execute_result",
          "data": {
            "text/html": [
              "<div>\n",
              "<style scoped>\n",
              "    .dataframe tbody tr th:only-of-type {\n",
              "        vertical-align: middle;\n",
              "    }\n",
              "\n",
              "    .dataframe tbody tr th {\n",
              "        vertical-align: top;\n",
              "    }\n",
              "\n",
              "    .dataframe thead th {\n",
              "        text-align: right;\n",
              "    }\n",
              "</style>\n",
              "<table border=\"1\" class=\"dataframe\">\n",
              "  <thead>\n",
              "    <tr style=\"text-align: right;\">\n",
              "      <th></th>\n",
              "      <th>age</th>\n",
              "      <th>salary</th>\n",
              "      <th>previous_company</th>\n",
              "    </tr>\n",
              "  </thead>\n",
              "  <tbody>\n",
              "    <tr>\n",
              "      <th>0</th>\n",
              "      <td>57.0</td>\n",
              "      <td>NaN</td>\n",
              "      <td>1.0</td>\n",
              "    </tr>\n",
              "    <tr>\n",
              "      <th>1</th>\n",
              "      <td>56.0</td>\n",
              "      <td>50927.0</td>\n",
              "      <td>NaN</td>\n",
              "    </tr>\n",
              "    <tr>\n",
              "      <th>2</th>\n",
              "      <td>46.0</td>\n",
              "      <td>75500.0</td>\n",
              "      <td>3.0</td>\n",
              "    </tr>\n",
              "    <tr>\n",
              "      <th>3</th>\n",
              "      <td>NaN</td>\n",
              "      <td>84417.0</td>\n",
              "      <td>NaN</td>\n",
              "    </tr>\n",
              "    <tr>\n",
              "      <th>4</th>\n",
              "      <td>60.0</td>\n",
              "      <td>63002.0</td>\n",
              "      <td>1.0</td>\n",
              "    </tr>\n",
              "    <tr>\n",
              "      <th>5</th>\n",
              "      <td>54.0</td>\n",
              "      <td>54652.0</td>\n",
              "      <td>NaN</td>\n",
              "    </tr>\n",
              "    <tr>\n",
              "      <th>6</th>\n",
              "      <td>NaN</td>\n",
              "      <td>65739.0</td>\n",
              "      <td>1.0</td>\n",
              "    </tr>\n",
              "    <tr>\n",
              "      <th>7</th>\n",
              "      <td>64.0</td>\n",
              "      <td>89397.0</td>\n",
              "      <td>3.0</td>\n",
              "    </tr>\n",
              "    <tr>\n",
              "      <th>8</th>\n",
              "      <td>60.0</td>\n",
              "      <td>77797.0</td>\n",
              "      <td>4.0</td>\n",
              "    </tr>\n",
              "    <tr>\n",
              "      <th>9</th>\n",
              "      <td>61.0</td>\n",
              "      <td>NaN</td>\n",
              "      <td>1.0</td>\n",
              "    </tr>\n",
              "    <tr>\n",
              "      <th>10</th>\n",
              "      <td>51.0</td>\n",
              "      <td>92767.0</td>\n",
              "      <td>5.0</td>\n",
              "    </tr>\n",
              "    <tr>\n",
              "      <th>11</th>\n",
              "      <td>NaN</td>\n",
              "      <td>59873.0</td>\n",
              "      <td>2.0</td>\n",
              "    </tr>\n",
              "    <tr>\n",
              "      <th>12</th>\n",
              "      <td>49.0</td>\n",
              "      <td>91001.0</td>\n",
              "      <td>4.0</td>\n",
              "    </tr>\n",
              "    <tr>\n",
              "      <th>13</th>\n",
              "      <td>59.0</td>\n",
              "      <td>54212.0</td>\n",
              "      <td>4.0</td>\n",
              "    </tr>\n",
              "    <tr>\n",
              "      <th>14</th>\n",
              "      <td>61.0</td>\n",
              "      <td>84423.0</td>\n",
              "      <td>2.0</td>\n",
              "    </tr>\n",
              "    <tr>\n",
              "      <th>15</th>\n",
              "      <td>NaN</td>\n",
              "      <td>NaN</td>\n",
              "      <td>3.0</td>\n",
              "    </tr>\n",
              "    <tr>\n",
              "      <th>16</th>\n",
              "      <td>61.0</td>\n",
              "      <td>84930.0</td>\n",
              "      <td>NaN</td>\n",
              "    </tr>\n",
              "    <tr>\n",
              "      <th>17</th>\n",
              "      <td>48.0</td>\n",
              "      <td>63824.0</td>\n",
              "      <td>5.0</td>\n",
              "    </tr>\n",
              "    <tr>\n",
              "      <th>18</th>\n",
              "      <td>53.0</td>\n",
              "      <td>53143.0</td>\n",
              "      <td>2.0</td>\n",
              "    </tr>\n",
              "    <tr>\n",
              "      <th>19</th>\n",
              "      <td>49.0</td>\n",
              "      <td>59842.0</td>\n",
              "      <td>NaN</td>\n",
              "    </tr>\n",
              "  </tbody>\n",
              "</table>\n",
              "</div>"
            ],
            "text/plain": [
              "     age   salary  previous_company\n",
              "0   57.0      NaN               1.0\n",
              "1   56.0  50927.0               NaN\n",
              "2   46.0  75500.0               3.0\n",
              "3    NaN  84417.0               NaN\n",
              "4   60.0  63002.0               1.0\n",
              "5   54.0  54652.0               NaN\n",
              "6    NaN  65739.0               1.0\n",
              "7   64.0  89397.0               3.0\n",
              "8   60.0  77797.0               4.0\n",
              "9   61.0      NaN               1.0\n",
              "10  51.0  92767.0               5.0\n",
              "11   NaN  59873.0               2.0\n",
              "12  49.0  91001.0               4.0\n",
              "13  59.0  54212.0               4.0\n",
              "14  61.0  84423.0               2.0\n",
              "15   NaN      NaN               3.0\n",
              "16  61.0  84930.0               NaN\n",
              "17  48.0  63824.0               5.0\n",
              "18  53.0  53143.0               2.0\n",
              "19  49.0  59842.0               NaN"
            ]
          },
          "metadata": {
            "tags": []
          },
          "execution_count": 74
        }
      ]
    },
    {
      "cell_type": "markdown",
      "metadata": {
        "id": "FYNRPgbXql_2"
      },
      "source": [
        "DELETING MISSING DATA"
      ]
    },
    {
      "cell_type": "code",
      "metadata": {
        "colab": {
          "base_uri": "https://localhost:8080/",
          "height": 631
        },
        "id": "8lDfLATfqWt6",
        "outputId": "50609f0f-da40-4d1b-cec5-2030a6737998"
      },
      "source": [
        "complete_data_df = missing_df.dropna() # Non permanent removal\n",
        "complete_data_df"
      ],
      "execution_count": 75,
      "outputs": [
        {
          "output_type": "execute_result",
          "data": {
            "text/html": [
              "<div>\n",
              "<style scoped>\n",
              "    .dataframe tbody tr th:only-of-type {\n",
              "        vertical-align: middle;\n",
              "    }\n",
              "\n",
              "    .dataframe tbody tr th {\n",
              "        vertical-align: top;\n",
              "    }\n",
              "\n",
              "    .dataframe thead th {\n",
              "        text-align: right;\n",
              "    }\n",
              "</style>\n",
              "<table border=\"1\" class=\"dataframe\">\n",
              "  <thead>\n",
              "    <tr style=\"text-align: right;\">\n",
              "      <th></th>\n",
              "      <th>age</th>\n",
              "      <th>salary</th>\n",
              "      <th>previous_company</th>\n",
              "    </tr>\n",
              "  </thead>\n",
              "  <tbody>\n",
              "    <tr>\n",
              "      <th>2</th>\n",
              "      <td>46.0</td>\n",
              "      <td>75500.0</td>\n",
              "      <td>3.0</td>\n",
              "    </tr>\n",
              "    <tr>\n",
              "      <th>4</th>\n",
              "      <td>60.0</td>\n",
              "      <td>63002.0</td>\n",
              "      <td>1.0</td>\n",
              "    </tr>\n",
              "    <tr>\n",
              "      <th>7</th>\n",
              "      <td>64.0</td>\n",
              "      <td>89397.0</td>\n",
              "      <td>3.0</td>\n",
              "    </tr>\n",
              "    <tr>\n",
              "      <th>8</th>\n",
              "      <td>60.0</td>\n",
              "      <td>77797.0</td>\n",
              "      <td>4.0</td>\n",
              "    </tr>\n",
              "    <tr>\n",
              "      <th>10</th>\n",
              "      <td>51.0</td>\n",
              "      <td>92767.0</td>\n",
              "      <td>5.0</td>\n",
              "    </tr>\n",
              "    <tr>\n",
              "      <th>12</th>\n",
              "      <td>49.0</td>\n",
              "      <td>91001.0</td>\n",
              "      <td>4.0</td>\n",
              "    </tr>\n",
              "    <tr>\n",
              "      <th>13</th>\n",
              "      <td>59.0</td>\n",
              "      <td>54212.0</td>\n",
              "      <td>4.0</td>\n",
              "    </tr>\n",
              "    <tr>\n",
              "      <th>14</th>\n",
              "      <td>61.0</td>\n",
              "      <td>84423.0</td>\n",
              "      <td>2.0</td>\n",
              "    </tr>\n",
              "    <tr>\n",
              "      <th>17</th>\n",
              "      <td>48.0</td>\n",
              "      <td>63824.0</td>\n",
              "      <td>5.0</td>\n",
              "    </tr>\n",
              "    <tr>\n",
              "      <th>18</th>\n",
              "      <td>53.0</td>\n",
              "      <td>53143.0</td>\n",
              "      <td>2.0</td>\n",
              "    </tr>\n",
              "    <tr>\n",
              "      <th>20</th>\n",
              "      <td>55.0</td>\n",
              "      <td>79309.0</td>\n",
              "      <td>2.0</td>\n",
              "    </tr>\n",
              "    <tr>\n",
              "      <th>22</th>\n",
              "      <td>49.0</td>\n",
              "      <td>52895.0</td>\n",
              "      <td>1.0</td>\n",
              "    </tr>\n",
              "    <tr>\n",
              "      <th>23</th>\n",
              "      <td>57.0</td>\n",
              "      <td>54035.0</td>\n",
              "      <td>3.0</td>\n",
              "    </tr>\n",
              "    <tr>\n",
              "      <th>24</th>\n",
              "      <td>58.0</td>\n",
              "      <td>64962.0</td>\n",
              "      <td>3.0</td>\n",
              "    </tr>\n",
              "    <tr>\n",
              "      <th>26</th>\n",
              "      <td>63.0</td>\n",
              "      <td>63861.0</td>\n",
              "      <td>2.0</td>\n",
              "    </tr>\n",
              "    <tr>\n",
              "      <th>27</th>\n",
              "      <td>47.0</td>\n",
              "      <td>55188.0</td>\n",
              "      <td>3.0</td>\n",
              "    </tr>\n",
              "    <tr>\n",
              "      <th>28</th>\n",
              "      <td>63.0</td>\n",
              "      <td>61220.0</td>\n",
              "      <td>3.0</td>\n",
              "    </tr>\n",
              "    <tr>\n",
              "      <th>30</th>\n",
              "      <td>49.0</td>\n",
              "      <td>63398.0</td>\n",
              "      <td>1.0</td>\n",
              "    </tr>\n",
              "    <tr>\n",
              "      <th>31</th>\n",
              "      <td>57.0</td>\n",
              "      <td>94900.0</td>\n",
              "      <td>5.0</td>\n",
              "    </tr>\n",
              "  </tbody>\n",
              "</table>\n",
              "</div>"
            ],
            "text/plain": [
              "     age   salary  previous_company\n",
              "2   46.0  75500.0               3.0\n",
              "4   60.0  63002.0               1.0\n",
              "7   64.0  89397.0               3.0\n",
              "8   60.0  77797.0               4.0\n",
              "10  51.0  92767.0               5.0\n",
              "12  49.0  91001.0               4.0\n",
              "13  59.0  54212.0               4.0\n",
              "14  61.0  84423.0               2.0\n",
              "17  48.0  63824.0               5.0\n",
              "18  53.0  53143.0               2.0\n",
              "20  55.0  79309.0               2.0\n",
              "22  49.0  52895.0               1.0\n",
              "23  57.0  54035.0               3.0\n",
              "24  58.0  64962.0               3.0\n",
              "26  63.0  63861.0               2.0\n",
              "27  47.0  55188.0               3.0\n",
              "28  63.0  61220.0               3.0\n",
              "30  49.0  63398.0               1.0\n",
              "31  57.0  94900.0               5.0"
            ]
          },
          "metadata": {
            "tags": []
          },
          "execution_count": 75
        }
      ]
    },
    {
      "cell_type": "code",
      "metadata": {
        "colab": {
          "base_uri": "https://localhost:8080/",
          "height": 907
        },
        "id": "MAyUFsFuqp5C",
        "outputId": "f0748f24-7508-4737-a89c-875e3d4cc8fd"
      },
      "source": [
        "missing_df.dropna(subset=['age'])"
      ],
      "execution_count": 76,
      "outputs": [
        {
          "output_type": "execute_result",
          "data": {
            "text/html": [
              "<div>\n",
              "<style scoped>\n",
              "    .dataframe tbody tr th:only-of-type {\n",
              "        vertical-align: middle;\n",
              "    }\n",
              "\n",
              "    .dataframe tbody tr th {\n",
              "        vertical-align: top;\n",
              "    }\n",
              "\n",
              "    .dataframe thead th {\n",
              "        text-align: right;\n",
              "    }\n",
              "</style>\n",
              "<table border=\"1\" class=\"dataframe\">\n",
              "  <thead>\n",
              "    <tr style=\"text-align: right;\">\n",
              "      <th></th>\n",
              "      <th>age</th>\n",
              "      <th>salary</th>\n",
              "      <th>previous_company</th>\n",
              "    </tr>\n",
              "  </thead>\n",
              "  <tbody>\n",
              "    <tr>\n",
              "      <th>0</th>\n",
              "      <td>57.0</td>\n",
              "      <td>NaN</td>\n",
              "      <td>1.0</td>\n",
              "    </tr>\n",
              "    <tr>\n",
              "      <th>1</th>\n",
              "      <td>56.0</td>\n",
              "      <td>50927.0</td>\n",
              "      <td>NaN</td>\n",
              "    </tr>\n",
              "    <tr>\n",
              "      <th>2</th>\n",
              "      <td>46.0</td>\n",
              "      <td>75500.0</td>\n",
              "      <td>3.0</td>\n",
              "    </tr>\n",
              "    <tr>\n",
              "      <th>4</th>\n",
              "      <td>60.0</td>\n",
              "      <td>63002.0</td>\n",
              "      <td>1.0</td>\n",
              "    </tr>\n",
              "    <tr>\n",
              "      <th>5</th>\n",
              "      <td>54.0</td>\n",
              "      <td>54652.0</td>\n",
              "      <td>NaN</td>\n",
              "    </tr>\n",
              "    <tr>\n",
              "      <th>7</th>\n",
              "      <td>64.0</td>\n",
              "      <td>89397.0</td>\n",
              "      <td>3.0</td>\n",
              "    </tr>\n",
              "    <tr>\n",
              "      <th>8</th>\n",
              "      <td>60.0</td>\n",
              "      <td>77797.0</td>\n",
              "      <td>4.0</td>\n",
              "    </tr>\n",
              "    <tr>\n",
              "      <th>9</th>\n",
              "      <td>61.0</td>\n",
              "      <td>NaN</td>\n",
              "      <td>1.0</td>\n",
              "    </tr>\n",
              "    <tr>\n",
              "      <th>10</th>\n",
              "      <td>51.0</td>\n",
              "      <td>92767.0</td>\n",
              "      <td>5.0</td>\n",
              "    </tr>\n",
              "    <tr>\n",
              "      <th>12</th>\n",
              "      <td>49.0</td>\n",
              "      <td>91001.0</td>\n",
              "      <td>4.0</td>\n",
              "    </tr>\n",
              "    <tr>\n",
              "      <th>13</th>\n",
              "      <td>59.0</td>\n",
              "      <td>54212.0</td>\n",
              "      <td>4.0</td>\n",
              "    </tr>\n",
              "    <tr>\n",
              "      <th>14</th>\n",
              "      <td>61.0</td>\n",
              "      <td>84423.0</td>\n",
              "      <td>2.0</td>\n",
              "    </tr>\n",
              "    <tr>\n",
              "      <th>16</th>\n",
              "      <td>61.0</td>\n",
              "      <td>84930.0</td>\n",
              "      <td>NaN</td>\n",
              "    </tr>\n",
              "    <tr>\n",
              "      <th>17</th>\n",
              "      <td>48.0</td>\n",
              "      <td>63824.0</td>\n",
              "      <td>5.0</td>\n",
              "    </tr>\n",
              "    <tr>\n",
              "      <th>18</th>\n",
              "      <td>53.0</td>\n",
              "      <td>53143.0</td>\n",
              "      <td>2.0</td>\n",
              "    </tr>\n",
              "    <tr>\n",
              "      <th>19</th>\n",
              "      <td>49.0</td>\n",
              "      <td>59842.0</td>\n",
              "      <td>NaN</td>\n",
              "    </tr>\n",
              "    <tr>\n",
              "      <th>20</th>\n",
              "      <td>55.0</td>\n",
              "      <td>79309.0</td>\n",
              "      <td>2.0</td>\n",
              "    </tr>\n",
              "    <tr>\n",
              "      <th>21</th>\n",
              "      <td>59.0</td>\n",
              "      <td>NaN</td>\n",
              "      <td>4.0</td>\n",
              "    </tr>\n",
              "    <tr>\n",
              "      <th>22</th>\n",
              "      <td>49.0</td>\n",
              "      <td>52895.0</td>\n",
              "      <td>1.0</td>\n",
              "    </tr>\n",
              "    <tr>\n",
              "      <th>23</th>\n",
              "      <td>57.0</td>\n",
              "      <td>54035.0</td>\n",
              "      <td>3.0</td>\n",
              "    </tr>\n",
              "    <tr>\n",
              "      <th>24</th>\n",
              "      <td>58.0</td>\n",
              "      <td>64962.0</td>\n",
              "      <td>3.0</td>\n",
              "    </tr>\n",
              "    <tr>\n",
              "      <th>25</th>\n",
              "      <td>61.0</td>\n",
              "      <td>NaN</td>\n",
              "      <td>1.0</td>\n",
              "    </tr>\n",
              "    <tr>\n",
              "      <th>26</th>\n",
              "      <td>63.0</td>\n",
              "      <td>63861.0</td>\n",
              "      <td>2.0</td>\n",
              "    </tr>\n",
              "    <tr>\n",
              "      <th>27</th>\n",
              "      <td>47.0</td>\n",
              "      <td>55188.0</td>\n",
              "      <td>3.0</td>\n",
              "    </tr>\n",
              "    <tr>\n",
              "      <th>28</th>\n",
              "      <td>63.0</td>\n",
              "      <td>61220.0</td>\n",
              "      <td>3.0</td>\n",
              "    </tr>\n",
              "    <tr>\n",
              "      <th>29</th>\n",
              "      <td>54.0</td>\n",
              "      <td>98314.0</td>\n",
              "      <td>NaN</td>\n",
              "    </tr>\n",
              "    <tr>\n",
              "      <th>30</th>\n",
              "      <td>49.0</td>\n",
              "      <td>63398.0</td>\n",
              "      <td>1.0</td>\n",
              "    </tr>\n",
              "    <tr>\n",
              "      <th>31</th>\n",
              "      <td>57.0</td>\n",
              "      <td>94900.0</td>\n",
              "      <td>5.0</td>\n",
              "    </tr>\n",
              "  </tbody>\n",
              "</table>\n",
              "</div>"
            ],
            "text/plain": [
              "     age   salary  previous_company\n",
              "0   57.0      NaN               1.0\n",
              "1   56.0  50927.0               NaN\n",
              "2   46.0  75500.0               3.0\n",
              "4   60.0  63002.0               1.0\n",
              "5   54.0  54652.0               NaN\n",
              "7   64.0  89397.0               3.0\n",
              "8   60.0  77797.0               4.0\n",
              "9   61.0      NaN               1.0\n",
              "10  51.0  92767.0               5.0\n",
              "12  49.0  91001.0               4.0\n",
              "13  59.0  54212.0               4.0\n",
              "14  61.0  84423.0               2.0\n",
              "16  61.0  84930.0               NaN\n",
              "17  48.0  63824.0               5.0\n",
              "18  53.0  53143.0               2.0\n",
              "19  49.0  59842.0               NaN\n",
              "20  55.0  79309.0               2.0\n",
              "21  59.0      NaN               4.0\n",
              "22  49.0  52895.0               1.0\n",
              "23  57.0  54035.0               3.0\n",
              "24  58.0  64962.0               3.0\n",
              "25  61.0      NaN               1.0\n",
              "26  63.0  63861.0               2.0\n",
              "27  47.0  55188.0               3.0\n",
              "28  63.0  61220.0               3.0\n",
              "29  54.0  98314.0               NaN\n",
              "30  49.0  63398.0               1.0\n",
              "31  57.0  94900.0               5.0"
            ]
          },
          "metadata": {
            "tags": []
          },
          "execution_count": 76
        }
      ]
    },
    {
      "cell_type": "code",
      "metadata": {
        "colab": {
          "base_uri": "https://localhost:8080/"
        },
        "id": "Bq5Gq-joqrTo",
        "outputId": "b1b9e2dd-e5e9-4a02-b52f-1ac506549224"
      },
      "source": [
        "missing_df.age.isna()"
      ],
      "execution_count": 77,
      "outputs": [
        {
          "output_type": "execute_result",
          "data": {
            "text/plain": [
              "0     False\n",
              "1     False\n",
              "2     False\n",
              "3      True\n",
              "4     False\n",
              "5     False\n",
              "6      True\n",
              "7     False\n",
              "8     False\n",
              "9     False\n",
              "10    False\n",
              "11     True\n",
              "12    False\n",
              "13    False\n",
              "14    False\n",
              "15     True\n",
              "16    False\n",
              "17    False\n",
              "18    False\n",
              "19    False\n",
              "20    False\n",
              "21    False\n",
              "22    False\n",
              "23    False\n",
              "24    False\n",
              "25    False\n",
              "26    False\n",
              "27    False\n",
              "28    False\n",
              "29    False\n",
              "30    False\n",
              "31    False\n",
              "Name: age, dtype: bool"
            ]
          },
          "metadata": {
            "tags": []
          },
          "execution_count": 77
        }
      ]
    },
    {
      "cell_type": "code",
      "metadata": {
        "colab": {
          "base_uri": "https://localhost:8080/"
        },
        "id": "Vl3eHL_Kqu-W",
        "outputId": "61c615b8-a8b8-4a4c-ce9f-da6ba185e8d1"
      },
      "source": [
        "missing_df.age.isna().sum()"
      ],
      "execution_count": 78,
      "outputs": [
        {
          "output_type": "execute_result",
          "data": {
            "text/plain": [
              "4"
            ]
          },
          "metadata": {
            "tags": []
          },
          "execution_count": 78
        }
      ]
    },
    {
      "cell_type": "markdown",
      "metadata": {
        "id": "xvGHrxyfq2Am"
      },
      "source": [
        "REPLACING MISSING VALUES"
      ]
    },
    {
      "cell_type": "code",
      "metadata": {
        "colab": {
          "base_uri": "https://localhost:8080/"
        },
        "id": "lKpyuI7Zqwtr",
        "outputId": "90665d93-d19d-4acf-a46c-c8ecc14b200a"
      },
      "source": [
        "missing_df.age.fillna(method='ffill')"
      ],
      "execution_count": 79,
      "outputs": [
        {
          "output_type": "execute_result",
          "data": {
            "text/plain": [
              "0     57.0\n",
              "1     56.0\n",
              "2     46.0\n",
              "3     46.0\n",
              "4     60.0\n",
              "5     54.0\n",
              "6     54.0\n",
              "7     64.0\n",
              "8     60.0\n",
              "9     61.0\n",
              "10    51.0\n",
              "11    51.0\n",
              "12    49.0\n",
              "13    59.0\n",
              "14    61.0\n",
              "15    61.0\n",
              "16    61.0\n",
              "17    48.0\n",
              "18    53.0\n",
              "19    49.0\n",
              "20    55.0\n",
              "21    59.0\n",
              "22    49.0\n",
              "23    57.0\n",
              "24    58.0\n",
              "25    61.0\n",
              "26    63.0\n",
              "27    47.0\n",
              "28    63.0\n",
              "29    54.0\n",
              "30    49.0\n",
              "31    57.0\n",
              "Name: age, dtype: float64"
            ]
          },
          "metadata": {
            "tags": []
          },
          "execution_count": 79
        }
      ]
    },
    {
      "cell_type": "code",
      "metadata": {
        "colab": {
          "base_uri": "https://localhost:8080/"
        },
        "id": "jvfIKkl6q3xV",
        "outputId": "2d64d070-3174-4dd4-8cf0-47f7f2800eef"
      },
      "source": [
        "# The median age (pandas ignores the missing values)\n",
        "missing_df.age.median()"
      ],
      "execution_count": 80,
      "outputs": [
        {
          "output_type": "execute_result",
          "data": {
            "text/plain": [
              "57.0"
            ]
          },
          "metadata": {
            "tags": []
          },
          "execution_count": 80
        }
      ]
    },
    {
      "cell_type": "code",
      "metadata": {
        "colab": {
          "base_uri": "https://localhost:8080/"
        },
        "id": "S349Fsvfq7ZB",
        "outputId": "fc01b1a9-7b1a-4493-add9-2de2759b230d"
      },
      "source": [
        "missing_df.age.fillna(missing_df.age.median())"
      ],
      "execution_count": 81,
      "outputs": [
        {
          "output_type": "execute_result",
          "data": {
            "text/plain": [
              "0     57.0\n",
              "1     56.0\n",
              "2     46.0\n",
              "3     57.0\n",
              "4     60.0\n",
              "5     54.0\n",
              "6     57.0\n",
              "7     64.0\n",
              "8     60.0\n",
              "9     61.0\n",
              "10    51.0\n",
              "11    57.0\n",
              "12    49.0\n",
              "13    59.0\n",
              "14    61.0\n",
              "15    57.0\n",
              "16    61.0\n",
              "17    48.0\n",
              "18    53.0\n",
              "19    49.0\n",
              "20    55.0\n",
              "21    59.0\n",
              "22    49.0\n",
              "23    57.0\n",
              "24    58.0\n",
              "25    61.0\n",
              "26    63.0\n",
              "27    47.0\n",
              "28    63.0\n",
              "29    54.0\n",
              "30    49.0\n",
              "31    57.0\n",
              "Name: age, dtype: float64"
            ]
          },
          "metadata": {
            "tags": []
          },
          "execution_count": 81
        }
      ]
    },
    {
      "cell_type": "markdown",
      "metadata": {
        "id": "zEIKemgGq_fW"
      },
      "source": [
        "DEFAULT MISSING DATA"
      ]
    },
    {
      "cell_type": "code",
      "metadata": {
        "colab": {
          "resources": {
            "http://localhost:8080/nbextensions/google.colab/files.js": {
              "data": "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",
              "ok": true,
              "headers": [
                [
                  "content-type",
                  "application/javascript"
                ]
              ],
              "status": 200,
              "status_text": ""
            }
          },
          "base_uri": "https://localhost:8080/",
          "height": 73
        },
        "id": "ngHWp6AEq9Zt",
        "outputId": "05a8177c-916c-4d74-94c8-93a28b1bada5"
      },
      "source": [
        "from google.colab import files\n",
        "uploaded = files.upload()"
      ],
      "execution_count": 83,
      "outputs": [
        {
          "output_type": "display_data",
          "data": {
            "text/html": [
              "\n",
              "     <input type=\"file\" id=\"files-3de2251d-50a1-4880-9e63-3cfbb1e507fe\" name=\"files[]\" multiple disabled\n",
              "        style=\"border:none\" />\n",
              "     <output id=\"result-3de2251d-50a1-4880-9e63-3cfbb1e507fe\">\n",
              "      Upload widget is only available when the cell has been executed in the\n",
              "      current browser session. Please rerun this cell to enable.\n",
              "      </output>\n",
              "      <script src=\"/nbextensions/google.colab/files.js\"></script> "
            ],
            "text/plain": [
              "<IPython.core.display.HTML object>"
            ]
          },
          "metadata": {
            "tags": []
          }
        },
        {
          "output_type": "stream",
          "text": [
            "Saving DefaultMissingData.csv to DefaultMissingData.csv\n"
          ],
          "name": "stdout"
        }
      ]
    },
    {
      "cell_type": "code",
      "metadata": {
        "id": "aYHoxVESrBQ0"
      },
      "source": [
        "default_missing_df = pd.read_csv(io.BytesIO(uploaded['DefaultMissingData.csv']))"
      ],
      "execution_count": 84,
      "outputs": []
    },
    {
      "cell_type": "code",
      "metadata": {
        "colab": {
          "base_uri": "https://localhost:8080/",
          "height": 662
        },
        "id": "cNXPSjCCrR7Z",
        "outputId": "41050cc3-874a-4c78-a57d-5c3bebca80f2"
      },
      "source": [
        "default_missing_df"
      ],
      "execution_count": 85,
      "outputs": [
        {
          "output_type": "execute_result",
          "data": {
            "text/html": [
              "<div>\n",
              "<style scoped>\n",
              "    .dataframe tbody tr th:only-of-type {\n",
              "        vertical-align: middle;\n",
              "    }\n",
              "\n",
              "    .dataframe tbody tr th {\n",
              "        vertical-align: top;\n",
              "    }\n",
              "\n",
              "    .dataframe thead th {\n",
              "        text-align: right;\n",
              "    }\n",
              "</style>\n",
              "<table border=\"1\" class=\"dataframe\">\n",
              "  <thead>\n",
              "    <tr style=\"text-align: right;\">\n",
              "      <th></th>\n",
              "      <th>age</th>\n",
              "      <th>salary</th>\n",
              "      <th>previous_company</th>\n",
              "    </tr>\n",
              "  </thead>\n",
              "  <tbody>\n",
              "    <tr>\n",
              "      <th>0</th>\n",
              "      <td>57</td>\n",
              "      <td>Nil</td>\n",
              "      <td>1</td>\n",
              "    </tr>\n",
              "    <tr>\n",
              "      <th>1</th>\n",
              "      <td>56</td>\n",
              "      <td>50927</td>\n",
              "      <td>Missing</td>\n",
              "    </tr>\n",
              "    <tr>\n",
              "      <th>2</th>\n",
              "      <td>46</td>\n",
              "      <td>75500</td>\n",
              "      <td>3</td>\n",
              "    </tr>\n",
              "    <tr>\n",
              "      <th>3</th>\n",
              "      <td>999</td>\n",
              "      <td>84417</td>\n",
              "      <td>Missing</td>\n",
              "    </tr>\n",
              "    <tr>\n",
              "      <th>4</th>\n",
              "      <td>60</td>\n",
              "      <td>63002</td>\n",
              "      <td>1</td>\n",
              "    </tr>\n",
              "    <tr>\n",
              "      <th>5</th>\n",
              "      <td>54</td>\n",
              "      <td>54652</td>\n",
              "      <td>Missing</td>\n",
              "    </tr>\n",
              "    <tr>\n",
              "      <th>6</th>\n",
              "      <td>999</td>\n",
              "      <td>65739</td>\n",
              "      <td>1</td>\n",
              "    </tr>\n",
              "    <tr>\n",
              "      <th>7</th>\n",
              "      <td>64</td>\n",
              "      <td>89397</td>\n",
              "      <td>3</td>\n",
              "    </tr>\n",
              "    <tr>\n",
              "      <th>8</th>\n",
              "      <td>60</td>\n",
              "      <td>77797</td>\n",
              "      <td>4</td>\n",
              "    </tr>\n",
              "    <tr>\n",
              "      <th>9</th>\n",
              "      <td>61</td>\n",
              "      <td>Nil</td>\n",
              "      <td>1</td>\n",
              "    </tr>\n",
              "    <tr>\n",
              "      <th>10</th>\n",
              "      <td>51</td>\n",
              "      <td>92767</td>\n",
              "      <td>5</td>\n",
              "    </tr>\n",
              "    <tr>\n",
              "      <th>11</th>\n",
              "      <td>999</td>\n",
              "      <td>59873</td>\n",
              "      <td>2</td>\n",
              "    </tr>\n",
              "    <tr>\n",
              "      <th>12</th>\n",
              "      <td>49</td>\n",
              "      <td>91001</td>\n",
              "      <td>4</td>\n",
              "    </tr>\n",
              "    <tr>\n",
              "      <th>13</th>\n",
              "      <td>59</td>\n",
              "      <td>54212</td>\n",
              "      <td>4</td>\n",
              "    </tr>\n",
              "    <tr>\n",
              "      <th>14</th>\n",
              "      <td>61</td>\n",
              "      <td>84423</td>\n",
              "      <td>2</td>\n",
              "    </tr>\n",
              "    <tr>\n",
              "      <th>15</th>\n",
              "      <td>999</td>\n",
              "      <td>Nil</td>\n",
              "      <td>3</td>\n",
              "    </tr>\n",
              "    <tr>\n",
              "      <th>16</th>\n",
              "      <td>61</td>\n",
              "      <td>84930</td>\n",
              "      <td>Missing</td>\n",
              "    </tr>\n",
              "    <tr>\n",
              "      <th>17</th>\n",
              "      <td>48</td>\n",
              "      <td>63824</td>\n",
              "      <td>5</td>\n",
              "    </tr>\n",
              "    <tr>\n",
              "      <th>18</th>\n",
              "      <td>53</td>\n",
              "      <td>53143</td>\n",
              "      <td>2</td>\n",
              "    </tr>\n",
              "    <tr>\n",
              "      <th>19</th>\n",
              "      <td>49</td>\n",
              "      <td>59842</td>\n",
              "      <td>Missing</td>\n",
              "    </tr>\n",
              "  </tbody>\n",
              "</table>\n",
              "</div>"
            ],
            "text/plain": [
              "    age salary previous_company\n",
              "0    57    Nil                1\n",
              "1    56  50927          Missing\n",
              "2    46  75500                3\n",
              "3   999  84417          Missing\n",
              "4    60  63002                1\n",
              "5    54  54652          Missing\n",
              "6   999  65739                1\n",
              "7    64  89397                3\n",
              "8    60  77797                4\n",
              "9    61    Nil                1\n",
              "10   51  92767                5\n",
              "11  999  59873                2\n",
              "12   49  91001                4\n",
              "13   59  54212                4\n",
              "14   61  84423                2\n",
              "15  999    Nil                3\n",
              "16   61  84930          Missing\n",
              "17   48  63824                5\n",
              "18   53  53143                2\n",
              "19   49  59842          Missing"
            ]
          },
          "metadata": {
            "tags": []
          },
          "execution_count": 85
        }
      ]
    },
    {
      "cell_type": "code",
      "metadata": {
        "colab": {
          "base_uri": "https://localhost:8080/",
          "height": 1000
        },
        "id": "BxkJRy4lrVnL",
        "outputId": "7559b716-6b0d-4d95-d3ac-b63207ef2461"
      },
      "source": [
        "default_missing_df = pd.read_csv('DefaultMissingData.csv', na_values=[999, 'Nil', 'Missing'])\n",
        "default_missing_df"
      ],
      "execution_count": 86,
      "outputs": [
        {
          "output_type": "execute_result",
          "data": {
            "text/html": [
              "<div>\n",
              "<style scoped>\n",
              "    .dataframe tbody tr th:only-of-type {\n",
              "        vertical-align: middle;\n",
              "    }\n",
              "\n",
              "    .dataframe tbody tr th {\n",
              "        vertical-align: top;\n",
              "    }\n",
              "\n",
              "    .dataframe thead th {\n",
              "        text-align: right;\n",
              "    }\n",
              "</style>\n",
              "<table border=\"1\" class=\"dataframe\">\n",
              "  <thead>\n",
              "    <tr style=\"text-align: right;\">\n",
              "      <th></th>\n",
              "      <th>age</th>\n",
              "      <th>salary</th>\n",
              "      <th>previous_company</th>\n",
              "    </tr>\n",
              "  </thead>\n",
              "  <tbody>\n",
              "    <tr>\n",
              "      <th>0</th>\n",
              "      <td>57.0</td>\n",
              "      <td>NaN</td>\n",
              "      <td>1.0</td>\n",
              "    </tr>\n",
              "    <tr>\n",
              "      <th>1</th>\n",
              "      <td>56.0</td>\n",
              "      <td>50927.0</td>\n",
              "      <td>NaN</td>\n",
              "    </tr>\n",
              "    <tr>\n",
              "      <th>2</th>\n",
              "      <td>46.0</td>\n",
              "      <td>75500.0</td>\n",
              "      <td>3.0</td>\n",
              "    </tr>\n",
              "    <tr>\n",
              "      <th>3</th>\n",
              "      <td>NaN</td>\n",
              "      <td>84417.0</td>\n",
              "      <td>NaN</td>\n",
              "    </tr>\n",
              "    <tr>\n",
              "      <th>4</th>\n",
              "      <td>60.0</td>\n",
              "      <td>63002.0</td>\n",
              "      <td>1.0</td>\n",
              "    </tr>\n",
              "    <tr>\n",
              "      <th>5</th>\n",
              "      <td>54.0</td>\n",
              "      <td>54652.0</td>\n",
              "      <td>NaN</td>\n",
              "    </tr>\n",
              "    <tr>\n",
              "      <th>6</th>\n",
              "      <td>NaN</td>\n",
              "      <td>65739.0</td>\n",
              "      <td>1.0</td>\n",
              "    </tr>\n",
              "    <tr>\n",
              "      <th>7</th>\n",
              "      <td>64.0</td>\n",
              "      <td>89397.0</td>\n",
              "      <td>3.0</td>\n",
              "    </tr>\n",
              "    <tr>\n",
              "      <th>8</th>\n",
              "      <td>60.0</td>\n",
              "      <td>77797.0</td>\n",
              "      <td>4.0</td>\n",
              "    </tr>\n",
              "    <tr>\n",
              "      <th>9</th>\n",
              "      <td>61.0</td>\n",
              "      <td>NaN</td>\n",
              "      <td>1.0</td>\n",
              "    </tr>\n",
              "    <tr>\n",
              "      <th>10</th>\n",
              "      <td>51.0</td>\n",
              "      <td>92767.0</td>\n",
              "      <td>5.0</td>\n",
              "    </tr>\n",
              "    <tr>\n",
              "      <th>11</th>\n",
              "      <td>NaN</td>\n",
              "      <td>59873.0</td>\n",
              "      <td>2.0</td>\n",
              "    </tr>\n",
              "    <tr>\n",
              "      <th>12</th>\n",
              "      <td>49.0</td>\n",
              "      <td>91001.0</td>\n",
              "      <td>4.0</td>\n",
              "    </tr>\n",
              "    <tr>\n",
              "      <th>13</th>\n",
              "      <td>59.0</td>\n",
              "      <td>54212.0</td>\n",
              "      <td>4.0</td>\n",
              "    </tr>\n",
              "    <tr>\n",
              "      <th>14</th>\n",
              "      <td>61.0</td>\n",
              "      <td>84423.0</td>\n",
              "      <td>2.0</td>\n",
              "    </tr>\n",
              "    <tr>\n",
              "      <th>15</th>\n",
              "      <td>NaN</td>\n",
              "      <td>NaN</td>\n",
              "      <td>3.0</td>\n",
              "    </tr>\n",
              "    <tr>\n",
              "      <th>16</th>\n",
              "      <td>61.0</td>\n",
              "      <td>84930.0</td>\n",
              "      <td>NaN</td>\n",
              "    </tr>\n",
              "    <tr>\n",
              "      <th>17</th>\n",
              "      <td>48.0</td>\n",
              "      <td>63824.0</td>\n",
              "      <td>5.0</td>\n",
              "    </tr>\n",
              "    <tr>\n",
              "      <th>18</th>\n",
              "      <td>53.0</td>\n",
              "      <td>53143.0</td>\n",
              "      <td>2.0</td>\n",
              "    </tr>\n",
              "    <tr>\n",
              "      <th>19</th>\n",
              "      <td>49.0</td>\n",
              "      <td>59842.0</td>\n",
              "      <td>NaN</td>\n",
              "    </tr>\n",
              "    <tr>\n",
              "      <th>20</th>\n",
              "      <td>55.0</td>\n",
              "      <td>79309.0</td>\n",
              "      <td>2.0</td>\n",
              "    </tr>\n",
              "    <tr>\n",
              "      <th>21</th>\n",
              "      <td>59.0</td>\n",
              "      <td>NaN</td>\n",
              "      <td>4.0</td>\n",
              "    </tr>\n",
              "    <tr>\n",
              "      <th>22</th>\n",
              "      <td>49.0</td>\n",
              "      <td>52895.0</td>\n",
              "      <td>1.0</td>\n",
              "    </tr>\n",
              "    <tr>\n",
              "      <th>23</th>\n",
              "      <td>57.0</td>\n",
              "      <td>54035.0</td>\n",
              "      <td>3.0</td>\n",
              "    </tr>\n",
              "    <tr>\n",
              "      <th>24</th>\n",
              "      <td>58.0</td>\n",
              "      <td>64962.0</td>\n",
              "      <td>3.0</td>\n",
              "    </tr>\n",
              "    <tr>\n",
              "      <th>25</th>\n",
              "      <td>61.0</td>\n",
              "      <td>NaN</td>\n",
              "      <td>1.0</td>\n",
              "    </tr>\n",
              "    <tr>\n",
              "      <th>26</th>\n",
              "      <td>63.0</td>\n",
              "      <td>63861.0</td>\n",
              "      <td>2.0</td>\n",
              "    </tr>\n",
              "    <tr>\n",
              "      <th>27</th>\n",
              "      <td>47.0</td>\n",
              "      <td>55188.0</td>\n",
              "      <td>3.0</td>\n",
              "    </tr>\n",
              "    <tr>\n",
              "      <th>28</th>\n",
              "      <td>63.0</td>\n",
              "      <td>61220.0</td>\n",
              "      <td>3.0</td>\n",
              "    </tr>\n",
              "    <tr>\n",
              "      <th>29</th>\n",
              "      <td>54.0</td>\n",
              "      <td>98314.0</td>\n",
              "      <td>NaN</td>\n",
              "    </tr>\n",
              "    <tr>\n",
              "      <th>30</th>\n",
              "      <td>49.0</td>\n",
              "      <td>63398.0</td>\n",
              "      <td>1.0</td>\n",
              "    </tr>\n",
              "    <tr>\n",
              "      <th>31</th>\n",
              "      <td>57.0</td>\n",
              "      <td>94900.0</td>\n",
              "      <td>5.0</td>\n",
              "    </tr>\n",
              "  </tbody>\n",
              "</table>\n",
              "</div>"
            ],
            "text/plain": [
              "     age   salary  previous_company\n",
              "0   57.0      NaN               1.0\n",
              "1   56.0  50927.0               NaN\n",
              "2   46.0  75500.0               3.0\n",
              "3    NaN  84417.0               NaN\n",
              "4   60.0  63002.0               1.0\n",
              "5   54.0  54652.0               NaN\n",
              "6    NaN  65739.0               1.0\n",
              "7   64.0  89397.0               3.0\n",
              "8   60.0  77797.0               4.0\n",
              "9   61.0      NaN               1.0\n",
              "10  51.0  92767.0               5.0\n",
              "11   NaN  59873.0               2.0\n",
              "12  49.0  91001.0               4.0\n",
              "13  59.0  54212.0               4.0\n",
              "14  61.0  84423.0               2.0\n",
              "15   NaN      NaN               3.0\n",
              "16  61.0  84930.0               NaN\n",
              "17  48.0  63824.0               5.0\n",
              "18  53.0  53143.0               2.0\n",
              "19  49.0  59842.0               NaN\n",
              "20  55.0  79309.0               2.0\n",
              "21  59.0      NaN               4.0\n",
              "22  49.0  52895.0               1.0\n",
              "23  57.0  54035.0               3.0\n",
              "24  58.0  64962.0               3.0\n",
              "25  61.0      NaN               1.0\n",
              "26  63.0  63861.0               2.0\n",
              "27  47.0  55188.0               3.0\n",
              "28  63.0  61220.0               3.0\n",
              "29  54.0  98314.0               NaN\n",
              "30  49.0  63398.0               1.0\n",
              "31  57.0  94900.0               5.0"
            ]
          },
          "metadata": {
            "tags": []
          },
          "execution_count": 86
        }
      ]
    },
    {
      "cell_type": "markdown",
      "metadata": {
        "id": "DQOfETcjrh7r"
      },
      "source": [
        "WORKING WITH DATES AND TIMES"
      ]
    },
    {
      "cell_type": "code",
      "metadata": {
        "colab": {
          "resources": {
            "http://localhost:8080/nbextensions/google.colab/files.js": {
              "data": "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",
              "ok": true,
              "headers": [
                [
                  "content-type",
                  "application/javascript"
                ]
              ],
              "status": 200,
              "status_text": ""
            }
          },
          "base_uri": "https://localhost:8080/",
          "height": 73
        },
        "id": "iTpepBl_rZgf",
        "outputId": "af70fac3-ebde-43a3-c4c6-3300c04b31d4"
      },
      "source": [
        "from google.colab import files\n",
        "uploaded = files.upload()"
      ],
      "execution_count": 87,
      "outputs": [
        {
          "output_type": "display_data",
          "data": {
            "text/html": [
              "\n",
              "     <input type=\"file\" id=\"files-66ec595d-4f1c-4301-b299-57ef70e6ae8d\" name=\"files[]\" multiple disabled\n",
              "        style=\"border:none\" />\n",
              "     <output id=\"result-66ec595d-4f1c-4301-b299-57ef70e6ae8d\">\n",
              "      Upload widget is only available when the cell has been executed in the\n",
              "      current browser session. Please rerun this cell to enable.\n",
              "      </output>\n",
              "      <script src=\"/nbextensions/google.colab/files.js\"></script> "
            ],
            "text/plain": [
              "<IPython.core.display.HTML object>"
            ]
          },
          "metadata": {
            "tags": []
          }
        },
        {
          "output_type": "stream",
          "text": [
            "Saving DatesTimes.csv to DatesTimes.csv\n"
          ],
          "name": "stdout"
        }
      ]
    },
    {
      "cell_type": "code",
      "metadata": {
        "id": "sqaedc2zrk_w"
      },
      "source": [
        "dt = pd.read_csv(io.BytesIO(uploaded['DatesTimes.csv']))"
      ],
      "execution_count": 88,
      "outputs": []
    },
    {
      "cell_type": "code",
      "metadata": {
        "colab": {
          "base_uri": "https://localhost:8080/",
          "height": 784
        },
        "id": "14G1i3uJrsPx",
        "outputId": "6ba2ef1c-a9dd-4a02-dfed-bfc0c258f907"
      },
      "source": [
        "dt"
      ],
      "execution_count": 89,
      "outputs": [
        {
          "output_type": "execute_result",
          "data": {
            "text/html": [
              "<div>\n",
              "<style scoped>\n",
              "    .dataframe tbody tr th:only-of-type {\n",
              "        vertical-align: middle;\n",
              "    }\n",
              "\n",
              "    .dataframe tbody tr th {\n",
              "        vertical-align: top;\n",
              "    }\n",
              "\n",
              "    .dataframe thead th {\n",
              "        text-align: right;\n",
              "    }\n",
              "</style>\n",
              "<table border=\"1\" class=\"dataframe\">\n",
              "  <thead>\n",
              "    <tr style=\"text-align: right;\">\n",
              "      <th></th>\n",
              "      <th>ID</th>\n",
              "      <th>Batch</th>\n",
              "      <th>SpecimenDate</th>\n",
              "      <th>TestDate</th>\n",
              "      <th>TestTime</th>\n",
              "    </tr>\n",
              "  </thead>\n",
              "  <tbody>\n",
              "    <tr>\n",
              "      <th>0</th>\n",
              "      <td>183</td>\n",
              "      <td>3</td>\n",
              "      <td>2025/04/21</td>\n",
              "      <td>2025/04/26</td>\n",
              "      <td>12:23</td>\n",
              "    </tr>\n",
              "    <tr>\n",
              "      <th>1</th>\n",
              "      <td>198</td>\n",
              "      <td>2</td>\n",
              "      <td>2025/04/21</td>\n",
              "      <td>2025/04/26</td>\n",
              "      <td>12:26</td>\n",
              "    </tr>\n",
              "    <tr>\n",
              "      <th>2</th>\n",
              "      <td>194</td>\n",
              "      <td>1</td>\n",
              "      <td>2025/04/22</td>\n",
              "      <td>2025/04/26</td>\n",
              "      <td>12:11</td>\n",
              "    </tr>\n",
              "    <tr>\n",
              "      <th>3</th>\n",
              "      <td>192</td>\n",
              "      <td>2</td>\n",
              "      <td>2025/04/22</td>\n",
              "      <td>2025/04/25</td>\n",
              "      <td>12:05</td>\n",
              "    </tr>\n",
              "    <tr>\n",
              "      <th>4</th>\n",
              "      <td>143</td>\n",
              "      <td>2</td>\n",
              "      <td>2025/04/22</td>\n",
              "      <td>2025/04/25</td>\n",
              "      <td>13:45</td>\n",
              "    </tr>\n",
              "    <tr>\n",
              "      <th>5</th>\n",
              "      <td>143</td>\n",
              "      <td>2</td>\n",
              "      <td>2025/04/22</td>\n",
              "      <td>2025/04/26</td>\n",
              "      <td>11:59</td>\n",
              "    </tr>\n",
              "    <tr>\n",
              "      <th>6</th>\n",
              "      <td>171</td>\n",
              "      <td>2</td>\n",
              "      <td>2025/04/22</td>\n",
              "      <td>2025/04/25</td>\n",
              "      <td>12:34</td>\n",
              "    </tr>\n",
              "    <tr>\n",
              "      <th>7</th>\n",
              "      <td>152</td>\n",
              "      <td>1</td>\n",
              "      <td>2025/04/23</td>\n",
              "      <td>2025/04/28</td>\n",
              "      <td>13:59</td>\n",
              "    </tr>\n",
              "    <tr>\n",
              "      <th>8</th>\n",
              "      <td>111</td>\n",
              "      <td>1</td>\n",
              "      <td>2025/04/23</td>\n",
              "      <td>2025/04/26</td>\n",
              "      <td>13:54</td>\n",
              "    </tr>\n",
              "    <tr>\n",
              "      <th>9</th>\n",
              "      <td>121</td>\n",
              "      <td>3</td>\n",
              "      <td>2025/04/23</td>\n",
              "      <td>2025/04/26</td>\n",
              "      <td>11:34</td>\n",
              "    </tr>\n",
              "    <tr>\n",
              "      <th>10</th>\n",
              "      <td>188</td>\n",
              "      <td>2</td>\n",
              "      <td>2025/04/23</td>\n",
              "      <td>2025/04/27</td>\n",
              "      <td>09:34</td>\n",
              "    </tr>\n",
              "    <tr>\n",
              "      <th>11</th>\n",
              "      <td>127</td>\n",
              "      <td>3</td>\n",
              "      <td>2025/04/24</td>\n",
              "      <td>2025/04/29</td>\n",
              "      <td>13:33</td>\n",
              "    </tr>\n",
              "    <tr>\n",
              "      <th>12</th>\n",
              "      <td>179</td>\n",
              "      <td>2</td>\n",
              "      <td>2025/04/24</td>\n",
              "      <td>2025/04/29</td>\n",
              "      <td>14:45</td>\n",
              "    </tr>\n",
              "    <tr>\n",
              "      <th>13</th>\n",
              "      <td>160</td>\n",
              "      <td>1</td>\n",
              "      <td>2025/04/24</td>\n",
              "      <td>2025/04/29</td>\n",
              "      <td>15:01</td>\n",
              "    </tr>\n",
              "    <tr>\n",
              "      <th>14</th>\n",
              "      <td>117</td>\n",
              "      <td>2</td>\n",
              "      <td>2025/04/24</td>\n",
              "      <td>2025/04/29</td>\n",
              "      <td>14:35</td>\n",
              "    </tr>\n",
              "    <tr>\n",
              "      <th>15</th>\n",
              "      <td>130</td>\n",
              "      <td>2</td>\n",
              "      <td>2025/04/25</td>\n",
              "      <td>2025/04/30</td>\n",
              "      <td>12:12</td>\n",
              "    </tr>\n",
              "    <tr>\n",
              "      <th>16</th>\n",
              "      <td>173</td>\n",
              "      <td>3</td>\n",
              "      <td>2025/04/25</td>\n",
              "      <td>2025/04/28</td>\n",
              "      <td>13:12</td>\n",
              "    </tr>\n",
              "    <tr>\n",
              "      <th>17</th>\n",
              "      <td>190</td>\n",
              "      <td>1</td>\n",
              "      <td>2025/04/26</td>\n",
              "      <td>2025/04/29</td>\n",
              "      <td>12:32</td>\n",
              "    </tr>\n",
              "    <tr>\n",
              "      <th>18</th>\n",
              "      <td>141</td>\n",
              "      <td>2</td>\n",
              "      <td>2025/04/26</td>\n",
              "      <td>2025/04/30</td>\n",
              "      <td>12:17</td>\n",
              "    </tr>\n",
              "    <tr>\n",
              "      <th>19</th>\n",
              "      <td>101</td>\n",
              "      <td>1</td>\n",
              "      <td>2025/04/26</td>\n",
              "      <td>2025/04/30</td>\n",
              "      <td>11:56</td>\n",
              "    </tr>\n",
              "    <tr>\n",
              "      <th>20</th>\n",
              "      <td>102</td>\n",
              "      <td>3</td>\n",
              "      <td>2025/04/27</td>\n",
              "      <td>2025/04/30</td>\n",
              "      <td>11:58</td>\n",
              "    </tr>\n",
              "    <tr>\n",
              "      <th>21</th>\n",
              "      <td>112</td>\n",
              "      <td>2</td>\n",
              "      <td>2025/04/27</td>\n",
              "      <td>2025/05/01</td>\n",
              "      <td>10:56</td>\n",
              "    </tr>\n",
              "    <tr>\n",
              "      <th>22</th>\n",
              "      <td>157</td>\n",
              "      <td>1</td>\n",
              "      <td>2025/04/28</td>\n",
              "      <td>2025/05/01</td>\n",
              "      <td>10:33</td>\n",
              "    </tr>\n",
              "    <tr>\n",
              "      <th>23</th>\n",
              "      <td>196</td>\n",
              "      <td>1</td>\n",
              "      <td>2025/04/28</td>\n",
              "      <td>2025/05/02</td>\n",
              "      <td>11:01</td>\n",
              "    </tr>\n",
              "  </tbody>\n",
              "</table>\n",
              "</div>"
            ],
            "text/plain": [
              "     ID  Batch SpecimenDate    TestDate TestTime\n",
              "0   183      3   2025/04/21  2025/04/26    12:23\n",
              "1   198      2   2025/04/21  2025/04/26    12:26\n",
              "2   194      1   2025/04/22  2025/04/26    12:11\n",
              "3   192      2   2025/04/22  2025/04/25    12:05\n",
              "4   143      2   2025/04/22  2025/04/25    13:45\n",
              "5   143      2   2025/04/22  2025/04/26    11:59\n",
              "6   171      2   2025/04/22  2025/04/25    12:34\n",
              "7   152      1   2025/04/23  2025/04/28    13:59\n",
              "8   111      1   2025/04/23  2025/04/26    13:54\n",
              "9   121      3   2025/04/23  2025/04/26    11:34\n",
              "10  188      2   2025/04/23  2025/04/27    09:34\n",
              "11  127      3   2025/04/24  2025/04/29    13:33\n",
              "12  179      2   2025/04/24  2025/04/29    14:45\n",
              "13  160      1   2025/04/24  2025/04/29    15:01\n",
              "14  117      2   2025/04/24  2025/04/29    14:35\n",
              "15  130      2   2025/04/25  2025/04/30    12:12\n",
              "16  173      3   2025/04/25  2025/04/28    13:12\n",
              "17  190      1   2025/04/26  2025/04/29    12:32\n",
              "18  141      2   2025/04/26  2025/04/30    12:17\n",
              "19  101      1   2025/04/26  2025/04/30    11:56\n",
              "20  102      3   2025/04/27  2025/04/30    11:58\n",
              "21  112      2   2025/04/27  2025/05/01    10:56\n",
              "22  157      1   2025/04/28  2025/05/01    10:33\n",
              "23  196      1   2025/04/28  2025/05/02    11:01"
            ]
          },
          "metadata": {
            "tags": []
          },
          "execution_count": 89
        }
      ]
    },
    {
      "cell_type": "code",
      "metadata": {
        "colab": {
          "base_uri": "https://localhost:8080/"
        },
        "id": "dPABRmujrtAL",
        "outputId": "b4466293-4377-4e90-e2e1-b1461493be83"
      },
      "source": [
        "dt.dtypes"
      ],
      "execution_count": 90,
      "outputs": [
        {
          "output_type": "execute_result",
          "data": {
            "text/plain": [
              "ID               int64\n",
              "Batch            int64\n",
              "SpecimenDate    object\n",
              "TestDate        object\n",
              "TestTime        object\n",
              "dtype: object"
            ]
          },
          "metadata": {
            "tags": []
          },
          "execution_count": 90
        }
      ]
    },
    {
      "cell_type": "code",
      "metadata": {
        "colab": {
          "base_uri": "https://localhost:8080/",
          "height": 784
        },
        "id": "sMqBnTZXruq2",
        "outputId": "2675e653-7c5a-44bf-f612-f29a3e9b5913"
      },
      "source": [
        "dt['DateTime'] = dt.TestDate + ' ' + dt.TestTime  # Add a space\n",
        "dt"
      ],
      "execution_count": 91,
      "outputs": [
        {
          "output_type": "execute_result",
          "data": {
            "text/html": [
              "<div>\n",
              "<style scoped>\n",
              "    .dataframe tbody tr th:only-of-type {\n",
              "        vertical-align: middle;\n",
              "    }\n",
              "\n",
              "    .dataframe tbody tr th {\n",
              "        vertical-align: top;\n",
              "    }\n",
              "\n",
              "    .dataframe thead th {\n",
              "        text-align: right;\n",
              "    }\n",
              "</style>\n",
              "<table border=\"1\" class=\"dataframe\">\n",
              "  <thead>\n",
              "    <tr style=\"text-align: right;\">\n",
              "      <th></th>\n",
              "      <th>ID</th>\n",
              "      <th>Batch</th>\n",
              "      <th>SpecimenDate</th>\n",
              "      <th>TestDate</th>\n",
              "      <th>TestTime</th>\n",
              "      <th>DateTime</th>\n",
              "    </tr>\n",
              "  </thead>\n",
              "  <tbody>\n",
              "    <tr>\n",
              "      <th>0</th>\n",
              "      <td>183</td>\n",
              "      <td>3</td>\n",
              "      <td>2025/04/21</td>\n",
              "      <td>2025/04/26</td>\n",
              "      <td>12:23</td>\n",
              "      <td>2025/04/26 12:23</td>\n",
              "    </tr>\n",
              "    <tr>\n",
              "      <th>1</th>\n",
              "      <td>198</td>\n",
              "      <td>2</td>\n",
              "      <td>2025/04/21</td>\n",
              "      <td>2025/04/26</td>\n",
              "      <td>12:26</td>\n",
              "      <td>2025/04/26 12:26</td>\n",
              "    </tr>\n",
              "    <tr>\n",
              "      <th>2</th>\n",
              "      <td>194</td>\n",
              "      <td>1</td>\n",
              "      <td>2025/04/22</td>\n",
              "      <td>2025/04/26</td>\n",
              "      <td>12:11</td>\n",
              "      <td>2025/04/26 12:11</td>\n",
              "    </tr>\n",
              "    <tr>\n",
              "      <th>3</th>\n",
              "      <td>192</td>\n",
              "      <td>2</td>\n",
              "      <td>2025/04/22</td>\n",
              "      <td>2025/04/25</td>\n",
              "      <td>12:05</td>\n",
              "      <td>2025/04/25 12:05</td>\n",
              "    </tr>\n",
              "    <tr>\n",
              "      <th>4</th>\n",
              "      <td>143</td>\n",
              "      <td>2</td>\n",
              "      <td>2025/04/22</td>\n",
              "      <td>2025/04/25</td>\n",
              "      <td>13:45</td>\n",
              "      <td>2025/04/25 13:45</td>\n",
              "    </tr>\n",
              "    <tr>\n",
              "      <th>5</th>\n",
              "      <td>143</td>\n",
              "      <td>2</td>\n",
              "      <td>2025/04/22</td>\n",
              "      <td>2025/04/26</td>\n",
              "      <td>11:59</td>\n",
              "      <td>2025/04/26 11:59</td>\n",
              "    </tr>\n",
              "    <tr>\n",
              "      <th>6</th>\n",
              "      <td>171</td>\n",
              "      <td>2</td>\n",
              "      <td>2025/04/22</td>\n",
              "      <td>2025/04/25</td>\n",
              "      <td>12:34</td>\n",
              "      <td>2025/04/25 12:34</td>\n",
              "    </tr>\n",
              "    <tr>\n",
              "      <th>7</th>\n",
              "      <td>152</td>\n",
              "      <td>1</td>\n",
              "      <td>2025/04/23</td>\n",
              "      <td>2025/04/28</td>\n",
              "      <td>13:59</td>\n",
              "      <td>2025/04/28 13:59</td>\n",
              "    </tr>\n",
              "    <tr>\n",
              "      <th>8</th>\n",
              "      <td>111</td>\n",
              "      <td>1</td>\n",
              "      <td>2025/04/23</td>\n",
              "      <td>2025/04/26</td>\n",
              "      <td>13:54</td>\n",
              "      <td>2025/04/26 13:54</td>\n",
              "    </tr>\n",
              "    <tr>\n",
              "      <th>9</th>\n",
              "      <td>121</td>\n",
              "      <td>3</td>\n",
              "      <td>2025/04/23</td>\n",
              "      <td>2025/04/26</td>\n",
              "      <td>11:34</td>\n",
              "      <td>2025/04/26 11:34</td>\n",
              "    </tr>\n",
              "    <tr>\n",
              "      <th>10</th>\n",
              "      <td>188</td>\n",
              "      <td>2</td>\n",
              "      <td>2025/04/23</td>\n",
              "      <td>2025/04/27</td>\n",
              "      <td>09:34</td>\n",
              "      <td>2025/04/27 09:34</td>\n",
              "    </tr>\n",
              "    <tr>\n",
              "      <th>11</th>\n",
              "      <td>127</td>\n",
              "      <td>3</td>\n",
              "      <td>2025/04/24</td>\n",
              "      <td>2025/04/29</td>\n",
              "      <td>13:33</td>\n",
              "      <td>2025/04/29 13:33</td>\n",
              "    </tr>\n",
              "    <tr>\n",
              "      <th>12</th>\n",
              "      <td>179</td>\n",
              "      <td>2</td>\n",
              "      <td>2025/04/24</td>\n",
              "      <td>2025/04/29</td>\n",
              "      <td>14:45</td>\n",
              "      <td>2025/04/29 14:45</td>\n",
              "    </tr>\n",
              "    <tr>\n",
              "      <th>13</th>\n",
              "      <td>160</td>\n",
              "      <td>1</td>\n",
              "      <td>2025/04/24</td>\n",
              "      <td>2025/04/29</td>\n",
              "      <td>15:01</td>\n",
              "      <td>2025/04/29 15:01</td>\n",
              "    </tr>\n",
              "    <tr>\n",
              "      <th>14</th>\n",
              "      <td>117</td>\n",
              "      <td>2</td>\n",
              "      <td>2025/04/24</td>\n",
              "      <td>2025/04/29</td>\n",
              "      <td>14:35</td>\n",
              "      <td>2025/04/29 14:35</td>\n",
              "    </tr>\n",
              "    <tr>\n",
              "      <th>15</th>\n",
              "      <td>130</td>\n",
              "      <td>2</td>\n",
              "      <td>2025/04/25</td>\n",
              "      <td>2025/04/30</td>\n",
              "      <td>12:12</td>\n",
              "      <td>2025/04/30 12:12</td>\n",
              "    </tr>\n",
              "    <tr>\n",
              "      <th>16</th>\n",
              "      <td>173</td>\n",
              "      <td>3</td>\n",
              "      <td>2025/04/25</td>\n",
              "      <td>2025/04/28</td>\n",
              "      <td>13:12</td>\n",
              "      <td>2025/04/28 13:12</td>\n",
              "    </tr>\n",
              "    <tr>\n",
              "      <th>17</th>\n",
              "      <td>190</td>\n",
              "      <td>1</td>\n",
              "      <td>2025/04/26</td>\n",
              "      <td>2025/04/29</td>\n",
              "      <td>12:32</td>\n",
              "      <td>2025/04/29 12:32</td>\n",
              "    </tr>\n",
              "    <tr>\n",
              "      <th>18</th>\n",
              "      <td>141</td>\n",
              "      <td>2</td>\n",
              "      <td>2025/04/26</td>\n",
              "      <td>2025/04/30</td>\n",
              "      <td>12:17</td>\n",
              "      <td>2025/04/30 12:17</td>\n",
              "    </tr>\n",
              "    <tr>\n",
              "      <th>19</th>\n",
              "      <td>101</td>\n",
              "      <td>1</td>\n",
              "      <td>2025/04/26</td>\n",
              "      <td>2025/04/30</td>\n",
              "      <td>11:56</td>\n",
              "      <td>2025/04/30 11:56</td>\n",
              "    </tr>\n",
              "    <tr>\n",
              "      <th>20</th>\n",
              "      <td>102</td>\n",
              "      <td>3</td>\n",
              "      <td>2025/04/27</td>\n",
              "      <td>2025/04/30</td>\n",
              "      <td>11:58</td>\n",
              "      <td>2025/04/30 11:58</td>\n",
              "    </tr>\n",
              "    <tr>\n",
              "      <th>21</th>\n",
              "      <td>112</td>\n",
              "      <td>2</td>\n",
              "      <td>2025/04/27</td>\n",
              "      <td>2025/05/01</td>\n",
              "      <td>10:56</td>\n",
              "      <td>2025/05/01 10:56</td>\n",
              "    </tr>\n",
              "    <tr>\n",
              "      <th>22</th>\n",
              "      <td>157</td>\n",
              "      <td>1</td>\n",
              "      <td>2025/04/28</td>\n",
              "      <td>2025/05/01</td>\n",
              "      <td>10:33</td>\n",
              "      <td>2025/05/01 10:33</td>\n",
              "    </tr>\n",
              "    <tr>\n",
              "      <th>23</th>\n",
              "      <td>196</td>\n",
              "      <td>1</td>\n",
              "      <td>2025/04/28</td>\n",
              "      <td>2025/05/02</td>\n",
              "      <td>11:01</td>\n",
              "      <td>2025/05/02 11:01</td>\n",
              "    </tr>\n",
              "  </tbody>\n",
              "</table>\n",
              "</div>"
            ],
            "text/plain": [
              "     ID  Batch SpecimenDate    TestDate TestTime          DateTime\n",
              "0   183      3   2025/04/21  2025/04/26    12:23  2025/04/26 12:23\n",
              "1   198      2   2025/04/21  2025/04/26    12:26  2025/04/26 12:26\n",
              "2   194      1   2025/04/22  2025/04/26    12:11  2025/04/26 12:11\n",
              "3   192      2   2025/04/22  2025/04/25    12:05  2025/04/25 12:05\n",
              "4   143      2   2025/04/22  2025/04/25    13:45  2025/04/25 13:45\n",
              "5   143      2   2025/04/22  2025/04/26    11:59  2025/04/26 11:59\n",
              "6   171      2   2025/04/22  2025/04/25    12:34  2025/04/25 12:34\n",
              "7   152      1   2025/04/23  2025/04/28    13:59  2025/04/28 13:59\n",
              "8   111      1   2025/04/23  2025/04/26    13:54  2025/04/26 13:54\n",
              "9   121      3   2025/04/23  2025/04/26    11:34  2025/04/26 11:34\n",
              "10  188      2   2025/04/23  2025/04/27    09:34  2025/04/27 09:34\n",
              "11  127      3   2025/04/24  2025/04/29    13:33  2025/04/29 13:33\n",
              "12  179      2   2025/04/24  2025/04/29    14:45  2025/04/29 14:45\n",
              "13  160      1   2025/04/24  2025/04/29    15:01  2025/04/29 15:01\n",
              "14  117      2   2025/04/24  2025/04/29    14:35  2025/04/29 14:35\n",
              "15  130      2   2025/04/25  2025/04/30    12:12  2025/04/30 12:12\n",
              "16  173      3   2025/04/25  2025/04/28    13:12  2025/04/28 13:12\n",
              "17  190      1   2025/04/26  2025/04/29    12:32  2025/04/29 12:32\n",
              "18  141      2   2025/04/26  2025/04/30    12:17  2025/04/30 12:17\n",
              "19  101      1   2025/04/26  2025/04/30    11:56  2025/04/30 11:56\n",
              "20  102      3   2025/04/27  2025/04/30    11:58  2025/04/30 11:58\n",
              "21  112      2   2025/04/27  2025/05/01    10:56  2025/05/01 10:56\n",
              "22  157      1   2025/04/28  2025/05/01    10:33  2025/05/01 10:33\n",
              "23  196      1   2025/04/28  2025/05/02    11:01  2025/05/02 11:01"
            ]
          },
          "metadata": {
            "tags": []
          },
          "execution_count": 91
        }
      ]
    },
    {
      "cell_type": "code",
      "metadata": {
        "colab": {
          "base_uri": "https://localhost:8080/"
        },
        "id": "9ZLH12_orwVX",
        "outputId": "579fd148-1078-4269-9553-79db33427a6a"
      },
      "source": [
        "dt.DateTime.dtype"
      ],
      "execution_count": 92,
      "outputs": [
        {
          "output_type": "execute_result",
          "data": {
            "text/plain": [
              "dtype('O')"
            ]
          },
          "metadata": {
            "tags": []
          },
          "execution_count": 92
        }
      ]
    },
    {
      "cell_type": "code",
      "metadata": {
        "colab": {
          "base_uri": "https://localhost:8080/",
          "height": 784
        },
        "id": "jIEi5W9Hrxbc",
        "outputId": "32e51ea5-cb2e-4e91-abd3-35cda93a01de"
      },
      "source": [
        "dt['datetime'] = pd.to_datetime(dt.DateTime, format='%Y/%m/%d %H:%M')\n",
        "dt"
      ],
      "execution_count": 93,
      "outputs": [
        {
          "output_type": "execute_result",
          "data": {
            "text/html": [
              "<div>\n",
              "<style scoped>\n",
              "    .dataframe tbody tr th:only-of-type {\n",
              "        vertical-align: middle;\n",
              "    }\n",
              "\n",
              "    .dataframe tbody tr th {\n",
              "        vertical-align: top;\n",
              "    }\n",
              "\n",
              "    .dataframe thead th {\n",
              "        text-align: right;\n",
              "    }\n",
              "</style>\n",
              "<table border=\"1\" class=\"dataframe\">\n",
              "  <thead>\n",
              "    <tr style=\"text-align: right;\">\n",
              "      <th></th>\n",
              "      <th>ID</th>\n",
              "      <th>Batch</th>\n",
              "      <th>SpecimenDate</th>\n",
              "      <th>TestDate</th>\n",
              "      <th>TestTime</th>\n",
              "      <th>DateTime</th>\n",
              "      <th>datetime</th>\n",
              "    </tr>\n",
              "  </thead>\n",
              "  <tbody>\n",
              "    <tr>\n",
              "      <th>0</th>\n",
              "      <td>183</td>\n",
              "      <td>3</td>\n",
              "      <td>2025/04/21</td>\n",
              "      <td>2025/04/26</td>\n",
              "      <td>12:23</td>\n",
              "      <td>2025/04/26 12:23</td>\n",
              "      <td>2025-04-26 12:23:00</td>\n",
              "    </tr>\n",
              "    <tr>\n",
              "      <th>1</th>\n",
              "      <td>198</td>\n",
              "      <td>2</td>\n",
              "      <td>2025/04/21</td>\n",
              "      <td>2025/04/26</td>\n",
              "      <td>12:26</td>\n",
              "      <td>2025/04/26 12:26</td>\n",
              "      <td>2025-04-26 12:26:00</td>\n",
              "    </tr>\n",
              "    <tr>\n",
              "      <th>2</th>\n",
              "      <td>194</td>\n",
              "      <td>1</td>\n",
              "      <td>2025/04/22</td>\n",
              "      <td>2025/04/26</td>\n",
              "      <td>12:11</td>\n",
              "      <td>2025/04/26 12:11</td>\n",
              "      <td>2025-04-26 12:11:00</td>\n",
              "    </tr>\n",
              "    <tr>\n",
              "      <th>3</th>\n",
              "      <td>192</td>\n",
              "      <td>2</td>\n",
              "      <td>2025/04/22</td>\n",
              "      <td>2025/04/25</td>\n",
              "      <td>12:05</td>\n",
              "      <td>2025/04/25 12:05</td>\n",
              "      <td>2025-04-25 12:05:00</td>\n",
              "    </tr>\n",
              "    <tr>\n",
              "      <th>4</th>\n",
              "      <td>143</td>\n",
              "      <td>2</td>\n",
              "      <td>2025/04/22</td>\n",
              "      <td>2025/04/25</td>\n",
              "      <td>13:45</td>\n",
              "      <td>2025/04/25 13:45</td>\n",
              "      <td>2025-04-25 13:45:00</td>\n",
              "    </tr>\n",
              "    <tr>\n",
              "      <th>5</th>\n",
              "      <td>143</td>\n",
              "      <td>2</td>\n",
              "      <td>2025/04/22</td>\n",
              "      <td>2025/04/26</td>\n",
              "      <td>11:59</td>\n",
              "      <td>2025/04/26 11:59</td>\n",
              "      <td>2025-04-26 11:59:00</td>\n",
              "    </tr>\n",
              "    <tr>\n",
              "      <th>6</th>\n",
              "      <td>171</td>\n",
              "      <td>2</td>\n",
              "      <td>2025/04/22</td>\n",
              "      <td>2025/04/25</td>\n",
              "      <td>12:34</td>\n",
              "      <td>2025/04/25 12:34</td>\n",
              "      <td>2025-04-25 12:34:00</td>\n",
              "    </tr>\n",
              "    <tr>\n",
              "      <th>7</th>\n",
              "      <td>152</td>\n",
              "      <td>1</td>\n",
              "      <td>2025/04/23</td>\n",
              "      <td>2025/04/28</td>\n",
              "      <td>13:59</td>\n",
              "      <td>2025/04/28 13:59</td>\n",
              "      <td>2025-04-28 13:59:00</td>\n",
              "    </tr>\n",
              "    <tr>\n",
              "      <th>8</th>\n",
              "      <td>111</td>\n",
              "      <td>1</td>\n",
              "      <td>2025/04/23</td>\n",
              "      <td>2025/04/26</td>\n",
              "      <td>13:54</td>\n",
              "      <td>2025/04/26 13:54</td>\n",
              "      <td>2025-04-26 13:54:00</td>\n",
              "    </tr>\n",
              "    <tr>\n",
              "      <th>9</th>\n",
              "      <td>121</td>\n",
              "      <td>3</td>\n",
              "      <td>2025/04/23</td>\n",
              "      <td>2025/04/26</td>\n",
              "      <td>11:34</td>\n",
              "      <td>2025/04/26 11:34</td>\n",
              "      <td>2025-04-26 11:34:00</td>\n",
              "    </tr>\n",
              "    <tr>\n",
              "      <th>10</th>\n",
              "      <td>188</td>\n",
              "      <td>2</td>\n",
              "      <td>2025/04/23</td>\n",
              "      <td>2025/04/27</td>\n",
              "      <td>09:34</td>\n",
              "      <td>2025/04/27 09:34</td>\n",
              "      <td>2025-04-27 09:34:00</td>\n",
              "    </tr>\n",
              "    <tr>\n",
              "      <th>11</th>\n",
              "      <td>127</td>\n",
              "      <td>3</td>\n",
              "      <td>2025/04/24</td>\n",
              "      <td>2025/04/29</td>\n",
              "      <td>13:33</td>\n",
              "      <td>2025/04/29 13:33</td>\n",
              "      <td>2025-04-29 13:33:00</td>\n",
              "    </tr>\n",
              "    <tr>\n",
              "      <th>12</th>\n",
              "      <td>179</td>\n",
              "      <td>2</td>\n",
              "      <td>2025/04/24</td>\n",
              "      <td>2025/04/29</td>\n",
              "      <td>14:45</td>\n",
              "      <td>2025/04/29 14:45</td>\n",
              "      <td>2025-04-29 14:45:00</td>\n",
              "    </tr>\n",
              "    <tr>\n",
              "      <th>13</th>\n",
              "      <td>160</td>\n",
              "      <td>1</td>\n",
              "      <td>2025/04/24</td>\n",
              "      <td>2025/04/29</td>\n",
              "      <td>15:01</td>\n",
              "      <td>2025/04/29 15:01</td>\n",
              "      <td>2025-04-29 15:01:00</td>\n",
              "    </tr>\n",
              "    <tr>\n",
              "      <th>14</th>\n",
              "      <td>117</td>\n",
              "      <td>2</td>\n",
              "      <td>2025/04/24</td>\n",
              "      <td>2025/04/29</td>\n",
              "      <td>14:35</td>\n",
              "      <td>2025/04/29 14:35</td>\n",
              "      <td>2025-04-29 14:35:00</td>\n",
              "    </tr>\n",
              "    <tr>\n",
              "      <th>15</th>\n",
              "      <td>130</td>\n",
              "      <td>2</td>\n",
              "      <td>2025/04/25</td>\n",
              "      <td>2025/04/30</td>\n",
              "      <td>12:12</td>\n",
              "      <td>2025/04/30 12:12</td>\n",
              "      <td>2025-04-30 12:12:00</td>\n",
              "    </tr>\n",
              "    <tr>\n",
              "      <th>16</th>\n",
              "      <td>173</td>\n",
              "      <td>3</td>\n",
              "      <td>2025/04/25</td>\n",
              "      <td>2025/04/28</td>\n",
              "      <td>13:12</td>\n",
              "      <td>2025/04/28 13:12</td>\n",
              "      <td>2025-04-28 13:12:00</td>\n",
              "    </tr>\n",
              "    <tr>\n",
              "      <th>17</th>\n",
              "      <td>190</td>\n",
              "      <td>1</td>\n",
              "      <td>2025/04/26</td>\n",
              "      <td>2025/04/29</td>\n",
              "      <td>12:32</td>\n",
              "      <td>2025/04/29 12:32</td>\n",
              "      <td>2025-04-29 12:32:00</td>\n",
              "    </tr>\n",
              "    <tr>\n",
              "      <th>18</th>\n",
              "      <td>141</td>\n",
              "      <td>2</td>\n",
              "      <td>2025/04/26</td>\n",
              "      <td>2025/04/30</td>\n",
              "      <td>12:17</td>\n",
              "      <td>2025/04/30 12:17</td>\n",
              "      <td>2025-04-30 12:17:00</td>\n",
              "    </tr>\n",
              "    <tr>\n",
              "      <th>19</th>\n",
              "      <td>101</td>\n",
              "      <td>1</td>\n",
              "      <td>2025/04/26</td>\n",
              "      <td>2025/04/30</td>\n",
              "      <td>11:56</td>\n",
              "      <td>2025/04/30 11:56</td>\n",
              "      <td>2025-04-30 11:56:00</td>\n",
              "    </tr>\n",
              "    <tr>\n",
              "      <th>20</th>\n",
              "      <td>102</td>\n",
              "      <td>3</td>\n",
              "      <td>2025/04/27</td>\n",
              "      <td>2025/04/30</td>\n",
              "      <td>11:58</td>\n",
              "      <td>2025/04/30 11:58</td>\n",
              "      <td>2025-04-30 11:58:00</td>\n",
              "    </tr>\n",
              "    <tr>\n",
              "      <th>21</th>\n",
              "      <td>112</td>\n",
              "      <td>2</td>\n",
              "      <td>2025/04/27</td>\n",
              "      <td>2025/05/01</td>\n",
              "      <td>10:56</td>\n",
              "      <td>2025/05/01 10:56</td>\n",
              "      <td>2025-05-01 10:56:00</td>\n",
              "    </tr>\n",
              "    <tr>\n",
              "      <th>22</th>\n",
              "      <td>157</td>\n",
              "      <td>1</td>\n",
              "      <td>2025/04/28</td>\n",
              "      <td>2025/05/01</td>\n",
              "      <td>10:33</td>\n",
              "      <td>2025/05/01 10:33</td>\n",
              "      <td>2025-05-01 10:33:00</td>\n",
              "    </tr>\n",
              "    <tr>\n",
              "      <th>23</th>\n",
              "      <td>196</td>\n",
              "      <td>1</td>\n",
              "      <td>2025/04/28</td>\n",
              "      <td>2025/05/02</td>\n",
              "      <td>11:01</td>\n",
              "      <td>2025/05/02 11:01</td>\n",
              "      <td>2025-05-02 11:01:00</td>\n",
              "    </tr>\n",
              "  </tbody>\n",
              "</table>\n",
              "</div>"
            ],
            "text/plain": [
              "     ID  Batch SpecimenDate  ... TestTime          DateTime            datetime\n",
              "0   183      3   2025/04/21  ...    12:23  2025/04/26 12:23 2025-04-26 12:23:00\n",
              "1   198      2   2025/04/21  ...    12:26  2025/04/26 12:26 2025-04-26 12:26:00\n",
              "2   194      1   2025/04/22  ...    12:11  2025/04/26 12:11 2025-04-26 12:11:00\n",
              "3   192      2   2025/04/22  ...    12:05  2025/04/25 12:05 2025-04-25 12:05:00\n",
              "4   143      2   2025/04/22  ...    13:45  2025/04/25 13:45 2025-04-25 13:45:00\n",
              "5   143      2   2025/04/22  ...    11:59  2025/04/26 11:59 2025-04-26 11:59:00\n",
              "6   171      2   2025/04/22  ...    12:34  2025/04/25 12:34 2025-04-25 12:34:00\n",
              "7   152      1   2025/04/23  ...    13:59  2025/04/28 13:59 2025-04-28 13:59:00\n",
              "8   111      1   2025/04/23  ...    13:54  2025/04/26 13:54 2025-04-26 13:54:00\n",
              "9   121      3   2025/04/23  ...    11:34  2025/04/26 11:34 2025-04-26 11:34:00\n",
              "10  188      2   2025/04/23  ...    09:34  2025/04/27 09:34 2025-04-27 09:34:00\n",
              "11  127      3   2025/04/24  ...    13:33  2025/04/29 13:33 2025-04-29 13:33:00\n",
              "12  179      2   2025/04/24  ...    14:45  2025/04/29 14:45 2025-04-29 14:45:00\n",
              "13  160      1   2025/04/24  ...    15:01  2025/04/29 15:01 2025-04-29 15:01:00\n",
              "14  117      2   2025/04/24  ...    14:35  2025/04/29 14:35 2025-04-29 14:35:00\n",
              "15  130      2   2025/04/25  ...    12:12  2025/04/30 12:12 2025-04-30 12:12:00\n",
              "16  173      3   2025/04/25  ...    13:12  2025/04/28 13:12 2025-04-28 13:12:00\n",
              "17  190      1   2025/04/26  ...    12:32  2025/04/29 12:32 2025-04-29 12:32:00\n",
              "18  141      2   2025/04/26  ...    12:17  2025/04/30 12:17 2025-04-30 12:17:00\n",
              "19  101      1   2025/04/26  ...    11:56  2025/04/30 11:56 2025-04-30 11:56:00\n",
              "20  102      3   2025/04/27  ...    11:58  2025/04/30 11:58 2025-04-30 11:58:00\n",
              "21  112      2   2025/04/27  ...    10:56  2025/05/01 10:56 2025-05-01 10:56:00\n",
              "22  157      1   2025/04/28  ...    10:33  2025/05/01 10:33 2025-05-01 10:33:00\n",
              "23  196      1   2025/04/28  ...    11:01  2025/05/02 11:01 2025-05-02 11:01:00\n",
              "\n",
              "[24 rows x 7 columns]"
            ]
          },
          "metadata": {
            "tags": []
          },
          "execution_count": 93
        }
      ]
    },
    {
      "cell_type": "code",
      "metadata": {
        "colab": {
          "base_uri": "https://localhost:8080/"
        },
        "id": "uE82MzVhrym4",
        "outputId": "51690c9c-fdd2-42a3-b444-20ea4c228c70"
      },
      "source": [
        "dt.dtypes"
      ],
      "execution_count": 94,
      "outputs": [
        {
          "output_type": "execute_result",
          "data": {
            "text/plain": [
              "ID                       int64\n",
              "Batch                    int64\n",
              "SpecimenDate            object\n",
              "TestDate                object\n",
              "TestTime                object\n",
              "DateTime                object\n",
              "datetime        datetime64[ns]\n",
              "dtype: object"
            ]
          },
          "metadata": {
            "tags": []
          },
          "execution_count": 94
        }
      ]
    },
    {
      "cell_type": "code",
      "metadata": {
        "colab": {
          "base_uri": "https://localhost:8080/",
          "height": 784
        },
        "id": "hYoTicH2r7Mj",
        "outputId": "18c7fd74-55c7-4e41-b6ce-f7a6fde5ed9d"
      },
      "source": [
        "dt['month'] = dt.datetime.dt.month_name().str.slice(stop=3)\n",
        "dt"
      ],
      "execution_count": 95,
      "outputs": [
        {
          "output_type": "execute_result",
          "data": {
            "text/html": [
              "<div>\n",
              "<style scoped>\n",
              "    .dataframe tbody tr th:only-of-type {\n",
              "        vertical-align: middle;\n",
              "    }\n",
              "\n",
              "    .dataframe tbody tr th {\n",
              "        vertical-align: top;\n",
              "    }\n",
              "\n",
              "    .dataframe thead th {\n",
              "        text-align: right;\n",
              "    }\n",
              "</style>\n",
              "<table border=\"1\" class=\"dataframe\">\n",
              "  <thead>\n",
              "    <tr style=\"text-align: right;\">\n",
              "      <th></th>\n",
              "      <th>ID</th>\n",
              "      <th>Batch</th>\n",
              "      <th>SpecimenDate</th>\n",
              "      <th>TestDate</th>\n",
              "      <th>TestTime</th>\n",
              "      <th>DateTime</th>\n",
              "      <th>datetime</th>\n",
              "      <th>month</th>\n",
              "    </tr>\n",
              "  </thead>\n",
              "  <tbody>\n",
              "    <tr>\n",
              "      <th>0</th>\n",
              "      <td>183</td>\n",
              "      <td>3</td>\n",
              "      <td>2025/04/21</td>\n",
              "      <td>2025/04/26</td>\n",
              "      <td>12:23</td>\n",
              "      <td>2025/04/26 12:23</td>\n",
              "      <td>2025-04-26 12:23:00</td>\n",
              "      <td>Apr</td>\n",
              "    </tr>\n",
              "    <tr>\n",
              "      <th>1</th>\n",
              "      <td>198</td>\n",
              "      <td>2</td>\n",
              "      <td>2025/04/21</td>\n",
              "      <td>2025/04/26</td>\n",
              "      <td>12:26</td>\n",
              "      <td>2025/04/26 12:26</td>\n",
              "      <td>2025-04-26 12:26:00</td>\n",
              "      <td>Apr</td>\n",
              "    </tr>\n",
              "    <tr>\n",
              "      <th>2</th>\n",
              "      <td>194</td>\n",
              "      <td>1</td>\n",
              "      <td>2025/04/22</td>\n",
              "      <td>2025/04/26</td>\n",
              "      <td>12:11</td>\n",
              "      <td>2025/04/26 12:11</td>\n",
              "      <td>2025-04-26 12:11:00</td>\n",
              "      <td>Apr</td>\n",
              "    </tr>\n",
              "    <tr>\n",
              "      <th>3</th>\n",
              "      <td>192</td>\n",
              "      <td>2</td>\n",
              "      <td>2025/04/22</td>\n",
              "      <td>2025/04/25</td>\n",
              "      <td>12:05</td>\n",
              "      <td>2025/04/25 12:05</td>\n",
              "      <td>2025-04-25 12:05:00</td>\n",
              "      <td>Apr</td>\n",
              "    </tr>\n",
              "    <tr>\n",
              "      <th>4</th>\n",
              "      <td>143</td>\n",
              "      <td>2</td>\n",
              "      <td>2025/04/22</td>\n",
              "      <td>2025/04/25</td>\n",
              "      <td>13:45</td>\n",
              "      <td>2025/04/25 13:45</td>\n",
              "      <td>2025-04-25 13:45:00</td>\n",
              "      <td>Apr</td>\n",
              "    </tr>\n",
              "    <tr>\n",
              "      <th>5</th>\n",
              "      <td>143</td>\n",
              "      <td>2</td>\n",
              "      <td>2025/04/22</td>\n",
              "      <td>2025/04/26</td>\n",
              "      <td>11:59</td>\n",
              "      <td>2025/04/26 11:59</td>\n",
              "      <td>2025-04-26 11:59:00</td>\n",
              "      <td>Apr</td>\n",
              "    </tr>\n",
              "    <tr>\n",
              "      <th>6</th>\n",
              "      <td>171</td>\n",
              "      <td>2</td>\n",
              "      <td>2025/04/22</td>\n",
              "      <td>2025/04/25</td>\n",
              "      <td>12:34</td>\n",
              "      <td>2025/04/25 12:34</td>\n",
              "      <td>2025-04-25 12:34:00</td>\n",
              "      <td>Apr</td>\n",
              "    </tr>\n",
              "    <tr>\n",
              "      <th>7</th>\n",
              "      <td>152</td>\n",
              "      <td>1</td>\n",
              "      <td>2025/04/23</td>\n",
              "      <td>2025/04/28</td>\n",
              "      <td>13:59</td>\n",
              "      <td>2025/04/28 13:59</td>\n",
              "      <td>2025-04-28 13:59:00</td>\n",
              "      <td>Apr</td>\n",
              "    </tr>\n",
              "    <tr>\n",
              "      <th>8</th>\n",
              "      <td>111</td>\n",
              "      <td>1</td>\n",
              "      <td>2025/04/23</td>\n",
              "      <td>2025/04/26</td>\n",
              "      <td>13:54</td>\n",
              "      <td>2025/04/26 13:54</td>\n",
              "      <td>2025-04-26 13:54:00</td>\n",
              "      <td>Apr</td>\n",
              "    </tr>\n",
              "    <tr>\n",
              "      <th>9</th>\n",
              "      <td>121</td>\n",
              "      <td>3</td>\n",
              "      <td>2025/04/23</td>\n",
              "      <td>2025/04/26</td>\n",
              "      <td>11:34</td>\n",
              "      <td>2025/04/26 11:34</td>\n",
              "      <td>2025-04-26 11:34:00</td>\n",
              "      <td>Apr</td>\n",
              "    </tr>\n",
              "    <tr>\n",
              "      <th>10</th>\n",
              "      <td>188</td>\n",
              "      <td>2</td>\n",
              "      <td>2025/04/23</td>\n",
              "      <td>2025/04/27</td>\n",
              "      <td>09:34</td>\n",
              "      <td>2025/04/27 09:34</td>\n",
              "      <td>2025-04-27 09:34:00</td>\n",
              "      <td>Apr</td>\n",
              "    </tr>\n",
              "    <tr>\n",
              "      <th>11</th>\n",
              "      <td>127</td>\n",
              "      <td>3</td>\n",
              "      <td>2025/04/24</td>\n",
              "      <td>2025/04/29</td>\n",
              "      <td>13:33</td>\n",
              "      <td>2025/04/29 13:33</td>\n",
              "      <td>2025-04-29 13:33:00</td>\n",
              "      <td>Apr</td>\n",
              "    </tr>\n",
              "    <tr>\n",
              "      <th>12</th>\n",
              "      <td>179</td>\n",
              "      <td>2</td>\n",
              "      <td>2025/04/24</td>\n",
              "      <td>2025/04/29</td>\n",
              "      <td>14:45</td>\n",
              "      <td>2025/04/29 14:45</td>\n",
              "      <td>2025-04-29 14:45:00</td>\n",
              "      <td>Apr</td>\n",
              "    </tr>\n",
              "    <tr>\n",
              "      <th>13</th>\n",
              "      <td>160</td>\n",
              "      <td>1</td>\n",
              "      <td>2025/04/24</td>\n",
              "      <td>2025/04/29</td>\n",
              "      <td>15:01</td>\n",
              "      <td>2025/04/29 15:01</td>\n",
              "      <td>2025-04-29 15:01:00</td>\n",
              "      <td>Apr</td>\n",
              "    </tr>\n",
              "    <tr>\n",
              "      <th>14</th>\n",
              "      <td>117</td>\n",
              "      <td>2</td>\n",
              "      <td>2025/04/24</td>\n",
              "      <td>2025/04/29</td>\n",
              "      <td>14:35</td>\n",
              "      <td>2025/04/29 14:35</td>\n",
              "      <td>2025-04-29 14:35:00</td>\n",
              "      <td>Apr</td>\n",
              "    </tr>\n",
              "    <tr>\n",
              "      <th>15</th>\n",
              "      <td>130</td>\n",
              "      <td>2</td>\n",
              "      <td>2025/04/25</td>\n",
              "      <td>2025/04/30</td>\n",
              "      <td>12:12</td>\n",
              "      <td>2025/04/30 12:12</td>\n",
              "      <td>2025-04-30 12:12:00</td>\n",
              "      <td>Apr</td>\n",
              "    </tr>\n",
              "    <tr>\n",
              "      <th>16</th>\n",
              "      <td>173</td>\n",
              "      <td>3</td>\n",
              "      <td>2025/04/25</td>\n",
              "      <td>2025/04/28</td>\n",
              "      <td>13:12</td>\n",
              "      <td>2025/04/28 13:12</td>\n",
              "      <td>2025-04-28 13:12:00</td>\n",
              "      <td>Apr</td>\n",
              "    </tr>\n",
              "    <tr>\n",
              "      <th>17</th>\n",
              "      <td>190</td>\n",
              "      <td>1</td>\n",
              "      <td>2025/04/26</td>\n",
              "      <td>2025/04/29</td>\n",
              "      <td>12:32</td>\n",
              "      <td>2025/04/29 12:32</td>\n",
              "      <td>2025-04-29 12:32:00</td>\n",
              "      <td>Apr</td>\n",
              "    </tr>\n",
              "    <tr>\n",
              "      <th>18</th>\n",
              "      <td>141</td>\n",
              "      <td>2</td>\n",
              "      <td>2025/04/26</td>\n",
              "      <td>2025/04/30</td>\n",
              "      <td>12:17</td>\n",
              "      <td>2025/04/30 12:17</td>\n",
              "      <td>2025-04-30 12:17:00</td>\n",
              "      <td>Apr</td>\n",
              "    </tr>\n",
              "    <tr>\n",
              "      <th>19</th>\n",
              "      <td>101</td>\n",
              "      <td>1</td>\n",
              "      <td>2025/04/26</td>\n",
              "      <td>2025/04/30</td>\n",
              "      <td>11:56</td>\n",
              "      <td>2025/04/30 11:56</td>\n",
              "      <td>2025-04-30 11:56:00</td>\n",
              "      <td>Apr</td>\n",
              "    </tr>\n",
              "    <tr>\n",
              "      <th>20</th>\n",
              "      <td>102</td>\n",
              "      <td>3</td>\n",
              "      <td>2025/04/27</td>\n",
              "      <td>2025/04/30</td>\n",
              "      <td>11:58</td>\n",
              "      <td>2025/04/30 11:58</td>\n",
              "      <td>2025-04-30 11:58:00</td>\n",
              "      <td>Apr</td>\n",
              "    </tr>\n",
              "    <tr>\n",
              "      <th>21</th>\n",
              "      <td>112</td>\n",
              "      <td>2</td>\n",
              "      <td>2025/04/27</td>\n",
              "      <td>2025/05/01</td>\n",
              "      <td>10:56</td>\n",
              "      <td>2025/05/01 10:56</td>\n",
              "      <td>2025-05-01 10:56:00</td>\n",
              "      <td>May</td>\n",
              "    </tr>\n",
              "    <tr>\n",
              "      <th>22</th>\n",
              "      <td>157</td>\n",
              "      <td>1</td>\n",
              "      <td>2025/04/28</td>\n",
              "      <td>2025/05/01</td>\n",
              "      <td>10:33</td>\n",
              "      <td>2025/05/01 10:33</td>\n",
              "      <td>2025-05-01 10:33:00</td>\n",
              "      <td>May</td>\n",
              "    </tr>\n",
              "    <tr>\n",
              "      <th>23</th>\n",
              "      <td>196</td>\n",
              "      <td>1</td>\n",
              "      <td>2025/04/28</td>\n",
              "      <td>2025/05/02</td>\n",
              "      <td>11:01</td>\n",
              "      <td>2025/05/02 11:01</td>\n",
              "      <td>2025-05-02 11:01:00</td>\n",
              "      <td>May</td>\n",
              "    </tr>\n",
              "  </tbody>\n",
              "</table>\n",
              "</div>"
            ],
            "text/plain": [
              "     ID  Batch SpecimenDate  ...          DateTime            datetime month\n",
              "0   183      3   2025/04/21  ...  2025/04/26 12:23 2025-04-26 12:23:00   Apr\n",
              "1   198      2   2025/04/21  ...  2025/04/26 12:26 2025-04-26 12:26:00   Apr\n",
              "2   194      1   2025/04/22  ...  2025/04/26 12:11 2025-04-26 12:11:00   Apr\n",
              "3   192      2   2025/04/22  ...  2025/04/25 12:05 2025-04-25 12:05:00   Apr\n",
              "4   143      2   2025/04/22  ...  2025/04/25 13:45 2025-04-25 13:45:00   Apr\n",
              "5   143      2   2025/04/22  ...  2025/04/26 11:59 2025-04-26 11:59:00   Apr\n",
              "6   171      2   2025/04/22  ...  2025/04/25 12:34 2025-04-25 12:34:00   Apr\n",
              "7   152      1   2025/04/23  ...  2025/04/28 13:59 2025-04-28 13:59:00   Apr\n",
              "8   111      1   2025/04/23  ...  2025/04/26 13:54 2025-04-26 13:54:00   Apr\n",
              "9   121      3   2025/04/23  ...  2025/04/26 11:34 2025-04-26 11:34:00   Apr\n",
              "10  188      2   2025/04/23  ...  2025/04/27 09:34 2025-04-27 09:34:00   Apr\n",
              "11  127      3   2025/04/24  ...  2025/04/29 13:33 2025-04-29 13:33:00   Apr\n",
              "12  179      2   2025/04/24  ...  2025/04/29 14:45 2025-04-29 14:45:00   Apr\n",
              "13  160      1   2025/04/24  ...  2025/04/29 15:01 2025-04-29 15:01:00   Apr\n",
              "14  117      2   2025/04/24  ...  2025/04/29 14:35 2025-04-29 14:35:00   Apr\n",
              "15  130      2   2025/04/25  ...  2025/04/30 12:12 2025-04-30 12:12:00   Apr\n",
              "16  173      3   2025/04/25  ...  2025/04/28 13:12 2025-04-28 13:12:00   Apr\n",
              "17  190      1   2025/04/26  ...  2025/04/29 12:32 2025-04-29 12:32:00   Apr\n",
              "18  141      2   2025/04/26  ...  2025/04/30 12:17 2025-04-30 12:17:00   Apr\n",
              "19  101      1   2025/04/26  ...  2025/04/30 11:56 2025-04-30 11:56:00   Apr\n",
              "20  102      3   2025/04/27  ...  2025/04/30 11:58 2025-04-30 11:58:00   Apr\n",
              "21  112      2   2025/04/27  ...  2025/05/01 10:56 2025-05-01 10:56:00   May\n",
              "22  157      1   2025/04/28  ...  2025/05/01 10:33 2025-05-01 10:33:00   May\n",
              "23  196      1   2025/04/28  ...  2025/05/02 11:01 2025-05-02 11:01:00   May\n",
              "\n",
              "[24 rows x 8 columns]"
            ]
          },
          "metadata": {
            "tags": []
          },
          "execution_count": 95
        }
      ]
    },
    {
      "cell_type": "code",
      "metadata": {
        "colab": {
          "base_uri": "https://localhost:8080/"
        },
        "id": "Ye-R1-fJr8VI",
        "outputId": "9f446ed5-6baf-4f6b-9a24-b56435fa11de"
      },
      "source": [
        "dt.datetime.dt.year  # The year"
      ],
      "execution_count": 96,
      "outputs": [
        {
          "output_type": "execute_result",
          "data": {
            "text/plain": [
              "0     2025\n",
              "1     2025\n",
              "2     2025\n",
              "3     2025\n",
              "4     2025\n",
              "5     2025\n",
              "6     2025\n",
              "7     2025\n",
              "8     2025\n",
              "9     2025\n",
              "10    2025\n",
              "11    2025\n",
              "12    2025\n",
              "13    2025\n",
              "14    2025\n",
              "15    2025\n",
              "16    2025\n",
              "17    2025\n",
              "18    2025\n",
              "19    2025\n",
              "20    2025\n",
              "21    2025\n",
              "22    2025\n",
              "23    2025\n",
              "Name: datetime, dtype: int64"
            ]
          },
          "metadata": {
            "tags": []
          },
          "execution_count": 96
        }
      ]
    },
    {
      "cell_type": "code",
      "metadata": {
        "colab": {
          "base_uri": "https://localhost:8080/"
        },
        "id": "gqGZ4g_qr-AA",
        "outputId": "d2004d06-7f1f-4f67-a5c8-6c0379adb4d1"
      },
      "source": [
        "dt.datetime.dt.hour  # The hour"
      ],
      "execution_count": 97,
      "outputs": [
        {
          "output_type": "execute_result",
          "data": {
            "text/plain": [
              "0     12\n",
              "1     12\n",
              "2     12\n",
              "3     12\n",
              "4     13\n",
              "5     11\n",
              "6     12\n",
              "7     13\n",
              "8     13\n",
              "9     11\n",
              "10     9\n",
              "11    13\n",
              "12    14\n",
              "13    15\n",
              "14    14\n",
              "15    12\n",
              "16    13\n",
              "17    12\n",
              "18    12\n",
              "19    11\n",
              "20    11\n",
              "21    10\n",
              "22    10\n",
              "23    11\n",
              "Name: datetime, dtype: int64"
            ]
          },
          "metadata": {
            "tags": []
          },
          "execution_count": 97
        }
      ]
    },
    {
      "cell_type": "code",
      "metadata": {
        "id": "NBohPpjhr_YE"
      },
      "source": [
        ""
      ],
      "execution_count": null,
      "outputs": []
    }
  ]
}